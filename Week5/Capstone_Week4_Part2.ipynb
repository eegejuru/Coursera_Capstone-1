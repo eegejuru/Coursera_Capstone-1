{
 "cells": [
  {
   "cell_type": "markdown",
   "metadata": {},
   "source": [
    "# <font color=red>Battle of Neighborhoods _(Week 1 & Week 2)_</font>"
   ]
  },
  {
   "cell_type": "markdown",
   "metadata": {},
   "source": [
    "## 1. Description of the Problem and Discussion of the Background <br>\n",
    "##     (Introduction Section, Week 1)\n",
    "\n",
    "### Prospects of a Lunch Restaurant, Close to Office Areas in Tokyo, Japan.  "
   ]
  },
  {
   "cell_type": "markdown",
   "metadata": {},
   "source": [
    "Tokyo, where I am currently staying, is the most populous metropolitan area in the world. Currently ranked 3rd in the global economic power index, Tokyo is definitely one of the best places to start up a new business. \n",
    "\n",
    "During the daytime, specially in the morning and lunch hours, office areas provide huge opportunities for restaurants. Reasonably priced (one lunch meal $ 8\\text{\\$} $) shops are usually always full during the lunch hours (11 am -- 2 pm) and, given this scenario, we will go through the benefits and pitfalls of opening a breakfast cum lunch restaurants in highly densed office places. Usually the profit margin for a decent restaurant lie within $15 - 20\\% $ range but, it can even go high enough to $35\\%$, as discussed [here](https://www.ichefpos.com/en-sg/blog/japanese-restaurants-profits). \n",
    "\n",
    "![Tokyo at Night](tokyo_night.jpg)\n",
    "\n",
    "\n",
    "\n",
    "We will go through each step of this project and address them separately. For this week I just describe the initial data preparation and future steps to start the battle of neighborhoods in Tokyo. \n",
    "\n",
    "1. <font color=green> Obtain the Data </font> <br>\n",
    "\n",
    "    1.a. Name of the 23 Wards, area and population from web scrapping <br>\n",
    "\n",
    "    1.b. Obtain information about best business districts. <br>\n",
    "    \n",
    "    1.c. Use Foresquare Data to obtain info about restaurants. <br> \n",
    "\n",
    "\n",
    "2. <font color=green> Data Visualization and Some Simple Statistical Analysis. </font> \n",
    "\n",
    "3. <font color=green> Analysis Using Clustering, Specially K-Means Clustering. </font> <br>\n",
    "\n",
    "    3.a. Maximize the number of clusters. <br>\n",
    "    \n",
    "    3.b. Visualization using Chloropleth Map <br>\n",
    "    \n",
    "\n",
    "4. <font color=green> Compare the Neighborhoods to Find the Best Place for Starting up a Restaurant. </font>   \n",
    "\n",
    "\n",
    "5. <font color=green> Inference From these Results and related Conclusions. </font> <br>\n",
    "\n",
    "\n",
    "<font color=orange>__Target Audience__</font>\n",
    "\n",
    "1. Business personnel who wants to invest or open a restaurant. This analysis will be a comprehensive guide to <br>\n",
    "   start  or expand restaurants targeting the large pool of office workers in Tokyo during lunch hours. \n",
    "2. Freelancer who loves to have their own restaurant as a side business. This analysis will give an idea, how <br>\n",
    "   benificial it is to open a restaurant and what are the pros and cons of this business. \n",
    "3. New graduates, to find reasonable lunch/breakfast place close to office. \n",
    "4. Budding Data Scientists, who wants to implement some of the most used Exploratory Data Analysis techniques to <br>\n",
    "   obtain necessary data, analyze it and, finally be able to tell a story out of it. "
   ]
  },
  {
   "cell_type": "markdown",
   "metadata": {},
   "source": [
    "## 2. Initial Data Preparation (Week 1)\n",
    "\n",
    "#### 2.1. Get The Names of Wards, Major Districts and Population from Wikipedia <br>\n",
    "#### 2.2. Processing the Information From Wiki To Make Necessary Lists <br>\n",
    "#### 2.3. Get the Coordinates of the Major Districts <br>\n",
    "#### 2.4. Check and Compare with Google Search and Refine if Necessary\n",
    "\n",
    "I have described these steps detailed as a part of Week 1 Assignment in [a python notebook](https://github.com/suvoooo/Coursera_Capstone/blob/master/Week4/Capstone_Battle_of_Neighborhoods_Part1.ipynb), and also made a more comprehensible [.pdf](https://github.com/suvoooo/Coursera_Capstone/blob/master/Week4/Week4_Description_Include_Code.pdf) file. \n",
    "\n",
    "So here we start with using [Foursquare](https://developer.foursquare.com/) and use many Exploratory Data Analysis Techniques to learn from data and visualize to strengthen our understanding.   "
   ]
  },
  {
   "cell_type": "markdown",
   "metadata": {},
   "source": [
    "## 3. Exploratory Data Analysis. (Week 2)"
   ]
  },
  {
   "cell_type": "code",
   "execution_count": 1,
   "metadata": {
    "ExecuteTime": {
     "end_time": "2020-08-03T20:35:52.875595Z",
     "start_time": "2020-08-03T20:35:52.217057Z"
    }
   },
   "outputs": [],
   "source": [
    "# import the necessary Libraries \n",
    "import sys\n",
    "import requests\n",
    "import json\n",
    "\n",
    "import matplotlib.pyplot as plt\n",
    "import matplotlib.cm as cm\n",
    "import matplotlib.colors as colors\n",
    "\n",
    "\n",
    "import io\n",
    "from bs4 import BeautifulSoup\n",
    "import pandas as pd\n",
    "import numpy as np\n",
    "\n",
    "from sklearn.cluster import KMeans"
   ]
  },
  {
   "cell_type": "markdown",
   "metadata": {},
   "source": [
    "### First, Get The Names of Wards, Major Districts and Population from Wikipedia (From Week 1)"
   ]
  },
  {
   "cell_type": "code",
   "execution_count": 2,
   "metadata": {
    "ExecuteTime": {
     "end_time": "2020-08-03T20:36:04.903893Z",
     "start_time": "2020-08-03T20:35:52.876773Z"
    }
   },
   "outputs": [
    {
     "name": "stdout",
     "output_type": "stream",
     "text": [
      "[]\n",
      "[<td>01</td>, <td><a class=\"image\" href=\"/wiki/File:Flag_of_Chiyoda,_Tokyo.svg\"><img alt=\"Flag of Chiyoda, Tokyo.svg\" class=\"thumbborder\" data-file-height=\"540\" data-file-width=\"810\" decoding=\"async\" height=\"33\" src=\"//upload.wikimedia.org/wikipedia/commons/thumb/e/ec/Flag_of_Chiyoda%2C_Tokyo.svg/50px-Flag_of_Chiyoda%2C_Tokyo.svg.png\" srcset=\"//upload.wikimedia.org/wikipedia/commons/thumb/e/ec/Flag_of_Chiyoda%2C_Tokyo.svg/75px-Flag_of_Chiyoda%2C_Tokyo.svg.png 1.5x, //upload.wikimedia.org/wikipedia/commons/thumb/e/ec/Flag_of_Chiyoda%2C_Tokyo.svg/100px-Flag_of_Chiyoda%2C_Tokyo.svg.png 2x\" width=\"50\"/></a></td>, <td><a href=\"/wiki/Chiyoda,_Tokyo\" title=\"Chiyoda, Tokyo\">Chiyoda</a></td>, <td>千代田区\n",
      "</td>, <td><span style=\"visibility:hidden;color:transparent;\">0</span><span style=\"visibility:hidden;color:transparent;\">0</span>59,441</td>, <td><span style=\"visibility:hidden;color:transparent;\">0</span>5,100</td>, <td><span style=\"visibility:hidden;color:transparent;\">0</span>11.66\n",
      "</td>, <td><a href=\"/wiki/Nagatach%C5%8D\" title=\"Nagatachō\">Nagatachō</a>, <a href=\"/wiki/Kasumigaseki\" title=\"Kasumigaseki\">Kasumigaseki</a>, <a href=\"/wiki/%C5%8Ctemachi\" title=\"Ōtemachi\">Ōtemachi</a>, <a href=\"/wiki/Marunouchi\" title=\"Marunouchi\">Marunouchi</a>, <a href=\"/wiki/Akihabara\" title=\"Akihabara\">Akihabara</a>, <a href=\"/wiki/Y%C5%ABrakuch%C5%8D\" title=\"Yūrakuchō\">Yūrakuchō</a>, <a class=\"mw-redirect\" href=\"/wiki/Iidabashi,_Tokyo\" title=\"Iidabashi, Tokyo\">Iidabashi</a>, <a href=\"/wiki/Kanda,_Tokyo\" title=\"Kanda, Tokyo\">Kanda</a>\n",
      "</td>]\n",
      "<td>01</td>\n",
      "[<td>02</td>, <td><a class=\"image\" href=\"/wiki/File:Flag_of_Chuo,_Tokyo.svg\"><img alt=\"Flag of Chuo, Tokyo.svg\" class=\"thumbborder\" data-file-height=\"600\" data-file-width=\"900\" decoding=\"async\" height=\"33\" src=\"//upload.wikimedia.org/wikipedia/commons/thumb/4/40/Flag_of_Chuo%2C_Tokyo.svg/50px-Flag_of_Chuo%2C_Tokyo.svg.png\" srcset=\"//upload.wikimedia.org/wikipedia/commons/thumb/4/40/Flag_of_Chuo%2C_Tokyo.svg/75px-Flag_of_Chuo%2C_Tokyo.svg.png 1.5x, //upload.wikimedia.org/wikipedia/commons/thumb/4/40/Flag_of_Chuo%2C_Tokyo.svg/100px-Flag_of_Chuo%2C_Tokyo.svg.png 2x\" width=\"50\"/></a></td>, <td><a href=\"/wiki/Ch%C5%AB%C5%8D,_Tokyo\" title=\"Chūō, Tokyo\">Chūō</a></td>, <td>中央区\n",
      "</td>, <td><span style=\"visibility:hidden;color:transparent;\">0</span>147,620</td>, <td>14,460</td>, <td><span style=\"visibility:hidden;color:transparent;\">0</span>10.21\n",
      "</td>, <td><a href=\"/wiki/Nihonbashi\" title=\"Nihonbashi\">Nihonbashi</a>, Kayabachō, <a href=\"/wiki/Ginza\" title=\"Ginza\">Ginza</a>, <a href=\"/wiki/Tsukiji\" title=\"Tsukiji\">Tsukiji</a>, <a href=\"/wiki/Hatch%C5%8Dbori_Station_(Tokyo)\" title=\"Hatchōbori Station (Tokyo)\">Hatchōbori</a>, Shinkawa, <a href=\"/wiki/Tsukishima\" title=\"Tsukishima\">Tsukishima</a>, Kachidoki, Tsukuda\n",
      "</td>]\n",
      "<td>02</td>\n",
      "[<td>03</td>, <td><a class=\"image\" href=\"/wiki/File:Flag_of_Minato,_Tokyo.svg\"><img alt=\"Flag of Minato, Tokyo.svg\" class=\"thumbborder\" data-file-height=\"600\" data-file-width=\"900\" decoding=\"async\" height=\"33\" src=\"//upload.wikimedia.org/wikipedia/commons/thumb/a/a4/Flag_of_Minato%2C_Tokyo.svg/50px-Flag_of_Minato%2C_Tokyo.svg.png\" srcset=\"//upload.wikimedia.org/wikipedia/commons/thumb/a/a4/Flag_of_Minato%2C_Tokyo.svg/75px-Flag_of_Minato%2C_Tokyo.svg.png 1.5x, //upload.wikimedia.org/wikipedia/commons/thumb/a/a4/Flag_of_Minato%2C_Tokyo.svg/100px-Flag_of_Minato%2C_Tokyo.svg.png 2x\" width=\"50\"/></a></td>, <td><a href=\"/wiki/Minato,_Tokyo\" title=\"Minato, Tokyo\">Minato</a></td>, <td>港区\n",
      "</td>, <td><span style=\"visibility:hidden;color:transparent;\">0</span>248,071</td>, <td>12,180</td>, <td><span style=\"visibility:hidden;color:transparent;\">0</span>20.37\n",
      "</td>, <td><a href=\"/wiki/Odaiba\" title=\"Odaiba\">Odaiba</a>, <a href=\"/wiki/Shinbashi\" title=\"Shinbashi\">Shinbashi</a>, <a href=\"/wiki/Hamamatsuch%C5%8D\" title=\"Hamamatsuchō\">Hamamatsuchō</a>, <a href=\"/wiki/Mita,_Minato,_Tokyo\" title=\"Mita, Minato, Tokyo\">Mita</a>, <a href=\"/wiki/Roppongi\" title=\"Roppongi\">Roppongi</a>, <a href=\"/wiki/Toranomon\" title=\"Toranomon\">Toranomon</a>, <a href=\"/wiki/Aoyama,_Minato,_Tokyo\" title=\"Aoyama, Minato, Tokyo\">Aoyama</a>, <a href=\"/wiki/Azabu\" title=\"Azabu\">Azabu</a>\n",
      "</td>]\n",
      "<td>03</td>\n",
      "[<td>04</td>, <td><a class=\"image\" href=\"/wiki/File:Flag_of_Shinjuku,_Tokyo.svg\"><img alt=\"Flag of Shinjuku, Tokyo.svg\" class=\"thumbborder\" data-file-height=\"600\" data-file-width=\"900\" decoding=\"async\" height=\"33\" src=\"//upload.wikimedia.org/wikipedia/commons/thumb/7/76/Flag_of_Shinjuku%2C_Tokyo.svg/50px-Flag_of_Shinjuku%2C_Tokyo.svg.png\" srcset=\"//upload.wikimedia.org/wikipedia/commons/thumb/7/76/Flag_of_Shinjuku%2C_Tokyo.svg/75px-Flag_of_Shinjuku%2C_Tokyo.svg.png 1.5x, //upload.wikimedia.org/wikipedia/commons/thumb/7/76/Flag_of_Shinjuku%2C_Tokyo.svg/100px-Flag_of_Shinjuku%2C_Tokyo.svg.png 2x\" width=\"50\"/></a></td>, <td><a href=\"/wiki/Shinjuku\" title=\"Shinjuku\">Shinjuku</a></td>, <td>新宿区\n",
      "</td>, <td><span style=\"visibility:hidden;color:transparent;\">0</span>339,211</td>, <td>18,620</td>, <td><span style=\"visibility:hidden;color:transparent;\">0</span>18.22\n",
      "</td>, <td><a href=\"/wiki/Shinjuku_Station\" title=\"Shinjuku Station\">Shinjuku</a>, <a href=\"/wiki/Takadanobaba\" title=\"Takadanobaba\">Takadanobaba</a>, <a href=\"/wiki/%C5%8Ckubo,_Tokyo\" title=\"Ōkubo, Tokyo\">Ōkubo</a>, <a href=\"/wiki/Kagurazaka\" title=\"Kagurazaka\">Kagurazaka</a>, <a href=\"/wiki/Ichigaya\" title=\"Ichigaya\">Ichigaya</a>, <a href=\"/wiki/Yotsuya\" title=\"Yotsuya\">Yotsuya</a>\n",
      "</td>]\n",
      "<td>04</td>\n",
      "[<td>05</td>, <td><a class=\"image\" href=\"/wiki/File:Flag_of_Bunkyo,_Tokyo.svg\"><img alt=\"Flag of Bunkyo, Tokyo.svg\" class=\"thumbborder\" data-file-height=\"600\" data-file-width=\"900\" decoding=\"async\" height=\"33\" src=\"//upload.wikimedia.org/wikipedia/commons/thumb/a/af/Flag_of_Bunkyo%2C_Tokyo.svg/50px-Flag_of_Bunkyo%2C_Tokyo.svg.png\" srcset=\"//upload.wikimedia.org/wikipedia/commons/thumb/a/af/Flag_of_Bunkyo%2C_Tokyo.svg/75px-Flag_of_Bunkyo%2C_Tokyo.svg.png 1.5x, //upload.wikimedia.org/wikipedia/commons/thumb/a/af/Flag_of_Bunkyo%2C_Tokyo.svg/100px-Flag_of_Bunkyo%2C_Tokyo.svg.png 2x\" width=\"50\"/></a></td>, <td><a href=\"/wiki/Bunky%C5%8D\" title=\"Bunkyō\">Bunkyō</a></td>, <td>文京区\n",
      "</td>, <td><span style=\"visibility:hidden;color:transparent;\">0</span>223,389</td>, <td>19,790</td>, <td><span style=\"visibility:hidden;color:transparent;\">0</span>11.29\n",
      "</td>, <td><a href=\"/wiki/Hong%C5%8D,_Tokyo\" title=\"Hongō, Tokyo\">Hongō</a>, <a href=\"/wiki/Yayoi,_Tokyo\" title=\"Yayoi, Tokyo\">Yayoi</a>, Hakusan\n",
      "</td>]\n",
      "<td>05</td>\n",
      "[<td>06</td>, <td><a class=\"image\" href=\"/wiki/File:Flag_of_Taito,_Tokyo.svg\"><img alt=\"Flag of Taito, Tokyo.svg\" class=\"thumbborder\" data-file-height=\"400\" data-file-width=\"600\" decoding=\"async\" height=\"33\" src=\"//upload.wikimedia.org/wikipedia/commons/thumb/8/81/Flag_of_Taito%2C_Tokyo.svg/50px-Flag_of_Taito%2C_Tokyo.svg.png\" srcset=\"//upload.wikimedia.org/wikipedia/commons/thumb/8/81/Flag_of_Taito%2C_Tokyo.svg/75px-Flag_of_Taito%2C_Tokyo.svg.png 1.5x, //upload.wikimedia.org/wikipedia/commons/thumb/8/81/Flag_of_Taito%2C_Tokyo.svg/100px-Flag_of_Taito%2C_Tokyo.svg.png 2x\" width=\"50\"/></a></td>, <td><a href=\"/wiki/Tait%C5%8D\" title=\"Taitō\">Taitō</a></td>, <td>台東区\n",
      "</td>, <td><span style=\"visibility:hidden;color:transparent;\">0</span>200,486</td>, <td>19,830</td>, <td><span style=\"visibility:hidden;color:transparent;\">0</span>10.11\n",
      "</td>, <td><a href=\"/wiki/Ueno\" title=\"Ueno\">Ueno</a>, <a href=\"/wiki/Asakusa\" title=\"Asakusa\">Asakusa</a>\n",
      "</td>]\n",
      "<td>06</td>\n",
      "[<td>07</td>, <td><a class=\"image\" href=\"/wiki/File:Flag_of_Sumida,_Tokyo.svg\"><img alt=\"Flag of Sumida, Tokyo.svg\" class=\"thumbborder\" data-file-height=\"600\" data-file-width=\"900\" decoding=\"async\" height=\"33\" src=\"//upload.wikimedia.org/wikipedia/commons/thumb/4/4e/Flag_of_Sumida%2C_Tokyo.svg/50px-Flag_of_Sumida%2C_Tokyo.svg.png\" srcset=\"//upload.wikimedia.org/wikipedia/commons/thumb/4/4e/Flag_of_Sumida%2C_Tokyo.svg/75px-Flag_of_Sumida%2C_Tokyo.svg.png 1.5x, //upload.wikimedia.org/wikipedia/commons/thumb/4/4e/Flag_of_Sumida%2C_Tokyo.svg/100px-Flag_of_Sumida%2C_Tokyo.svg.png 2x\" width=\"50\"/></a></td>, <td><a href=\"/wiki/Sumida,_Tokyo\" title=\"Sumida, Tokyo\">Sumida</a></td>, <td>墨田区\n",
      "</td>, <td><span style=\"visibility:hidden;color:transparent;\">0</span>260,358</td>, <td>18,910</td>, <td><span style=\"visibility:hidden;color:transparent;\">0</span>13.77\n",
      "</td>, <td><a href=\"/wiki/Kinshich%C5%8D_Station\" title=\"Kinshichō Station\">Kinshichō</a>, <a href=\"/wiki/Morishita_Station_(Tokyo)\" title=\"Morishita Station (Tokyo)\">Morishita</a>, <a href=\"/wiki/Ry%C5%8Dgoku\" title=\"Ryōgoku\">Ryōgoku</a>\n",
      "</td>]\n",
      "<td>07</td>\n",
      "[<td>08</td>, <td><a class=\"image\" href=\"/wiki/File:Flag_of_Koto,_Tokyo.svg\"><img alt=\"Flag of Koto, Tokyo.svg\" class=\"thumbborder\" data-file-height=\"400\" data-file-width=\"600\" decoding=\"async\" height=\"33\" src=\"//upload.wikimedia.org/wikipedia/commons/thumb/6/61/Flag_of_Koto%2C_Tokyo.svg/50px-Flag_of_Koto%2C_Tokyo.svg.png\" srcset=\"//upload.wikimedia.org/wikipedia/commons/thumb/6/61/Flag_of_Koto%2C_Tokyo.svg/75px-Flag_of_Koto%2C_Tokyo.svg.png 1.5x, //upload.wikimedia.org/wikipedia/commons/thumb/6/61/Flag_of_Koto%2C_Tokyo.svg/100px-Flag_of_Koto%2C_Tokyo.svg.png 2x\" width=\"50\"/></a></td>, <td><a class=\"mw-redirect\" href=\"/wiki/Koto,_Tokyo\" title=\"Koto, Tokyo\">Kōtō</a></td>, <td>江東区\n",
      "</td>, <td><span style=\"visibility:hidden;color:transparent;\">0</span>502,579</td>, <td>12,510</td>, <td><span style=\"visibility:hidden;color:transparent;\">0</span>40.16\n",
      "</td>, <td><a href=\"/wiki/Kiba_Station\" title=\"Kiba Station\">Kiba</a>, <a href=\"/wiki/Ariake,_Tokyo\" title=\"Ariake, Tokyo\">Ariake</a>, Kameido, Tōyōchō, Monzennakachō, <a class=\"mw-redirect\" href=\"/wiki/Fukagawa_(Tokyo)\" title=\"Fukagawa (Tokyo)\">Fukagawa</a>, Kiyosumi, Shirakawa, Etchūjima, Sunamachi, Aomi\n",
      "</td>]\n",
      "<td>08</td>\n",
      "[<td>09</td>, <td><a class=\"image\" href=\"/wiki/File:Flag_of_Shinagawa,_Tokyo.svg\"><img alt=\"Flag of Shinagawa, Tokyo.svg\" class=\"thumbborder\" data-file-height=\"600\" data-file-width=\"900\" decoding=\"async\" height=\"33\" src=\"//upload.wikimedia.org/wikipedia/commons/thumb/a/ab/Flag_of_Shinagawa%2C_Tokyo.svg/50px-Flag_of_Shinagawa%2C_Tokyo.svg.png\" srcset=\"//upload.wikimedia.org/wikipedia/commons/thumb/a/ab/Flag_of_Shinagawa%2C_Tokyo.svg/75px-Flag_of_Shinagawa%2C_Tokyo.svg.png 1.5x, //upload.wikimedia.org/wikipedia/commons/thumb/a/ab/Flag_of_Shinagawa%2C_Tokyo.svg/100px-Flag_of_Shinagawa%2C_Tokyo.svg.png 2x\" width=\"50\"/></a></td>, <td><a href=\"/wiki/Shinagawa\" title=\"Shinagawa\">Shinagawa</a></td>, <td>品川区\n",
      "</td>, <td><span style=\"visibility:hidden;color:transparent;\">0</span>392,492</td>, <td>17,180</td>, <td><span style=\"visibility:hidden;color:transparent;\">0</span>22.84\n",
      "</td>, <td><a href=\"/wiki/Shinagawa\" title=\"Shinagawa\">Shinagawa</a>, <a href=\"/wiki/Gotanda\" title=\"Gotanda\">Gotanda</a>, <a href=\"/wiki/%C5%8Csaki,_Tokyo\" title=\"Ōsaki, Tokyo\">Ōsaki</a>, Hatanodai, Ōimachi, <a href=\"/wiki/Tenn%C5%8Dzu_Isle\" title=\"Tennōzu Isle\">Tennōzu</a>\n",
      "</td>]\n",
      "<td>09</td>\n",
      "[<td>10</td>, <td><a class=\"image\" href=\"/wiki/File:Flag_of_Meguro,_Tokyo.svg\"><img alt=\"Flag of Meguro, Tokyo.svg\" class=\"thumbborder\" data-file-height=\"600\" data-file-width=\"900\" decoding=\"async\" height=\"33\" src=\"//upload.wikimedia.org/wikipedia/commons/thumb/0/07/Flag_of_Meguro%2C_Tokyo.svg/50px-Flag_of_Meguro%2C_Tokyo.svg.png\" srcset=\"//upload.wikimedia.org/wikipedia/commons/thumb/0/07/Flag_of_Meguro%2C_Tokyo.svg/75px-Flag_of_Meguro%2C_Tokyo.svg.png 1.5x, //upload.wikimedia.org/wikipedia/commons/thumb/0/07/Flag_of_Meguro%2C_Tokyo.svg/100px-Flag_of_Meguro%2C_Tokyo.svg.png 2x\" width=\"50\"/></a></td>, <td><a href=\"/wiki/Meguro\" title=\"Meguro\">Meguro</a></td>, <td>目黒区\n",
      "</td>, <td><span style=\"visibility:hidden;color:transparent;\">0</span>280,283</td>, <td>19,110</td>, <td><span style=\"visibility:hidden;color:transparent;\">0</span>14.67\n",
      "</td>, <td><a href=\"/wiki/Meguro\" title=\"Meguro\">Meguro</a>, <a class=\"mw-redirect\" href=\"/wiki/Nakameguro,_Meguro,_Tokyo\" title=\"Nakameguro, Meguro, Tokyo\">Nakameguro</a>, <a class=\"mw-redirect\" href=\"/wiki/Jiyugaoka\" title=\"Jiyugaoka\">Jiyugaoka</a>, <a href=\"/wiki/Komaba\" title=\"Komaba\">Komaba</a>, <a href=\"/wiki/Aobadai\" title=\"Aobadai\">Aobadai</a>\n",
      "</td>]\n",
      "<td>10</td>\n",
      "[<td>11</td>, <td><a class=\"image\" href=\"/wiki/File:Flag_of_Ota,_Tokyo.svg\"><img alt=\"Flag of Ota, Tokyo.svg\" class=\"thumbborder\" data-file-height=\"600\" data-file-width=\"900\" decoding=\"async\" height=\"33\" src=\"//upload.wikimedia.org/wikipedia/commons/thumb/6/68/Flag_of_Ota%2C_Tokyo.svg/50px-Flag_of_Ota%2C_Tokyo.svg.png\" srcset=\"//upload.wikimedia.org/wikipedia/commons/thumb/6/68/Flag_of_Ota%2C_Tokyo.svg/75px-Flag_of_Ota%2C_Tokyo.svg.png 1.5x, //upload.wikimedia.org/wikipedia/commons/thumb/6/68/Flag_of_Ota%2C_Tokyo.svg/100px-Flag_of_Ota%2C_Tokyo.svg.png 2x\" width=\"50\"/></a></td>, <td><span style=\"display:none\">Ota</span><a href=\"/wiki/%C5%8Cta,_Tokyo\" title=\"Ōta, Tokyo\">Ōta</a></td>, <td>大田区\n",
      "</td>, <td><span style=\"visibility:hidden;color:transparent;\">0</span>722,608</td>, <td>11,910</td>, <td><span style=\"visibility:hidden;color:transparent;\">0</span>60.66\n",
      "</td>, <td><a class=\"mw-redirect\" href=\"/wiki/%C5%8Cmori\" title=\"Ōmori\">Ōmori</a>, <a class=\"mw-redirect\" href=\"/wiki/Kamata,_%C5%8Cta,_Tokyo\" title=\"Kamata, Ōta, Tokyo\">Kamata</a>, <a href=\"/wiki/Haneda,_%C5%8Cta,_Tokyo\" title=\"Haneda, Ōta, Tokyo\">Haneda</a>, <a href=\"/wiki/Den-en-ch%C5%8Dfu\" title=\"Den-en-chōfu\">Den-en-chōfu</a>\n",
      "</td>]\n",
      "<td>11</td>\n",
      "[<td>12</td>, <td><a class=\"image\" href=\"/wiki/File:Flag_of_Setagaya,_Tokyo.svg\"><img alt=\"Flag of Setagaya, Tokyo.svg\" class=\"thumbborder\" data-file-height=\"600\" data-file-width=\"900\" decoding=\"async\" height=\"33\" src=\"//upload.wikimedia.org/wikipedia/commons/thumb/c/c9/Flag_of_Setagaya%2C_Tokyo.svg/50px-Flag_of_Setagaya%2C_Tokyo.svg.png\" srcset=\"//upload.wikimedia.org/wikipedia/commons/thumb/c/c9/Flag_of_Setagaya%2C_Tokyo.svg/75px-Flag_of_Setagaya%2C_Tokyo.svg.png 1.5x, //upload.wikimedia.org/wikipedia/commons/thumb/c/c9/Flag_of_Setagaya%2C_Tokyo.svg/100px-Flag_of_Setagaya%2C_Tokyo.svg.png 2x\" width=\"50\"/></a></td>, <td><a href=\"/wiki/Setagaya\" title=\"Setagaya\">Setagaya</a></td>, <td>世田谷区\n",
      "</td>, <td><span style=\"visibility:hidden;color:transparent;\">0</span>910,868</td>, <td>15,690</td>, <td><span style=\"visibility:hidden;color:transparent;\">0</span>58.05\n",
      "</td>, <td><a href=\"/wiki/Setagaya\" title=\"Setagaya\">Setagaya</a>, <a href=\"/wiki/Shimokitazawa\" title=\"Shimokitazawa\">Shimokitazawa</a>, Kinuta, Karasuyama, Tamagawa\n",
      "</td>]\n",
      "<td>12</td>\n",
      "[<td>13</td>, <td><a class=\"image\" href=\"/wiki/File:Flag_of_Shibuya,_Tokyo.svg\"><img alt=\"Flag of Shibuya, Tokyo.svg\" class=\"thumbborder\" data-file-height=\"600\" data-file-width=\"900\" decoding=\"async\" height=\"33\" src=\"//upload.wikimedia.org/wikipedia/commons/thumb/3/31/Flag_of_Shibuya%2C_Tokyo.svg/50px-Flag_of_Shibuya%2C_Tokyo.svg.png\" srcset=\"//upload.wikimedia.org/wikipedia/commons/thumb/3/31/Flag_of_Shibuya%2C_Tokyo.svg/75px-Flag_of_Shibuya%2C_Tokyo.svg.png 1.5x, //upload.wikimedia.org/wikipedia/commons/thumb/3/31/Flag_of_Shibuya%2C_Tokyo.svg/100px-Flag_of_Shibuya%2C_Tokyo.svg.png 2x\" width=\"50\"/></a></td>, <td><a href=\"/wiki/Shibuya\" title=\"Shibuya\">Shibuya</a></td>, <td>渋谷区\n",
      "</td>, <td><span style=\"visibility:hidden;color:transparent;\">0</span>227,850</td>, <td>15,080</td>, <td><span style=\"visibility:hidden;color:transparent;\">0</span>15.11\n",
      "</td>, <td><a href=\"/wiki/Shibuya\" title=\"Shibuya\">Shibuya</a>, <a class=\"mw-redirect\" href=\"/wiki/Ebisu,_Tokyo\" title=\"Ebisu, Tokyo\">Ebisu</a>, <a href=\"/wiki/Harajuku\" title=\"Harajuku\">Harajuku</a>, <a href=\"/wiki/Daikanyamach%C5%8D,_Shibuya\" title=\"Daikanyamachō, Shibuya\">Daikanyama</a>, <a href=\"/wiki/Hiroo,_Shibuya\" title=\"Hiroo, Shibuya\">Hiroo</a>, <a href=\"/wiki/Sendagaya\" title=\"Sendagaya\">Sendagaya</a>, <a href=\"/wiki/Yoyogi\" title=\"Yoyogi\">Yoyogi</a>\n",
      "</td>]\n",
      "<td>13</td>\n",
      "[<td>14</td>, <td><a class=\"image\" href=\"/wiki/File:Flag_of_Nakano,_Tokyo.svg\"><img alt=\"Flag of Nakano, Tokyo.svg\" class=\"thumbborder\" data-file-height=\"600\" data-file-width=\"900\" decoding=\"async\" height=\"33\" src=\"//upload.wikimedia.org/wikipedia/commons/thumb/a/ab/Flag_of_Nakano%2C_Tokyo.svg/50px-Flag_of_Nakano%2C_Tokyo.svg.png\" srcset=\"//upload.wikimedia.org/wikipedia/commons/thumb/a/ab/Flag_of_Nakano%2C_Tokyo.svg/75px-Flag_of_Nakano%2C_Tokyo.svg.png 1.5x, //upload.wikimedia.org/wikipedia/commons/thumb/a/ab/Flag_of_Nakano%2C_Tokyo.svg/100px-Flag_of_Nakano%2C_Tokyo.svg.png 2x\" width=\"50\"/></a></td>, <td><a href=\"/wiki/Nakano,_Tokyo\" title=\"Nakano, Tokyo\">Nakano</a></td>, <td>中野区\n",
      "</td>, <td><span style=\"visibility:hidden;color:transparent;\">0</span>332,902</td>, <td>21,350</td>, <td><span style=\"visibility:hidden;color:transparent;\">0</span>15.59\n",
      "</td>, <td><a href=\"/wiki/Nakano_Station_(Tokyo)\" title=\"Nakano Station (Tokyo)\">Nakano</a>\n",
      "</td>]\n",
      "<td>14</td>\n",
      "[<td>15</td>, <td><a class=\"image\" href=\"/wiki/File:Flag_of_Suginami,_Tokyo.svg\"><img alt=\"Flag of Suginami, Tokyo.svg\" class=\"thumbborder\" data-file-height=\"600\" data-file-width=\"900\" decoding=\"async\" height=\"33\" src=\"//upload.wikimedia.org/wikipedia/commons/thumb/b/b2/Flag_of_Suginami%2C_Tokyo.svg/50px-Flag_of_Suginami%2C_Tokyo.svg.png\" srcset=\"//upload.wikimedia.org/wikipedia/commons/thumb/b/b2/Flag_of_Suginami%2C_Tokyo.svg/75px-Flag_of_Suginami%2C_Tokyo.svg.png 1.5x, //upload.wikimedia.org/wikipedia/commons/thumb/b/b2/Flag_of_Suginami%2C_Tokyo.svg/100px-Flag_of_Suginami%2C_Tokyo.svg.png 2x\" width=\"50\"/></a></td>, <td><a href=\"/wiki/Suginami\" title=\"Suginami\">Suginami</a></td>, <td>杉並区\n",
      "</td>, <td><span style=\"visibility:hidden;color:transparent;\">0</span>570,483</td>, <td>16,750</td>, <td><span style=\"visibility:hidden;color:transparent;\">0</span>34.06\n",
      "</td>, <td><a href=\"/wiki/K%C5%8Denji\" title=\"Kōenji\">Kōenji</a>, <a href=\"/wiki/Asagaya\" title=\"Asagaya\">Asagaya</a>, <a href=\"/wiki/Ogikubo,_Tokyo\" title=\"Ogikubo, Tokyo\">Ogikubo</a>\n",
      "</td>]\n",
      "<td>15</td>\n",
      "[<td>16</td>, <td><a class=\"image\" href=\"/wiki/File:Flag_of_Toshima,_Tokyo.svg\"><img alt=\"Flag of Toshima, Tokyo.svg\" class=\"thumbborder\" data-file-height=\"600\" data-file-width=\"900\" decoding=\"async\" height=\"33\" src=\"//upload.wikimedia.org/wikipedia/commons/thumb/5/5b/Flag_of_Toshima%2C_Tokyo.svg/50px-Flag_of_Toshima%2C_Tokyo.svg.png\" srcset=\"//upload.wikimedia.org/wikipedia/commons/thumb/5/5b/Flag_of_Toshima%2C_Tokyo.svg/75px-Flag_of_Toshima%2C_Tokyo.svg.png 1.5x, //upload.wikimedia.org/wikipedia/commons/thumb/5/5b/Flag_of_Toshima%2C_Tokyo.svg/100px-Flag_of_Toshima%2C_Tokyo.svg.png 2x\" width=\"50\"/></a></td>, <td><a href=\"/wiki/Toshima\" title=\"Toshima\">Toshima</a></td>, <td>豊島区\n",
      "</td>, <td><span style=\"visibility:hidden;color:transparent;\">0</span>294,673</td>, <td>22,650</td>, <td><span style=\"visibility:hidden;color:transparent;\">0</span>13.01\n",
      "</td>, <td><a href=\"/wiki/Ikebukuro\" title=\"Ikebukuro\">Ikebukuro</a>, <a href=\"/wiki/Komagome_Station\" title=\"Komagome Station\">Komagome</a>, Senkawa, <a href=\"/wiki/Sugamo\" title=\"Sugamo\">Sugamo</a>\n",
      "</td>]\n",
      "<td>16</td>\n",
      "[<td>17</td>, <td><a class=\"image\" href=\"/wiki/File:Flag_of_Kita,_Tokyo.svg\"><img alt=\"Flag of Kita, Tokyo.svg\" class=\"thumbborder\" data-file-height=\"400\" data-file-width=\"600\" decoding=\"async\" height=\"33\" src=\"//upload.wikimedia.org/wikipedia/commons/thumb/0/01/Flag_of_Kita%2C_Tokyo.svg/50px-Flag_of_Kita%2C_Tokyo.svg.png\" srcset=\"//upload.wikimedia.org/wikipedia/commons/thumb/0/01/Flag_of_Kita%2C_Tokyo.svg/75px-Flag_of_Kita%2C_Tokyo.svg.png 1.5x, //upload.wikimedia.org/wikipedia/commons/thumb/0/01/Flag_of_Kita%2C_Tokyo.svg/100px-Flag_of_Kita%2C_Tokyo.svg.png 2x\" width=\"50\"/></a></td>, <td><a href=\"/wiki/Kita,_Tokyo\" title=\"Kita, Tokyo\">Kita</a></td>, <td>北区\n",
      "</td>, <td><span style=\"visibility:hidden;color:transparent;\">0</span>345,063</td>, <td>16,740</td>, <td><span style=\"visibility:hidden;color:transparent;\">0</span>20.61\n",
      "</td>, <td><a href=\"/wiki/Akabane_Station\" title=\"Akabane Station\">Akabane</a>, Ōji, <a href=\"/wiki/Tabata_Station_(Tokyo)\" title=\"Tabata Station (Tokyo)\">Tabata</a>\n",
      "</td>]\n",
      "<td>17</td>\n",
      "[<td>18</td>, <td><a class=\"image\" href=\"/wiki/File:Flag_of_Arakawa,_Tokyo.svg\"><img alt=\"Flag of Arakawa, Tokyo.svg\" class=\"thumbborder\" data-file-height=\"400\" data-file-width=\"600\" decoding=\"async\" height=\"33\" src=\"//upload.wikimedia.org/wikipedia/commons/thumb/8/82/Flag_of_Arakawa%2C_Tokyo.svg/50px-Flag_of_Arakawa%2C_Tokyo.svg.png\" srcset=\"//upload.wikimedia.org/wikipedia/commons/thumb/8/82/Flag_of_Arakawa%2C_Tokyo.svg/75px-Flag_of_Arakawa%2C_Tokyo.svg.png 1.5x, //upload.wikimedia.org/wikipedia/commons/thumb/8/82/Flag_of_Arakawa%2C_Tokyo.svg/100px-Flag_of_Arakawa%2C_Tokyo.svg.png 2x\" width=\"50\"/></a></td>, <td><a href=\"/wiki/Arakawa,_Tokyo\" title=\"Arakawa, Tokyo\">Arakawa</a></td>, <td>荒川区\n",
      "</td>, <td><span style=\"visibility:hidden;color:transparent;\">0</span>213,648</td>, <td>21,030</td>, <td><span style=\"visibility:hidden;color:transparent;\">0</span>10.16\n",
      "</td>, <td>Arakawa, Machiya, <a href=\"/wiki/Nippori_Station\" title=\"Nippori Station\">Nippori</a>, Minamisenju\n",
      "</td>]\n",
      "<td>18</td>\n",
      "[<td>19</td>, <td><a class=\"image\" href=\"/wiki/File:Flag_of_Itabashi,_Tokyo.svg\"><img alt=\"Flag of Itabashi, Tokyo.svg\" class=\"thumbborder\" data-file-height=\"600\" data-file-width=\"900\" decoding=\"async\" height=\"33\" src=\"//upload.wikimedia.org/wikipedia/commons/thumb/5/57/Flag_of_Itabashi%2C_Tokyo.svg/50px-Flag_of_Itabashi%2C_Tokyo.svg.png\" srcset=\"//upload.wikimedia.org/wikipedia/commons/thumb/5/57/Flag_of_Itabashi%2C_Tokyo.svg/75px-Flag_of_Itabashi%2C_Tokyo.svg.png 1.5x, //upload.wikimedia.org/wikipedia/commons/thumb/5/57/Flag_of_Itabashi%2C_Tokyo.svg/100px-Flag_of_Itabashi%2C_Tokyo.svg.png 2x\" width=\"50\"/></a></td>, <td><a href=\"/wiki/Itabashi\" title=\"Itabashi\">Itabashi</a></td>, <td>板橋区\n",
      "</td>, <td><span style=\"visibility:hidden;color:transparent;\">0</span>569,225</td>, <td>17,670</td>, <td><span style=\"visibility:hidden;color:transparent;\">0</span>32.22\n",
      "</td>, <td><a href=\"/wiki/Itabashi\" title=\"Itabashi\">Itabashi</a>, Takashimadaira\n",
      "</td>]\n",
      "<td>19</td>\n",
      "[<td>20</td>, <td><a class=\"image\" href=\"/wiki/File:Flag_of_Nerima,_Tokyo.svg\"><img alt=\"Flag of Nerima, Tokyo.svg\" class=\"thumbborder\" data-file-height=\"600\" data-file-width=\"900\" decoding=\"async\" height=\"33\" src=\"//upload.wikimedia.org/wikipedia/commons/thumb/9/94/Flag_of_Nerima%2C_Tokyo.svg/50px-Flag_of_Nerima%2C_Tokyo.svg.png\" srcset=\"//upload.wikimedia.org/wikipedia/commons/thumb/9/94/Flag_of_Nerima%2C_Tokyo.svg/75px-Flag_of_Nerima%2C_Tokyo.svg.png 1.5x, //upload.wikimedia.org/wikipedia/commons/thumb/9/94/Flag_of_Nerima%2C_Tokyo.svg/100px-Flag_of_Nerima%2C_Tokyo.svg.png 2x\" width=\"50\"/></a></td>, <td><a href=\"/wiki/Nerima\" title=\"Nerima\">Nerima</a></td>, <td>練馬区\n",
      "</td>, <td><span style=\"visibility:hidden;color:transparent;\">0</span>726,748</td>, <td>15,120</td>, <td><span style=\"visibility:hidden;color:transparent;\">0</span>48.08\n",
      "</td>, <td><a href=\"/wiki/Nerima\" title=\"Nerima\">Nerima</a>, <a href=\"/wiki/%C5%8Cizumimachi,_Nerima,_Tokyo\" title=\"Ōizumimachi, Nerima, Tokyo\">Ōizumi</a>, <a class=\"mw-redirect\" href=\"/wiki/Hikarigaoka\" title=\"Hikarigaoka\">Hikarigaoka</a>\n",
      "</td>]\n",
      "<td>20</td>\n",
      "[<td>21</td>, <td><a class=\"image\" href=\"/wiki/File:Flag_of_Adachi,_Tokyo.svg\"><img alt=\"Flag of Adachi, Tokyo.svg\" class=\"thumbborder\" data-file-height=\"600\" data-file-width=\"900\" decoding=\"async\" height=\"33\" src=\"//upload.wikimedia.org/wikipedia/commons/thumb/0/08/Flag_of_Adachi%2C_Tokyo.svg/50px-Flag_of_Adachi%2C_Tokyo.svg.png\" srcset=\"//upload.wikimedia.org/wikipedia/commons/thumb/0/08/Flag_of_Adachi%2C_Tokyo.svg/75px-Flag_of_Adachi%2C_Tokyo.svg.png 1.5x, //upload.wikimedia.org/wikipedia/commons/thumb/0/08/Flag_of_Adachi%2C_Tokyo.svg/100px-Flag_of_Adachi%2C_Tokyo.svg.png 2x\" width=\"50\"/></a></td>, <td><a href=\"/wiki/Adachi,_Tokyo\" title=\"Adachi, Tokyo\">Adachi</a></td>, <td style=\"width:4em;\">足立区\n",
      "</td>, <td><span style=\"visibility:hidden;color:transparent;\">0</span>674,067</td>, <td>12,660</td>, <td><span style=\"visibility:hidden;color:transparent;\">0</span>53.25\n",
      "</td>, <td>Ayase, <a href=\"/wiki/Kita-Senju_Station\" title=\"Kita-Senju Station\">Kitasenju</a>, Takenotsuka\n",
      "</td>]\n",
      "<td>21</td>\n",
      "[<td>22</td>, <td><a class=\"image\" href=\"/wiki/File:Flag_of_Katsushika-ku,_Tokyo.svg\"><img alt=\"Flag of Katsushika-ku, Tokyo.svg\" class=\"thumbborder\" data-file-height=\"216\" data-file-width=\"324\" decoding=\"async\" height=\"33\" src=\"//upload.wikimedia.org/wikipedia/commons/thumb/4/43/Flag_of_Katsushika-ku%2C_Tokyo.svg/50px-Flag_of_Katsushika-ku%2C_Tokyo.svg.png\" srcset=\"//upload.wikimedia.org/wikipedia/commons/thumb/4/43/Flag_of_Katsushika-ku%2C_Tokyo.svg/75px-Flag_of_Katsushika-ku%2C_Tokyo.svg.png 1.5x, //upload.wikimedia.org/wikipedia/commons/thumb/4/43/Flag_of_Katsushika-ku%2C_Tokyo.svg/100px-Flag_of_Katsushika-ku%2C_Tokyo.svg.png 2x\" width=\"50\"/></a></td>, <td><a href=\"/wiki/Katsushika\" title=\"Katsushika\">Katsushika</a></td>, <td>葛飾区\n",
      "</td>, <td><span style=\"visibility:hidden;color:transparent;\">0</span>447,140</td>, <td>12,850</td>, <td><span style=\"visibility:hidden;color:transparent;\">0</span>34.80\n",
      "</td>, <td><a class=\"mw-redirect\" href=\"/wiki/Tateishi\" title=\"Tateishi\">Tateishi</a>, Aoto, Kameari, Shibamata\n",
      "</td>]\n",
      "<td>22</td>\n",
      "[<td>23</td>, <td><a class=\"image\" href=\"/wiki/File:Flag_of_Edogawa,_Tokyo.svg\"><img alt=\"Flag of Edogawa, Tokyo.svg\" class=\"thumbborder\" data-file-height=\"400\" data-file-width=\"600\" decoding=\"async\" height=\"33\" src=\"//upload.wikimedia.org/wikipedia/commons/thumb/b/be/Flag_of_Edogawa%2C_Tokyo.svg/50px-Flag_of_Edogawa%2C_Tokyo.svg.png\" srcset=\"//upload.wikimedia.org/wikipedia/commons/thumb/b/be/Flag_of_Edogawa%2C_Tokyo.svg/75px-Flag_of_Edogawa%2C_Tokyo.svg.png 1.5x, //upload.wikimedia.org/wikipedia/commons/thumb/b/be/Flag_of_Edogawa%2C_Tokyo.svg/100px-Flag_of_Edogawa%2C_Tokyo.svg.png 2x\" width=\"50\"/></a></td>, <td><a href=\"/wiki/Edogawa,_Tokyo\" title=\"Edogawa, Tokyo\">Edogawa</a></td>, <td>江戸川区\n",
      "</td>, <td><span style=\"visibility:hidden;color:transparent;\">0</span>685,899</td>, <td>13,750</td>, <td><span style=\"visibility:hidden;color:transparent;\">0</span>49.90\n",
      "</td>, <td>Kasai, Koiwa\n",
      "</td>]\n",
      "<td>23</td>\n",
      "[<td colspan=\"4\"><i><b>Overall</b></i>\n",
      "</td>, <td><i>9,375,104</i></td>, <td><i>15,146</i></td>, <td><i>619</i></td>, <td>\n",
      "</td>]\n",
      "5100\n",
      "14460\n",
      "12180\n",
      "18620\n",
      "19790\n",
      "19830\n",
      "18910\n",
      "12510\n",
      "17180\n",
      "19110\n",
      "11910\n",
      "15690\n",
      "15080\n",
      "21350\n",
      "16750\n",
      "22650\n",
      "16740\n",
      "21030\n",
      "17670\n",
      "15120\n",
      "12660\n",
      "12850\n",
      "13750\n",
      "<td><a href=\"/wiki/Chiyoda,_Tokyo\" title=\"Chiyoda, Tokyo\">Chiyoda</a></td>\n",
      "<td><a href=\"/wiki/Ch%C5%AB%C5%8D,_Tokyo\" title=\"Chūō, Tokyo\">Chūō</a></td>\n",
      "<td><a href=\"/wiki/Minato,_Tokyo\" title=\"Minato, Tokyo\">Minato</a></td>\n",
      "<td><a href=\"/wiki/Shinjuku\" title=\"Shinjuku\">Shinjuku</a></td>\n",
      "<td><a href=\"/wiki/Bunky%C5%8D\" title=\"Bunkyō\">Bunkyō</a></td>\n",
      "<td><a href=\"/wiki/Tait%C5%8D\" title=\"Taitō\">Taitō</a></td>\n",
      "<td><a href=\"/wiki/Sumida,_Tokyo\" title=\"Sumida, Tokyo\">Sumida</a></td>\n",
      "<td><a class=\"mw-redirect\" href=\"/wiki/Koto,_Tokyo\" title=\"Koto, Tokyo\">Kōtō</a></td>\n",
      "<td><a href=\"/wiki/Shinagawa\" title=\"Shinagawa\">Shinagawa</a></td>\n",
      "<td><a href=\"/wiki/Meguro\" title=\"Meguro\">Meguro</a></td>\n",
      "<td><span style=\"display:none\">Ota</span><a href=\"/wiki/%C5%8Cta,_Tokyo\" title=\"Ōta, Tokyo\">Ōta</a></td>\n",
      "<td><a href=\"/wiki/Setagaya\" title=\"Setagaya\">Setagaya</a></td>\n",
      "<td><a href=\"/wiki/Shibuya\" title=\"Shibuya\">Shibuya</a></td>\n",
      "<td><a href=\"/wiki/Nakano,_Tokyo\" title=\"Nakano, Tokyo\">Nakano</a></td>\n",
      "<td><a href=\"/wiki/Suginami\" title=\"Suginami\">Suginami</a></td>\n",
      "<td><a href=\"/wiki/Toshima\" title=\"Toshima\">Toshima</a></td>\n",
      "<td><a href=\"/wiki/Kita,_Tokyo\" title=\"Kita, Tokyo\">Kita</a></td>\n",
      "<td><a href=\"/wiki/Arakawa,_Tokyo\" title=\"Arakawa, Tokyo\">Arakawa</a></td>\n",
      "<td><a href=\"/wiki/Itabashi\" title=\"Itabashi\">Itabashi</a></td>\n",
      "<td><a href=\"/wiki/Nerima\" title=\"Nerima\">Nerima</a></td>\n",
      "<td><a href=\"/wiki/Adachi,_Tokyo\" title=\"Adachi, Tokyo\">Adachi</a></td>\n",
      "<td><a href=\"/wiki/Katsushika\" title=\"Katsushika\">Katsushika</a></td>\n",
      "<td><a href=\"/wiki/Edogawa,_Tokyo\" title=\"Edogawa, Tokyo\">Edogawa</a></td>\n",
      "[[<a href=\"/wiki/Chiyoda,_Tokyo\" title=\"Chiyoda, Tokyo\">Chiyoda</a>], [<a href=\"/wiki/Ch%C5%AB%C5%8D,_Tokyo\" title=\"Chūō, Tokyo\">Chūō</a>], [<a href=\"/wiki/Minato,_Tokyo\" title=\"Minato, Tokyo\">Minato</a>], [<a href=\"/wiki/Shinjuku\" title=\"Shinjuku\">Shinjuku</a>], [<a href=\"/wiki/Bunky%C5%8D\" title=\"Bunkyō\">Bunkyō</a>], [<a href=\"/wiki/Tait%C5%8D\" title=\"Taitō\">Taitō</a>], [<a href=\"/wiki/Sumida,_Tokyo\" title=\"Sumida, Tokyo\">Sumida</a>], [<a class=\"mw-redirect\" href=\"/wiki/Koto,_Tokyo\" title=\"Koto, Tokyo\">Kōtō</a>], [<a href=\"/wiki/Shinagawa\" title=\"Shinagawa\">Shinagawa</a>], [<a href=\"/wiki/Meguro\" title=\"Meguro\">Meguro</a>], [<a href=\"/wiki/%C5%8Cta,_Tokyo\" title=\"Ōta, Tokyo\">Ōta</a>], [<a href=\"/wiki/Setagaya\" title=\"Setagaya\">Setagaya</a>], [<a href=\"/wiki/Shibuya\" title=\"Shibuya\">Shibuya</a>], [<a href=\"/wiki/Nakano,_Tokyo\" title=\"Nakano, Tokyo\">Nakano</a>], [<a href=\"/wiki/Suginami\" title=\"Suginami\">Suginami</a>], [<a href=\"/wiki/Toshima\" title=\"Toshima\">Toshima</a>], [<a href=\"/wiki/Kita,_Tokyo\" title=\"Kita, Tokyo\">Kita</a>], [<a href=\"/wiki/Arakawa,_Tokyo\" title=\"Arakawa, Tokyo\">Arakawa</a>], [<a href=\"/wiki/Itabashi\" title=\"Itabashi\">Itabashi</a>], [<a href=\"/wiki/Nerima\" title=\"Nerima\">Nerima</a>], [<a href=\"/wiki/Adachi,_Tokyo\" title=\"Adachi, Tokyo\">Adachi</a>], [<a href=\"/wiki/Katsushika\" title=\"Katsushika\">Katsushika</a>], [<a href=\"/wiki/Edogawa,_Tokyo\" title=\"Edogawa, Tokyo\">Edogawa</a>]]\n",
      "[<a href=\"/wiki/Chiyoda,_Tokyo\" title=\"Chiyoda, Tokyo\">Chiyoda</a>, <a href=\"/wiki/Ch%C5%AB%C5%8D,_Tokyo\" title=\"Chūō, Tokyo\">Chūō</a>, <a href=\"/wiki/Minato,_Tokyo\" title=\"Minato, Tokyo\">Minato</a>, <a href=\"/wiki/Shinjuku\" title=\"Shinjuku\">Shinjuku</a>, <a href=\"/wiki/Bunky%C5%8D\" title=\"Bunkyō\">Bunkyō</a>, <a href=\"/wiki/Tait%C5%8D\" title=\"Taitō\">Taitō</a>, <a href=\"/wiki/Sumida,_Tokyo\" title=\"Sumida, Tokyo\">Sumida</a>, <a class=\"mw-redirect\" href=\"/wiki/Koto,_Tokyo\" title=\"Koto, Tokyo\">Kōtō</a>, <a href=\"/wiki/Shinagawa\" title=\"Shinagawa\">Shinagawa</a>, <a href=\"/wiki/Meguro\" title=\"Meguro\">Meguro</a>, <a href=\"/wiki/%C5%8Cta,_Tokyo\" title=\"Ōta, Tokyo\">Ōta</a>, <a href=\"/wiki/Setagaya\" title=\"Setagaya\">Setagaya</a>, <a href=\"/wiki/Shibuya\" title=\"Shibuya\">Shibuya</a>, <a href=\"/wiki/Nakano,_Tokyo\" title=\"Nakano, Tokyo\">Nakano</a>, <a href=\"/wiki/Suginami\" title=\"Suginami\">Suginami</a>, <a href=\"/wiki/Toshima\" title=\"Toshima\">Toshima</a>, <a href=\"/wiki/Kita,_Tokyo\" title=\"Kita, Tokyo\">Kita</a>, <a href=\"/wiki/Arakawa,_Tokyo\" title=\"Arakawa, Tokyo\">Arakawa</a>, <a href=\"/wiki/Itabashi\" title=\"Itabashi\">Itabashi</a>, <a href=\"/wiki/Nerima\" title=\"Nerima\">Nerima</a>, <a href=\"/wiki/Adachi,_Tokyo\" title=\"Adachi, Tokyo\">Adachi</a>, <a href=\"/wiki/Katsushika\" title=\"Katsushika\">Katsushika</a>, <a href=\"/wiki/Edogawa,_Tokyo\" title=\"Edogawa, Tokyo\">Edogawa</a>]\n",
      "['Chiyoda, Tokyo', 'Chūō, Tokyo', 'Minato, Tokyo', 'Shinjuku', 'Bunkyō', 'Taitō', 'Sumida, Tokyo', 'Koto, Tokyo', 'Shinagawa', 'Meguro', 'Ōta, Tokyo', 'Setagaya', 'Shibuya', 'Nakano, Tokyo', 'Suginami', 'Toshima', 'Kita, Tokyo', 'Arakawa, Tokyo', 'Itabashi', 'Nerima', 'Adachi, Tokyo', 'Katsushika', 'Edogawa, Tokyo']\n",
      "<td><span style=\"visibility:hidden;color:transparent;\">0</span><span style=\"visibility:hidden;color:transparent;\">0</span>59,441</td>\n",
      "059,441\n",
      "<td><span style=\"visibility:hidden;color:transparent;\">0</span>147,620</td>\n",
      "147,620\n",
      "<td><span style=\"visibility:hidden;color:transparent;\">0</span>248,071</td>\n",
      "248,071\n",
      "<td><span style=\"visibility:hidden;color:transparent;\">0</span>339,211</td>\n",
      "339,211\n",
      "<td><span style=\"visibility:hidden;color:transparent;\">0</span>223,389</td>\n",
      "223,389\n",
      "<td><span style=\"visibility:hidden;color:transparent;\">0</span>200,486</td>\n",
      "200,486\n",
      "<td><span style=\"visibility:hidden;color:transparent;\">0</span>260,358</td>\n",
      "260,358\n",
      "<td><span style=\"visibility:hidden;color:transparent;\">0</span>502,579</td>\n",
      "502,579\n",
      "<td><span style=\"visibility:hidden;color:transparent;\">0</span>392,492</td>\n",
      "392,492\n",
      "<td><span style=\"visibility:hidden;color:transparent;\">0</span>280,283</td>\n",
      "280,283\n",
      "<td><span style=\"visibility:hidden;color:transparent;\">0</span>722,608</td>\n",
      "722,608\n",
      "<td><span style=\"visibility:hidden;color:transparent;\">0</span>910,868</td>\n",
      "910,868\n",
      "<td><span style=\"visibility:hidden;color:transparent;\">0</span>227,850</td>\n",
      "227,850\n",
      "<td><span style=\"visibility:hidden;color:transparent;\">0</span>332,902</td>\n",
      "332,902\n",
      "<td><span style=\"visibility:hidden;color:transparent;\">0</span>570,483</td>\n",
      "570,483\n",
      "<td><span style=\"visibility:hidden;color:transparent;\">0</span>294,673</td>\n",
      "294,673\n",
      "<td><span style=\"visibility:hidden;color:transparent;\">0</span>345,063</td>\n",
      "345,063\n",
      "<td><span style=\"visibility:hidden;color:transparent;\">0</span>213,648</td>\n",
      "213,648\n",
      "<td><span style=\"visibility:hidden;color:transparent;\">0</span>569,225</td>\n",
      "569,225\n",
      "<td><span style=\"visibility:hidden;color:transparent;\">0</span>726,748</td>\n",
      "726,748\n",
      "<td><span style=\"visibility:hidden;color:transparent;\">0</span>674,067</td>\n",
      "674,067\n",
      "<td><span style=\"visibility:hidden;color:transparent;\">0</span>447,140</td>\n",
      "447,140\n",
      "<td><span style=\"visibility:hidden;color:transparent;\">0</span>685,899</td>\n",
      "685,899\n",
      "['059,441', '147,620', '248,071', '339,211', '223,389', '200,486', '260,358', '502,579', '392,492', '280,283', '722,608', '910,868', '227,850', '332,902', '570,483', '294,673', '345,063', '213,648', '569,225', '726,748', '674,067', '447,140', '685,899']\n",
      "059441\n",
      "147620\n",
      "248071\n",
      "339211\n",
      "223389\n",
      "200486\n",
      "260358\n",
      "502579\n",
      "392492\n",
      "280283\n",
      "722608\n",
      "910868\n",
      "227850\n",
      "332902\n",
      "570483\n",
      "294673\n",
      "345063\n",
      "213648\n",
      "569225\n",
      "726748\n",
      "674067\n",
      "447140\n",
      "685899\n"
     ]
    },
    {
     "name": "stdout",
     "output_type": "stream",
     "text": [
      "Old latitude list:  [35.675618, 35.68406775, 35.619050200000004, 35.6937632, 35.1753761, 35.7117587, 35.6963122, 23.0131338, 35.599252, 35.62125, 35.5884735, 35.646096, 35.6645956, 35.718123, 35.7049419, 35.7304418, 35.7781394, 35.737529, 35.774143, 35.74836, 35.4460475, 33.4817913, -5.3498001]\n",
      "Old Longitude list:  [139.7434685, 139.77450291683806, 139.77936404588297, 139.7036319, 137.0134764, 139.7776445, 139.8150431, -80.8328748, 139.73891, 139.688014, 139.7279334, 139.65627, 139.6987107, 139.664468, 139.649909, 139.7107453, 139.7207999, 139.78131, 139.681209, 139.638735, 139.430823, 131.4781536, 21.424098]\n",
      "[35.675618, 35.68406775, 35.619050200000004, 35.6937632, 35.1753761, 35.7117587, 35.6963122, 35.6722, 35.599252, 35.62125, 35.5884735, 35.646096, 35.6645956, 35.718123, 35.7049419, 35.7304418, 35.7781394, 35.737529, 35.774143, 35.74836, 35.4460475, 33.4817913, 35.6634]\n",
      "[139.7434685, 139.77450291683806, 139.77936404588297, 139.7036319, 137.0134764, 139.7776445, 139.8150431, 139.8061, 139.73891, 139.688014, 139.7279334, 139.65627, 139.6987107, 139.664468, 139.649909, 139.7107453, 139.7207999, 139.78131, 139.681209, 139.638735, 139.430823, 131.4781536, 139.8731]\n"
     ]
    }
   ],
   "source": [
    "response_obj = requests.get('https://en.wikipedia.org/wiki/Special_wards_of_Tokyo').text\n",
    "soup = BeautifulSoup(response_obj,'lxml')\n",
    "Wards_Tokyo_Table = soup.find('table', {'class':'wikitable sortable'})\n",
    "### preparation of the table \n",
    "\n",
    "Name=[]\n",
    "Kanji = []\n",
    "Pop = []\n",
    "Density = []\n",
    "num = []\n",
    "flag = []\n",
    "Area = []\n",
    "Major_District = []\n",
    "\n",
    "for row in Wards_Tokyo_Table.findAll(\"tr\"):\n",
    "    #print (row)    \n",
    "    Ward = row.findAll('td')\n",
    "    #print (len(Ward))\n",
    "    print (Ward)\n",
    "    if len(Ward)==8: #Only extract table body not heading\n",
    "        print (Ward[0])\n",
    "        #print postcode[1]\n",
    "        #print postcode[2]\n",
    "        num.append(Ward[0].find(text=True))\n",
    "        flag.append(Ward[1].findAll('a')) # useless\n",
    "        Name.append(Ward[2])\n",
    "        Kanji.append(Ward[3].find(text=True))\n",
    "        Pop.append(Ward[4])\n",
    "        Area.append(Ward[5].find(text=True))\n",
    "        Major_District.append(Ward[7].find(text=True))\n",
    "            \n",
    "#print (Pop) \n",
    "\n",
    "\n",
    "#++++++++++++++++++++++++++++++++++++++++++++++\n",
    "#+ Area \n",
    "#++++++++++++++++++++++++++++++++++++++++++++++\n",
    "\n",
    "# print (Area[3]) # the first element of the area needs a replacement with the true value 5100\n",
    "Area = ['5100' if x=='0' else x for x in Area]\n",
    "New_Area = []\n",
    "\n",
    "# change the type of Area list \n",
    "for l in range(len(Area)):\n",
    "    x=Area[l].replace(\",\",\"\")\n",
    "    print (x)\n",
    "    New_Area.append(x)\n",
    "\n",
    "New_Area=[int(s) for s in New_Area]\n",
    "\n",
    "#print (New_Area) # the list elements are already in accordance with the table\n",
    "\n",
    "#+++++++++++++++++++++++++++++++++++++++++++++++++++++\n",
    "#+ Name of the Wards\n",
    "#+++++++++++++++++++++++++++++++++++++++++++++++++++++\n",
    "#print (Name) # want to select only the title part\n",
    "\n",
    "new_names = []\n",
    "for n in range(len(Name)):\n",
    "    print (Name[n])\n",
    "    names = Name[n].findAll('a')\n",
    "    new_names.append(names) \n",
    "\n",
    "print (new_names)\n",
    "\n",
    "flat_new_names_list = [item for sublist in new_names for item in sublist]\n",
    "print (flat_new_names_list)\n",
    "\n",
    "Wards_names= []\n",
    "#now \n",
    "for name_wards in flat_new_names_list:\n",
    "        Wards_names.append(name_wards.get('title'))\n",
    "\n",
    "print (Wards_names)\n",
    "\n",
    "# replace the elements in the list that contains 'Tokyo' with only the ward names\n",
    "replace_names={'Chiyoda, Tokyo':'Chiyoda', 'Chūō, Tokyo':'Chuo', 'Minato, Tokyo':'Minato', \n",
    "               'Sumida, Tokyo':'Sumida', 'Koto, Tokyo':'Koto', 'Ōta, Tokyo':'Ota', 'Nakano, Tokyo':'Nakano', \n",
    "               'Kita, Tokyo':'Kita', 'Arakawa, Tokyo':'Arakawa', 'Adachi, Tokyo':'Adachi', 'Edogawa, Tokyo':'Edogawa'}\n",
    "\n",
    "\n",
    "Wards_names1 = [replace_names.get(n1,n1) for n1 in Wards_names]\n",
    "\n",
    "#print (Wards_names1)\n",
    "\n",
    "#+++++++++++++++++++++++++++++++++++++++++++++++++++++\n",
    "#+ Population\n",
    "#+++++++++++++++++++++++++++++++++++++++++++++++++++++\n",
    "# print (len(Pop))\n",
    "# #print ((Pop[5].text))\n",
    "population = []\n",
    "for p in range(len(Pop)):\n",
    "    print ((Pop[p]))\n",
    "    pops = Pop[p].text[1:9]\n",
    "    print (Pop[p].text[1:9])\n",
    "    #populs = Pop[p].find('visibility:hidden;color:transparent;')\n",
    "    population.append(pops) \n",
    "print (population)\n",
    "\n",
    "\n",
    "New_population = []\n",
    "for po in range(len(population)):\n",
    "    xy=population[po].replace(\",\",\"\")\n",
    "    print (xy)\n",
    "    New_population.append(xy)\n",
    "\n",
    "New_population=[int(s1) for s1 in New_population]\n",
    "# print (New_population)\n",
    "\n",
    "\n",
    "\n",
    "#++++++++++++++++++++++++++++++++++++++++++++++++\n",
    "#+ Major Districts\n",
    "#++++++++++++++++++++++++++++++++++++++++++++++++\n",
    "\n",
    "\n",
    "replace_districts = {'Nagatachō':'Nagatacho', 'Hongō':'Hongo', 'Kinshichō':'Kinshicho', 'Ōmori': 'Omori', \n",
    "                     'Kōenji':'Koenji', 'Arakawa, Machiya, ':'Arakawa', 'Ayase, ':'Ayase', 'Kasai, Koiwa\\n':'Kasai'}\n",
    "\n",
    "\n",
    "Major_District_names1 = [replace_districts.get(n2,n2) for n2 in Major_District]\n",
    "\n",
    "\n",
    "df=pd.DataFrame(Wards_names1,columns=['Ward'])\n",
    "df['Area_SqKm'] = New_Area\n",
    "df['Population'] = New_population\n",
    "df['Major_District'] = Major_District_names1\n",
    "df.index = np.arange(1, len(df) + 1) # reset the index so that it starts from 1. \n",
    "\n",
    "# use of geopy geocoders\n",
    "from geopy.geocoders import Nominatim\n",
    "geolocator = Nominatim(user_agent=\"Tokyo_explorer\")\n",
    "df['Major_Dist_Coord']= df['Major_District'].apply(geolocator.geocode).apply(lambda x: (x.latitude, x.longitude))\n",
    "df[['Latitude', 'Longitude']] = df['Major_Dist_Coord'].apply(pd.Series)\n",
    "\n",
    "df.drop(['Major_Dist_Coord'], axis=1, inplace=True)\n",
    "# replace some of the wrong coordinates \n",
    "\n",
    "\n",
    "Lat_list = df['Latitude'].tolist()\n",
    "Long_list = df['Longitude'].tolist()\n",
    "print (\"Old latitude list: \", Lat_list)\n",
    "print (\"Old Longitude list: \", Long_list)\n",
    "replace_latitudes = {32.5093796:35.7088, 23.0131338:35.6722, -38.9047057:35.5884, -5.3498001:35.6634}\n",
    "replace_longitudes = {-116.2970014:139.7601, -80.8328748:139.8061, 175.7552111:139.7279, 21.424098:139.8731}\n",
    "\n",
    "latitudes_new = [replace_latitudes.get(n3,n3) for n3 in Lat_list]\n",
    "longtitudes_new = [replace_longitudes.get(n4,n4) for n4 in Long_list]\n",
    "print (latitudes_new)\n",
    "print (longtitudes_new)\n",
    "\n",
    "Tokyo_df = df.drop(['Latitude', 'Longitude'], axis=1)\n",
    "# #df.drop(['Longitude'], axis=1, inplace=True)\n",
    "# Tokyo_df\n",
    "\n",
    "\n",
    "Tokyo_df['Dist_Latitude'] = latitudes_new\n",
    "Tokyo_df['Dist_Longitude'] = longtitudes_new\n",
    "\n",
    "#Tokyo_df\n",
    "\n",
    "#Tokyo_df.to_csv('Tokyo_df_Coord.csv')\n"
   ]
  },
  {
   "cell_type": "markdown",
   "metadata": {},
   "source": [
    "### Starting of Week 2 "
   ]
  },
  {
   "cell_type": "code",
   "execution_count": 3,
   "metadata": {
    "ExecuteTime": {
     "end_time": "2020-08-03T20:36:04.916035Z",
     "start_time": "2020-08-03T20:36:04.905248Z"
    }
   },
   "outputs": [
    {
     "data": {
      "text/html": [
       "<div>\n",
       "<style scoped>\n",
       "    .dataframe tbody tr th:only-of-type {\n",
       "        vertical-align: middle;\n",
       "    }\n",
       "\n",
       "    .dataframe tbody tr th {\n",
       "        vertical-align: top;\n",
       "    }\n",
       "\n",
       "    .dataframe thead th {\n",
       "        text-align: right;\n",
       "    }\n",
       "</style>\n",
       "<table border=\"1\" class=\"dataframe\">\n",
       "  <thead>\n",
       "    <tr style=\"text-align: right;\">\n",
       "      <th></th>\n",
       "      <th>Ward</th>\n",
       "      <th>Area_SqKm</th>\n",
       "      <th>Population</th>\n",
       "      <th>Major_District</th>\n",
       "      <th>Dist_Latitude</th>\n",
       "      <th>Dist_Longitude</th>\n",
       "    </tr>\n",
       "  </thead>\n",
       "  <tbody>\n",
       "    <tr>\n",
       "      <th>1</th>\n",
       "      <td>Chiyoda</td>\n",
       "      <td>5100</td>\n",
       "      <td>59441</td>\n",
       "      <td>Nagatacho</td>\n",
       "      <td>35.675618</td>\n",
       "      <td>139.743469</td>\n",
       "    </tr>\n",
       "    <tr>\n",
       "      <th>2</th>\n",
       "      <td>Chuo</td>\n",
       "      <td>14460</td>\n",
       "      <td>147620</td>\n",
       "      <td>Nihonbashi</td>\n",
       "      <td>35.684058</td>\n",
       "      <td>139.774501</td>\n",
       "    </tr>\n",
       "    <tr>\n",
       "      <th>3</th>\n",
       "      <td>Minato</td>\n",
       "      <td>12180</td>\n",
       "      <td>248071</td>\n",
       "      <td>Odaiba</td>\n",
       "      <td>35.619128</td>\n",
       "      <td>139.779403</td>\n",
       "    </tr>\n",
       "  </tbody>\n",
       "</table>\n",
       "</div>"
      ],
      "text/plain": [
       "      Ward  Area_SqKm  Population Major_District  Dist_Latitude  \\\n",
       "1  Chiyoda       5100       59441      Nagatacho      35.675618   \n",
       "2     Chuo      14460      147620     Nihonbashi      35.684058   \n",
       "3   Minato      12180      248071         Odaiba      35.619128   \n",
       "\n",
       "   Dist_Longitude  \n",
       "1      139.743469  \n",
       "2      139.774501  \n",
       "3      139.779403  "
      ]
     },
     "execution_count": 3,
     "metadata": {},
     "output_type": "execute_result"
    }
   ],
   "source": [
    "Tokyo_df = pd.read_csv('Tokyo_df_Coord.csv', index_col=[0])\n",
    "#remove the unnamed column \n",
    "Tokyo_df.head(3)"
   ]
  },
  {
   "cell_type": "markdown",
   "metadata": {},
   "source": [
    "Here we want to concentrate on the best five wards \n",
    "\n",
    "1. Chiyoda. Major District: _Nagatacho_<br>\n",
    "2. Shinjuku. Major District: _Shinjuku_<br>\n",
    "3. Shibuya. Major District: _Shibuya_<br>\n",
    "4. Chuo. Major District: _Nihombashi_<br>\n",
    "5. Shinagawa. Major District: _Shinagawa_<br>\n",
    "\n",
    "\n",
    "So as the next step we will use [Foursquare](https://developer.foursquare.com/) data and obtain information on restaurants.  With these, we can start with our battle of neighborhoods for opening a restaurant in Tokyo.  "
   ]
  },
  {
   "cell_type": "markdown",
   "metadata": {},
   "source": [
    "### Get the average land price in different areas of Tokyo from Web Scrapping"
   ]
  },
  {
   "cell_type": "code",
   "execution_count": 4,
   "metadata": {
    "ExecuteTime": {
     "end_time": "2020-08-03T20:36:06.420977Z",
     "start_time": "2020-08-03T20:36:04.916957Z"
    }
   },
   "outputs": [],
   "source": [
    "response_obj = requests.get('https://utinokati.com/en/details/land-market-value/area/Tokyo/').text\n",
    "#print (type (response_obj))\n",
    "soup = BeautifulSoup(response_obj,'lxml')\n",
    "#print (soup.prettify())"
   ]
  },
  {
   "cell_type": "code",
   "execution_count": 5,
   "metadata": {
    "ExecuteTime": {
     "end_time": "2020-08-03T20:36:06.424274Z",
     "start_time": "2020-08-03T20:36:06.421969Z"
    }
   },
   "outputs": [],
   "source": [
    "Price_Tokyo_Table = soup.find('tbody')\n",
    "#Price_Tokyo_Table"
   ]
  },
  {
   "cell_type": "code",
   "execution_count": 6,
   "metadata": {
    "ExecuteTime": {
     "end_time": "2020-08-03T20:36:06.450427Z",
     "start_time": "2020-08-03T20:36:06.425230Z"
    }
   },
   "outputs": [
    {
     "data": {
      "text/html": [
       "<div>\n",
       "<style scoped>\n",
       "    .dataframe tbody tr th:only-of-type {\n",
       "        vertical-align: middle;\n",
       "    }\n",
       "\n",
       "    .dataframe tbody tr th {\n",
       "        vertical-align: top;\n",
       "    }\n",
       "\n",
       "    .dataframe thead th {\n",
       "        text-align: right;\n",
       "    }\n",
       "</style>\n",
       "<table border=\"1\" class=\"dataframe\">\n",
       "  <thead>\n",
       "    <tr style=\"text-align: right;\">\n",
       "      <th></th>\n",
       "      <th>Ward</th>\n",
       "      <th>Average_Price(SqKm)</th>\n",
       "    </tr>\n",
       "  </thead>\n",
       "  <tbody>\n",
       "    <tr>\n",
       "      <th>0</th>\n",
       "      <td>Chiyoda-Ku</td>\n",
       "      <td>2705898</td>\n",
       "    </tr>\n",
       "    <tr>\n",
       "      <th>1</th>\n",
       "      <td>Chuo-Ku</td>\n",
       "      <td>2699719</td>\n",
       "    </tr>\n",
       "    <tr>\n",
       "      <th>2</th>\n",
       "      <td>Minato-Ku</td>\n",
       "      <td>2121252</td>\n",
       "    </tr>\n",
       "    <tr>\n",
       "      <th>3</th>\n",
       "      <td>Shinjuku-Ku</td>\n",
       "      <td>939286</td>\n",
       "    </tr>\n",
       "    <tr>\n",
       "      <th>4</th>\n",
       "      <td>Bunkyo-Ku</td>\n",
       "      <td>945155</td>\n",
       "    </tr>\n",
       "    <tr>\n",
       "      <th>5</th>\n",
       "      <td>Taito-Ku</td>\n",
       "      <td>1064759</td>\n",
       "    </tr>\n",
       "    <tr>\n",
       "      <th>6</th>\n",
       "      <td>Sumida-Ku</td>\n",
       "      <td>617190</td>\n",
       "    </tr>\n",
       "    <tr>\n",
       "      <th>7</th>\n",
       "      <td>Koto-Ku</td>\n",
       "      <td>658047</td>\n",
       "    </tr>\n",
       "    <tr>\n",
       "      <th>8</th>\n",
       "      <td>Shinagawa-Ku</td>\n",
       "      <td>767398</td>\n",
       "    </tr>\n",
       "    <tr>\n",
       "      <th>9</th>\n",
       "      <td>Meguro-Ku</td>\n",
       "      <td>863712</td>\n",
       "    </tr>\n",
       "    <tr>\n",
       "      <th>10</th>\n",
       "      <td>Ota-Ku</td>\n",
       "      <td>560106</td>\n",
       "    </tr>\n",
       "    <tr>\n",
       "      <th>11</th>\n",
       "      <td>Setagaya-Ku</td>\n",
       "      <td>664106</td>\n",
       "    </tr>\n",
       "    <tr>\n",
       "      <th>12</th>\n",
       "      <td>Shibuya-Ku</td>\n",
       "      <td>1360332</td>\n",
       "    </tr>\n",
       "    <tr>\n",
       "      <th>13</th>\n",
       "      <td>Nakano-Ku</td>\n",
       "      <td>596154</td>\n",
       "    </tr>\n",
       "    <tr>\n",
       "      <th>14</th>\n",
       "      <td>Suginami-Ku</td>\n",
       "      <td>559122</td>\n",
       "    </tr>\n",
       "    <tr>\n",
       "      <th>15</th>\n",
       "      <td>Toshima-Ku</td>\n",
       "      <td>731392</td>\n",
       "    </tr>\n",
       "    <tr>\n",
       "      <th>16</th>\n",
       "      <td>Kita-Ku</td>\n",
       "      <td>547695</td>\n",
       "    </tr>\n",
       "    <tr>\n",
       "      <th>17</th>\n",
       "      <td>Arakawa-Ku</td>\n",
       "      <td>492675</td>\n",
       "    </tr>\n",
       "    <tr>\n",
       "      <th>18</th>\n",
       "      <td>Itabashi-Ku</td>\n",
       "      <td>436736</td>\n",
       "    </tr>\n",
       "    <tr>\n",
       "      <th>19</th>\n",
       "      <td>Nerima-Ku</td>\n",
       "      <td>402240</td>\n",
       "    </tr>\n",
       "    <tr>\n",
       "      <th>20</th>\n",
       "      <td>Adachi-Ku</td>\n",
       "      <td>295750</td>\n",
       "    </tr>\n",
       "    <tr>\n",
       "      <th>21</th>\n",
       "      <td>Katsushika-Ku</td>\n",
       "      <td>324876</td>\n",
       "    </tr>\n",
       "    <tr>\n",
       "      <th>22</th>\n",
       "      <td>Edogawa-Ku</td>\n",
       "      <td>332511</td>\n",
       "    </tr>\n",
       "    <tr>\n",
       "      <th>23</th>\n",
       "      <td>Hachioji-Shi</td>\n",
       "      <td>143350</td>\n",
       "    </tr>\n",
       "    <tr>\n",
       "      <th>24</th>\n",
       "      <td>Tachikawa-Shi</td>\n",
       "      <td>259136</td>\n",
       "    </tr>\n",
       "    <tr>\n",
       "      <th>25</th>\n",
       "      <td>Musashino-Shi</td>\n",
       "      <td>550175</td>\n",
       "    </tr>\n",
       "    <tr>\n",
       "      <th>26</th>\n",
       "      <td>Mitaka-Shi</td>\n",
       "      <td>365626</td>\n",
       "    </tr>\n",
       "    <tr>\n",
       "      <th>27</th>\n",
       "      <td>Ome-Shi</td>\n",
       "      <td>90508</td>\n",
       "    </tr>\n",
       "    <tr>\n",
       "      <th>28</th>\n",
       "      <td>Fuchu-Shi</td>\n",
       "      <td>286856</td>\n",
       "    </tr>\n",
       "    <tr>\n",
       "      <th>29</th>\n",
       "      <td>Akishima-Shi</td>\n",
       "      <td>176391</td>\n",
       "    </tr>\n",
       "    <tr>\n",
       "      <th>30</th>\n",
       "      <td>Chofu-Shi</td>\n",
       "      <td>355235</td>\n",
       "    </tr>\n",
       "    <tr>\n",
       "      <th>31</th>\n",
       "      <td>Machida-Shi</td>\n",
       "      <td>152918</td>\n",
       "    </tr>\n",
       "    <tr>\n",
       "      <th>32</th>\n",
       "      <td>Koganei-Shi</td>\n",
       "      <td>311612</td>\n",
       "    </tr>\n",
       "    <tr>\n",
       "      <th>33</th>\n",
       "      <td>Kodaira-Shi</td>\n",
       "      <td>216826</td>\n",
       "    </tr>\n",
       "    <tr>\n",
       "      <th>34</th>\n",
       "      <td>Hino-Shi</td>\n",
       "      <td>197386</td>\n",
       "    </tr>\n",
       "    <tr>\n",
       "      <th>35</th>\n",
       "      <td>Higashimurayama-Shi</td>\n",
       "      <td>184523</td>\n",
       "    </tr>\n",
       "    <tr>\n",
       "      <th>36</th>\n",
       "      <td>Kokubunji-Shi</td>\n",
       "      <td>270993</td>\n",
       "    </tr>\n",
       "    <tr>\n",
       "      <th>37</th>\n",
       "      <td>Kunitachi-Shi</td>\n",
       "      <td>315492</td>\n",
       "    </tr>\n",
       "    <tr>\n",
       "      <th>38</th>\n",
       "      <td>Fussa-Shi</td>\n",
       "      <td>154787</td>\n",
       "    </tr>\n",
       "    <tr>\n",
       "      <th>39</th>\n",
       "      <td>Komae-Shi</td>\n",
       "      <td>309465</td>\n",
       "    </tr>\n",
       "    <tr>\n",
       "      <th>40</th>\n",
       "      <td>Higashiyamato-Shi</td>\n",
       "      <td>151803</td>\n",
       "    </tr>\n",
       "    <tr>\n",
       "      <th>41</th>\n",
       "      <td>Kiyose-Shi</td>\n",
       "      <td>184332</td>\n",
       "    </tr>\n",
       "    <tr>\n",
       "      <th>42</th>\n",
       "      <td>Higashikurume-Shi</td>\n",
       "      <td>215470</td>\n",
       "    </tr>\n",
       "    <tr>\n",
       "      <th>43</th>\n",
       "      <td>Musashimurayama-Shi</td>\n",
       "      <td>114090</td>\n",
       "    </tr>\n",
       "    <tr>\n",
       "      <th>44</th>\n",
       "      <td>Tama-Shi</td>\n",
       "      <td>190620</td>\n",
       "    </tr>\n",
       "    <tr>\n",
       "      <th>45</th>\n",
       "      <td>Inagi-Shi</td>\n",
       "      <td>214439</td>\n",
       "    </tr>\n",
       "    <tr>\n",
       "      <th>46</th>\n",
       "      <td>Hamura-Shi</td>\n",
       "      <td>146853</td>\n",
       "    </tr>\n",
       "    <tr>\n",
       "      <th>47</th>\n",
       "      <td>Akiruno-Shi</td>\n",
       "      <td>80466</td>\n",
       "    </tr>\n",
       "    <tr>\n",
       "      <th>48</th>\n",
       "      <td>Nishitokyo-Shi</td>\n",
       "      <td>290210</td>\n",
       "    </tr>\n",
       "    <tr>\n",
       "      <th>49</th>\n",
       "      <td>Nishitama-Gun</td>\n",
       "      <td>65748</td>\n",
       "    </tr>\n",
       "    <tr>\n",
       "      <th>50</th>\n",
       "      <td>Oshima-Machi</td>\n",
       "      <td>10878</td>\n",
       "    </tr>\n",
       "    <tr>\n",
       "      <th>51</th>\n",
       "      <td>Niijima-Mura</td>\n",
       "      <td>9129</td>\n",
       "    </tr>\n",
       "    <tr>\n",
       "      <th>52</th>\n",
       "      <td>Kozushima-Mura</td>\n",
       "      <td>8170</td>\n",
       "    </tr>\n",
       "    <tr>\n",
       "      <th>53</th>\n",
       "      <td>Ogasawara-Mura</td>\n",
       "      <td>24082</td>\n",
       "    </tr>\n",
       "  </tbody>\n",
       "</table>\n",
       "</div>"
      ],
      "text/plain": [
       "                   Ward Average_Price(SqKm)\n",
       "0            Chiyoda-Ku            2705898 \n",
       "1               Chuo-Ku            2699719 \n",
       "2             Minato-Ku            2121252 \n",
       "3           Shinjuku-Ku             939286 \n",
       "4             Bunkyo-Ku             945155 \n",
       "5              Taito-Ku            1064759 \n",
       "6             Sumida-Ku             617190 \n",
       "7               Koto-Ku             658047 \n",
       "8          Shinagawa-Ku             767398 \n",
       "9             Meguro-Ku             863712 \n",
       "10               Ota-Ku             560106 \n",
       "11          Setagaya-Ku             664106 \n",
       "12           Shibuya-Ku            1360332 \n",
       "13            Nakano-Ku             596154 \n",
       "14          Suginami-Ku             559122 \n",
       "15           Toshima-Ku             731392 \n",
       "16              Kita-Ku             547695 \n",
       "17           Arakawa-Ku             492675 \n",
       "18          Itabashi-Ku             436736 \n",
       "19            Nerima-Ku             402240 \n",
       "20            Adachi-Ku             295750 \n",
       "21        Katsushika-Ku             324876 \n",
       "22           Edogawa-Ku             332511 \n",
       "23         Hachioji-Shi             143350 \n",
       "24        Tachikawa-Shi             259136 \n",
       "25        Musashino-Shi             550175 \n",
       "26           Mitaka-Shi             365626 \n",
       "27              Ome-Shi              90508 \n",
       "28            Fuchu-Shi             286856 \n",
       "29         Akishima-Shi             176391 \n",
       "30            Chofu-Shi             355235 \n",
       "31          Machida-Shi             152918 \n",
       "32          Koganei-Shi             311612 \n",
       "33          Kodaira-Shi             216826 \n",
       "34             Hino-Shi             197386 \n",
       "35  Higashimurayama-Shi             184523 \n",
       "36        Kokubunji-Shi             270993 \n",
       "37        Kunitachi-Shi             315492 \n",
       "38            Fussa-Shi             154787 \n",
       "39            Komae-Shi             309465 \n",
       "40    Higashiyamato-Shi             151803 \n",
       "41           Kiyose-Shi             184332 \n",
       "42    Higashikurume-Shi             215470 \n",
       "43  Musashimurayama-Shi             114090 \n",
       "44             Tama-Shi             190620 \n",
       "45            Inagi-Shi             214439 \n",
       "46           Hamura-Shi             146853 \n",
       "47          Akiruno-Shi              80466 \n",
       "48       Nishitokyo-Shi             290210 \n",
       "49        Nishitama-Gun              65748 \n",
       "50         Oshima-Machi              10878 \n",
       "51         Niijima-Mura               9129 \n",
       "52       Kozushima-Mura               8170 \n",
       "53       Ogasawara-Mura              24082 "
      ]
     },
     "execution_count": 6,
     "metadata": {},
     "output_type": "execute_result"
    }
   ],
   "source": [
    "Name=[]\n",
    "Avg_price = []\n",
    "\n",
    "\n",
    "for row in Price_Tokyo_Table.findAll(\"tr\"):\n",
    "    \n",
    "    price = row.findAll('td')\n",
    "    Name.append(price[0].find(text=True))\n",
    "    Avg_price.append(price[2].find(text=True))   \n",
    "\n",
    "#print(Name)\n",
    "\n",
    "price_df = pd.DataFrame(Name,columns=['Ward'])\n",
    "price_df['Avg_price_sqKm'] = Avg_price\n",
    "\n",
    "\n",
    "\n",
    "\n",
    "price_df['Avg_price_sqKm'] = price_df['Avg_price_sqKm'].map(lambda x: x.rstrip('JPY/sq.m').rstrip('0123456789'))\n",
    "\n",
    "#print (price_df.dtypes)\n",
    "# Change the average price column datatype \n",
    "Avg_price_list = price_df['Avg_price_sqKm'].tolist()\n",
    "New_Avg_price = []\n",
    "\n",
    "for pr in range(len(Avg_price_list)):\n",
    "    x = Avg_price_list[pr].replace(\",\", \"\")\n",
    "    New_Avg_price.append(x)\n",
    "\n",
    "\n",
    "Avg_price_new=[int(s) for s in New_Avg_price]\n",
    "\n",
    "price_df.drop(['Avg_price_sqKm'], axis=1, inplace=True)\n",
    "\n",
    "price_df['Average_Price(SqKm)'] = New_Avg_price\n",
    "\n",
    "price_df"
   ]
  },
  {
   "cell_type": "code",
   "execution_count": 7,
   "metadata": {
    "ExecuteTime": {
     "end_time": "2020-08-03T20:36:06.465236Z",
     "start_time": "2020-08-03T20:36:06.451863Z"
    }
   },
   "outputs": [
    {
     "data": {
      "text/html": [
       "<div>\n",
       "<style scoped>\n",
       "    .dataframe tbody tr th:only-of-type {\n",
       "        vertical-align: middle;\n",
       "    }\n",
       "\n",
       "    .dataframe tbody tr th {\n",
       "        vertical-align: top;\n",
       "    }\n",
       "\n",
       "    .dataframe thead th {\n",
       "        text-align: right;\n",
       "    }\n",
       "</style>\n",
       "<table border=\"1\" class=\"dataframe\">\n",
       "  <thead>\n",
       "    <tr style=\"text-align: right;\">\n",
       "      <th></th>\n",
       "      <th>Ward</th>\n",
       "      <th>Average_Price(SqKm)</th>\n",
       "    </tr>\n",
       "  </thead>\n",
       "  <tbody>\n",
       "    <tr>\n",
       "      <th>1</th>\n",
       "      <td>Chiyoda</td>\n",
       "      <td>2705898</td>\n",
       "    </tr>\n",
       "    <tr>\n",
       "      <th>2</th>\n",
       "      <td>Chuo</td>\n",
       "      <td>2699719</td>\n",
       "    </tr>\n",
       "    <tr>\n",
       "      <th>3</th>\n",
       "      <td>Shinjuku</td>\n",
       "      <td>939286</td>\n",
       "    </tr>\n",
       "    <tr>\n",
       "      <th>4</th>\n",
       "      <td>Shinagawa</td>\n",
       "      <td>767398</td>\n",
       "    </tr>\n",
       "    <tr>\n",
       "      <th>5</th>\n",
       "      <td>Shibuya</td>\n",
       "      <td>1360332</td>\n",
       "    </tr>\n",
       "  </tbody>\n",
       "</table>\n",
       "</div>"
      ],
      "text/plain": [
       "        Ward Average_Price(SqKm)\n",
       "1    Chiyoda            2705898 \n",
       "2       Chuo            2699719 \n",
       "3   Shinjuku             939286 \n",
       "4  Shinagawa             767398 \n",
       "5    Shibuya            1360332 "
      ]
     },
     "execution_count": 7,
     "metadata": {},
     "output_type": "execute_result"
    }
   ],
   "source": [
    "## Select info only for 5 relevant wards Chiyoda, Chuo, Shinjuku, Shibuya, Shinagawa. \n",
    "## \n",
    "pd.options.mode.chained_assignment = None\n",
    "ward_list = ['Chiyoda-Ku', 'Chuo-Ku', 'Shinjuku-Ku', 'Shibuya-Ku', 'Shinagawa-Ku']\n",
    "price_df_selected = price_df.loc[price_df['Ward'].isin(ward_list)]\n",
    "price_df_selected.index = np.arange(1, len(price_df_selected) + 1)\n",
    "#Ward_names = price_df_selected['Ward'].map(lambda y: str(y)[:-3]) # strip -Ku from the ward names\n",
    "price_df_selected['Ward']=price_df_selected['Ward'].map(lambda y: str(y)[:-3]) \n",
    "#price_df_selected.drop(['Ward'], axis=1, inplace=True)\n",
    "#price_df_selected['Ward']=Ward_names\n",
    "price_df_selected"
   ]
  },
  {
   "cell_type": "code",
   "execution_count": 8,
   "metadata": {
    "ExecuteTime": {
     "end_time": "2020-08-03T20:36:06.480822Z",
     "start_time": "2020-08-03T20:36:06.466413Z"
    }
   },
   "outputs": [
    {
     "data": {
      "text/html": [
       "<div>\n",
       "<style scoped>\n",
       "    .dataframe tbody tr th:only-of-type {\n",
       "        vertical-align: middle;\n",
       "    }\n",
       "\n",
       "    .dataframe tbody tr th {\n",
       "        vertical-align: top;\n",
       "    }\n",
       "\n",
       "    .dataframe thead th {\n",
       "        text-align: right;\n",
       "    }\n",
       "</style>\n",
       "<table border=\"1\" class=\"dataframe\">\n",
       "  <thead>\n",
       "    <tr style=\"text-align: right;\">\n",
       "      <th></th>\n",
       "      <th>Ward</th>\n",
       "      <th>Area_SqKm</th>\n",
       "      <th>Population</th>\n",
       "      <th>Major_District</th>\n",
       "      <th>Dist_Latitude</th>\n",
       "      <th>Dist_Longitude</th>\n",
       "    </tr>\n",
       "  </thead>\n",
       "  <tbody>\n",
       "    <tr>\n",
       "      <th>1</th>\n",
       "      <td>Chiyoda</td>\n",
       "      <td>5100</td>\n",
       "      <td>59441</td>\n",
       "      <td>Nagatacho</td>\n",
       "      <td>35.675618</td>\n",
       "      <td>139.743469</td>\n",
       "    </tr>\n",
       "    <tr>\n",
       "      <th>2</th>\n",
       "      <td>Chuo</td>\n",
       "      <td>14460</td>\n",
       "      <td>147620</td>\n",
       "      <td>Nihonbashi</td>\n",
       "      <td>35.684058</td>\n",
       "      <td>139.774501</td>\n",
       "    </tr>\n",
       "    <tr>\n",
       "      <th>4</th>\n",
       "      <td>Shinjuku</td>\n",
       "      <td>18620</td>\n",
       "      <td>339211</td>\n",
       "      <td>Shinjuku</td>\n",
       "      <td>35.693763</td>\n",
       "      <td>139.703632</td>\n",
       "    </tr>\n",
       "    <tr>\n",
       "      <th>9</th>\n",
       "      <td>Shinagawa</td>\n",
       "      <td>17180</td>\n",
       "      <td>392492</td>\n",
       "      <td>Shinagawa</td>\n",
       "      <td>35.599252</td>\n",
       "      <td>139.738910</td>\n",
       "    </tr>\n",
       "    <tr>\n",
       "      <th>13</th>\n",
       "      <td>Shibuya</td>\n",
       "      <td>15080</td>\n",
       "      <td>227850</td>\n",
       "      <td>Shibuya</td>\n",
       "      <td>35.664596</td>\n",
       "      <td>139.698711</td>\n",
       "    </tr>\n",
       "  </tbody>\n",
       "</table>\n",
       "</div>"
      ],
      "text/plain": [
       "         Ward  Area_SqKm  Population Major_District  Dist_Latitude  \\\n",
       "1     Chiyoda       5100       59441      Nagatacho      35.675618   \n",
       "2        Chuo      14460      147620     Nihonbashi      35.684058   \n",
       "4    Shinjuku      18620      339211       Shinjuku      35.693763   \n",
       "9   Shinagawa      17180      392492      Shinagawa      35.599252   \n",
       "13    Shibuya      15080      227850        Shibuya      35.664596   \n",
       "\n",
       "    Dist_Longitude  \n",
       "1       139.743469  \n",
       "2       139.774501  \n",
       "4       139.703632  \n",
       "9       139.738910  \n",
       "13      139.698711  "
      ]
     },
     "execution_count": 8,
     "metadata": {},
     "output_type": "execute_result"
    }
   ],
   "source": [
    "## Similarly select those five wards from the Tokyo Wards Data-Frame\n",
    "ward_list1 = ['Chiyoda', 'Chuo', 'Shinjuku', 'Shibuya', 'Shinagawa']\n",
    "Tokyo_df_selected = Tokyo_df.loc[Tokyo_df['Ward'].isin(ward_list1)]\n",
    "Tokyo_df_selected"
   ]
  },
  {
   "cell_type": "code",
   "execution_count": 9,
   "metadata": {
    "ExecuteTime": {
     "end_time": "2020-08-03T20:36:06.499006Z",
     "start_time": "2020-08-03T20:36:06.481900Z"
    }
   },
   "outputs": [
    {
     "data": {
      "text/html": [
       "<div>\n",
       "<style scoped>\n",
       "    .dataframe tbody tr th:only-of-type {\n",
       "        vertical-align: middle;\n",
       "    }\n",
       "\n",
       "    .dataframe tbody tr th {\n",
       "        vertical-align: top;\n",
       "    }\n",
       "\n",
       "    .dataframe thead th {\n",
       "        text-align: right;\n",
       "    }\n",
       "</style>\n",
       "<table border=\"1\" class=\"dataframe\">\n",
       "  <thead>\n",
       "    <tr style=\"text-align: right;\">\n",
       "      <th></th>\n",
       "      <th>Ward</th>\n",
       "      <th>Area_SqKm</th>\n",
       "      <th>Population</th>\n",
       "      <th>Major_District</th>\n",
       "      <th>Dist_Latitude</th>\n",
       "      <th>Dist_Longitude</th>\n",
       "      <th>Average_Price(SqKm)</th>\n",
       "    </tr>\n",
       "  </thead>\n",
       "  <tbody>\n",
       "    <tr>\n",
       "      <th>1</th>\n",
       "      <td>Chiyoda</td>\n",
       "      <td>5100</td>\n",
       "      <td>59441</td>\n",
       "      <td>Nagatacho</td>\n",
       "      <td>35.675618</td>\n",
       "      <td>139.743469</td>\n",
       "      <td>2705898</td>\n",
       "    </tr>\n",
       "    <tr>\n",
       "      <th>2</th>\n",
       "      <td>Chuo</td>\n",
       "      <td>14460</td>\n",
       "      <td>147620</td>\n",
       "      <td>Nihonbashi</td>\n",
       "      <td>35.684058</td>\n",
       "      <td>139.774501</td>\n",
       "      <td>2699719</td>\n",
       "    </tr>\n",
       "    <tr>\n",
       "      <th>3</th>\n",
       "      <td>Shinjuku</td>\n",
       "      <td>18620</td>\n",
       "      <td>339211</td>\n",
       "      <td>Shinjuku</td>\n",
       "      <td>35.693763</td>\n",
       "      <td>139.703632</td>\n",
       "      <td>939286</td>\n",
       "    </tr>\n",
       "    <tr>\n",
       "      <th>4</th>\n",
       "      <td>Shinagawa</td>\n",
       "      <td>17180</td>\n",
       "      <td>392492</td>\n",
       "      <td>Shinagawa</td>\n",
       "      <td>35.599252</td>\n",
       "      <td>139.738910</td>\n",
       "      <td>767398</td>\n",
       "    </tr>\n",
       "    <tr>\n",
       "      <th>5</th>\n",
       "      <td>Shibuya</td>\n",
       "      <td>15080</td>\n",
       "      <td>227850</td>\n",
       "      <td>Shibuya</td>\n",
       "      <td>35.664596</td>\n",
       "      <td>139.698711</td>\n",
       "      <td>1360332</td>\n",
       "    </tr>\n",
       "  </tbody>\n",
       "</table>\n",
       "</div>"
      ],
      "text/plain": [
       "        Ward  Area_SqKm  Population Major_District  Dist_Latitude  \\\n",
       "1    Chiyoda       5100       59441      Nagatacho      35.675618   \n",
       "2       Chuo      14460      147620     Nihonbashi      35.684058   \n",
       "3   Shinjuku      18620      339211       Shinjuku      35.693763   \n",
       "4  Shinagawa      17180      392492      Shinagawa      35.599252   \n",
       "5    Shibuya      15080      227850        Shibuya      35.664596   \n",
       "\n",
       "   Dist_Longitude Average_Price(SqKm)  \n",
       "1      139.743469            2705898   \n",
       "2      139.774501            2699719   \n",
       "3      139.703632             939286   \n",
       "4      139.738910             767398   \n",
       "5      139.698711            1360332   "
      ]
     },
     "execution_count": 9,
     "metadata": {},
     "output_type": "execute_result"
    }
   ],
   "source": [
    "# Merge the two dataframes according to the ward names \n",
    "\n",
    "Tokyo_df_selected_final = Tokyo_df_selected.merge(price_df_selected, on='Ward', how='left')\n",
    "Tokyo_df_selected_final.index = np.arange(1, len(Tokyo_df_selected_final)+1)\n",
    "Tokyo_df_selected_final.to_csv('Tokyo_5_Wards.csv')\n",
    "Tokyo_df_selected_final"
   ]
  },
  {
   "cell_type": "code",
   "execution_count": 10,
   "metadata": {
    "ExecuteTime": {
     "end_time": "2020-08-03T20:36:06.970991Z",
     "start_time": "2020-08-03T20:36:06.500094Z"
    }
   },
   "outputs": [
    {
     "name": "stdout",
     "output_type": "stream",
     "text": [
      "The geograpical coordinates of Tokyo are 35.6828387, 139.7594549.\n"
     ]
    }
   ],
   "source": [
    "# get Tokyo, Tokyo Latitude and Longitude \n",
    "\n",
    "from geopy.geocoders import Nominatim # convert an address into latitude and longitude values\n",
    "address = 'Tokyo'\n",
    "\n",
    "geolocator = Nominatim(user_agent=\"Tokyo_explorer\")\n",
    "location = geolocator.geocode(address)\n",
    "Tokyo_latitude = location.latitude\n",
    "Tokyo_longitude = location.longitude\n",
    "print('The geograpical coordinates of Tokyo are {}, {}.'.format(Tokyo_latitude, Tokyo_longitude))"
   ]
  },
  {
   "cell_type": "code",
   "execution_count": 11,
   "metadata": {
    "ExecuteTime": {
     "end_time": "2020-08-03T20:36:07.267987Z",
     "start_time": "2020-08-03T20:36:06.973093Z"
    }
   },
   "outputs": [
    {
     "data": {
      "text/html": [
       "<div style=\"width:100%;\"><div style=\"position:relative;width:100%;height:0;padding-bottom:60%;\"><span style=\"color:#565656\">Make this Notebook Trusted to load map: File -> Trust Notebook</span><iframe src=\"about:blank\" style=\"position:absolute;width:100%;height:100%;left:0;top:0;border:none !important;\" data-html=PCFET0NUWVBFIGh0bWw+CjxoZWFkPiAgICAKICAgIDxtZXRhIGh0dHAtZXF1aXY9ImNvbnRlbnQtdHlwZSIgY29udGVudD0idGV4dC9odG1sOyBjaGFyc2V0PVVURi04IiAvPgogICAgCiAgICAgICAgPHNjcmlwdD4KICAgICAgICAgICAgTF9OT19UT1VDSCA9IGZhbHNlOwogICAgICAgICAgICBMX0RJU0FCTEVfM0QgPSBmYWxzZTsKICAgICAgICA8L3NjcmlwdD4KICAgIAogICAgPHNjcmlwdCBzcmM9Imh0dHBzOi8vY2RuLmpzZGVsaXZyLm5ldC9ucG0vbGVhZmxldEAxLjYuMC9kaXN0L2xlYWZsZXQuanMiPjwvc2NyaXB0PgogICAgPHNjcmlwdCBzcmM9Imh0dHBzOi8vY29kZS5qcXVlcnkuY29tL2pxdWVyeS0xLjEyLjQubWluLmpzIj48L3NjcmlwdD4KICAgIDxzY3JpcHQgc3JjPSJodHRwczovL21heGNkbi5ib290c3RyYXBjZG4uY29tL2Jvb3RzdHJhcC8zLjIuMC9qcy9ib290c3RyYXAubWluLmpzIj48L3NjcmlwdD4KICAgIDxzY3JpcHQgc3JjPSJodHRwczovL2NkbmpzLmNsb3VkZmxhcmUuY29tL2FqYXgvbGlicy9MZWFmbGV0LmF3ZXNvbWUtbWFya2Vycy8yLjAuMi9sZWFmbGV0LmF3ZXNvbWUtbWFya2Vycy5qcyI+PC9zY3JpcHQ+CiAgICA8bGluayByZWw9InN0eWxlc2hlZXQiIGhyZWY9Imh0dHBzOi8vY2RuLmpzZGVsaXZyLm5ldC9ucG0vbGVhZmxldEAxLjYuMC9kaXN0L2xlYWZsZXQuY3NzIi8+CiAgICA8bGluayByZWw9InN0eWxlc2hlZXQiIGhyZWY9Imh0dHBzOi8vbWF4Y2RuLmJvb3RzdHJhcGNkbi5jb20vYm9vdHN0cmFwLzMuMi4wL2Nzcy9ib290c3RyYXAubWluLmNzcyIvPgogICAgPGxpbmsgcmVsPSJzdHlsZXNoZWV0IiBocmVmPSJodHRwczovL21heGNkbi5ib290c3RyYXBjZG4uY29tL2Jvb3RzdHJhcC8zLjIuMC9jc3MvYm9vdHN0cmFwLXRoZW1lLm1pbi5jc3MiLz4KICAgIDxsaW5rIHJlbD0ic3R5bGVzaGVldCIgaHJlZj0iaHR0cHM6Ly9tYXhjZG4uYm9vdHN0cmFwY2RuLmNvbS9mb250LWF3ZXNvbWUvNC42LjMvY3NzL2ZvbnQtYXdlc29tZS5taW4uY3NzIi8+CiAgICA8bGluayByZWw9InN0eWxlc2hlZXQiIGhyZWY9Imh0dHBzOi8vY2RuanMuY2xvdWRmbGFyZS5jb20vYWpheC9saWJzL0xlYWZsZXQuYXdlc29tZS1tYXJrZXJzLzIuMC4yL2xlYWZsZXQuYXdlc29tZS1tYXJrZXJzLmNzcyIvPgogICAgPGxpbmsgcmVsPSJzdHlsZXNoZWV0IiBocmVmPSJodHRwczovL3Jhd2Nkbi5naXRoYWNrLmNvbS9weXRob24tdmlzdWFsaXphdGlvbi9mb2xpdW0vbWFzdGVyL2ZvbGl1bS90ZW1wbGF0ZXMvbGVhZmxldC5hd2Vzb21lLnJvdGF0ZS5jc3MiLz4KICAgIDxzdHlsZT5odG1sLCBib2R5IHt3aWR0aDogMTAwJTtoZWlnaHQ6IDEwMCU7bWFyZ2luOiAwO3BhZGRpbmc6IDA7fTwvc3R5bGU+CiAgICA8c3R5bGU+I21hcCB7cG9zaXRpb246YWJzb2x1dGU7dG9wOjA7Ym90dG9tOjA7cmlnaHQ6MDtsZWZ0OjA7fTwvc3R5bGU+CiAgICAKICAgICAgICAgICAgPG1ldGEgbmFtZT0idmlld3BvcnQiIGNvbnRlbnQ9IndpZHRoPWRldmljZS13aWR0aCwKICAgICAgICAgICAgICAgIGluaXRpYWwtc2NhbGU9MS4wLCBtYXhpbXVtLXNjYWxlPTEuMCwgdXNlci1zY2FsYWJsZT1ubyIgLz4KICAgICAgICAgICAgPHN0eWxlPgogICAgICAgICAgICAgICAgI21hcF81NDdkNjliOThkZGU0NDI4OGMyOWEzMmYxM2FhZTBmZCB7CiAgICAgICAgICAgICAgICAgICAgcG9zaXRpb246IHJlbGF0aXZlOwogICAgICAgICAgICAgICAgICAgIHdpZHRoOiAxMDAuMCU7CiAgICAgICAgICAgICAgICAgICAgaGVpZ2h0OiAxMDAuMCU7CiAgICAgICAgICAgICAgICAgICAgbGVmdDogMC4wJTsKICAgICAgICAgICAgICAgICAgICB0b3A6IDAuMCU7CiAgICAgICAgICAgICAgICB9CiAgICAgICAgICAgIDwvc3R5bGU+CiAgICAgICAgCjwvaGVhZD4KPGJvZHk+ICAgIAogICAgCiAgICAgICAgICAgIDxkaXYgY2xhc3M9ImZvbGl1bS1tYXAiIGlkPSJtYXBfNTQ3ZDY5Yjk4ZGRlNDQyODhjMjlhMzJmMTNhYWUwZmQiID48L2Rpdj4KICAgICAgICAKPC9ib2R5Pgo8c2NyaXB0PiAgICAKICAgIAogICAgICAgICAgICB2YXIgbWFwXzU0N2Q2OWI5OGRkZTQ0Mjg4YzI5YTMyZjEzYWFlMGZkID0gTC5tYXAoCiAgICAgICAgICAgICAgICAibWFwXzU0N2Q2OWI5OGRkZTQ0Mjg4YzI5YTMyZjEzYWFlMGZkIiwKICAgICAgICAgICAgICAgIHsKICAgICAgICAgICAgICAgICAgICBjZW50ZXI6IFszNS42ODI4Mzg3LCAxMzkuNzU5NDU0OV0sCiAgICAgICAgICAgICAgICAgICAgY3JzOiBMLkNSUy5FUFNHMzg1NywKICAgICAgICAgICAgICAgICAgICB6b29tOiAxMiwKICAgICAgICAgICAgICAgICAgICB6b29tQ29udHJvbDogdHJ1ZSwKICAgICAgICAgICAgICAgICAgICBwcmVmZXJDYW52YXM6IGZhbHNlLAogICAgICAgICAgICAgICAgfQogICAgICAgICAgICApOwoKICAgICAgICAgICAgCgogICAgICAgIAogICAgCiAgICAgICAgICAgIHZhciB0aWxlX2xheWVyXzJlOTdhMjIzMTlmMTQ1NDk4ZjIxMGE3ZDdhMzRjMGUxID0gTC50aWxlTGF5ZXIoCiAgICAgICAgICAgICAgICAiaHR0cHM6Ly97c30udGlsZS5vcGVuc3RyZWV0bWFwLm9yZy97en0ve3h9L3t5fS5wbmciLAogICAgICAgICAgICAgICAgeyJhdHRyaWJ1dGlvbiI6ICJEYXRhIGJ5IFx1MDAyNmNvcHk7IFx1MDAzY2EgaHJlZj1cImh0dHA6Ly9vcGVuc3RyZWV0bWFwLm9yZ1wiXHUwMDNlT3BlblN0cmVldE1hcFx1MDAzYy9hXHUwMDNlLCB1bmRlciBcdTAwM2NhIGhyZWY9XCJodHRwOi8vd3d3Lm9wZW5zdHJlZXRtYXAub3JnL2NvcHlyaWdodFwiXHUwMDNlT0RiTFx1MDAzYy9hXHUwMDNlLiIsICJkZXRlY3RSZXRpbmEiOiBmYWxzZSwgIm1heE5hdGl2ZVpvb20iOiAxOCwgIm1heFpvb20iOiAxOCwgIm1pblpvb20iOiAwLCAibm9XcmFwIjogZmFsc2UsICJvcGFjaXR5IjogMSwgInN1YmRvbWFpbnMiOiAiYWJjIiwgInRtcyI6IGZhbHNlfQogICAgICAgICAgICApLmFkZFRvKG1hcF81NDdkNjliOThkZGU0NDI4OGMyOWEzMmYxM2FhZTBmZCk7CiAgICAgICAgCiAgICAKICAgICAgICAgICAgdmFyIGNpcmNsZV9tYXJrZXJfN2ExYWQ5MGVjZjE3NGI2YTliNzY2MGFjMjgxZDc0YmQgPSBMLmNpcmNsZU1hcmtlcigKICAgICAgICAgICAgICAgIFszNS42NzU2MTgsIDEzOS43NDM0Njg1XSwKICAgICAgICAgICAgICAgIHsiYnViYmxpbmdNb3VzZUV2ZW50cyI6IHRydWUsICJjb2xvciI6ICJtYWdlbnRhIiwgImRhc2hBcnJheSI6IG51bGwsICJkYXNoT2Zmc2V0IjogbnVsbCwgImZpbGwiOiB0cnVlLCAiZmlsbENvbG9yIjogIiMzMTg2Y2MiLCAiZmlsbE9wYWNpdHkiOiAwLjcsICJmaWxsUnVsZSI6ICJldmVub2RkIiwgImxpbmVDYXAiOiAicm91bmQiLCAibGluZUpvaW4iOiAicm91bmQiLCAib3BhY2l0eSI6IDEuMCwgInJhZGl1cyI6IDksICJzdHJva2UiOiB0cnVlLCAid2VpZ2h0IjogM30KICAgICAgICAgICAgKS5hZGRUbyhtYXBfNTQ3ZDY5Yjk4ZGRlNDQyODhjMjlhMzJmMTNhYWUwZmQpOwogICAgICAgIAogICAgCiAgICAgICAgdmFyIHBvcHVwXzFlNWQ5ODBlYmY5MDQxZDliNTU5YWIyZmYyYWYxNTk1ID0gTC5wb3B1cCh7Im1heFdpZHRoIjogIjEwMCUifSk7CgogICAgICAgIAogICAgICAgICAgICB2YXIgaHRtbF9lZWU3NDBkNzc4NTg0ZjNjYjk5NGIzM2NmMmY5NzlmNCA9ICQoYDxkaXYgaWQ9Imh0bWxfZWVlNzQwZDc3ODU4NGYzY2I5OTRiMzNjZjJmOTc5ZjQiIHN0eWxlPSJ3aWR0aDogMTAwLjAlOyBoZWlnaHQ6IDEwMC4wJTsiPk5hZ2F0YWNobzwvZGl2PmApWzBdOwogICAgICAgICAgICBwb3B1cF8xZTVkOTgwZWJmOTA0MWQ5YjU1OWFiMmZmMmFmMTU5NS5zZXRDb250ZW50KGh0bWxfZWVlNzQwZDc3ODU4NGYzY2I5OTRiMzNjZjJmOTc5ZjQpOwogICAgICAgIAoKICAgICAgICBjaXJjbGVfbWFya2VyXzdhMWFkOTBlY2YxNzRiNmE5Yjc2NjBhYzI4MWQ3NGJkLmJpbmRQb3B1cChwb3B1cF8xZTVkOTgwZWJmOTA0MWQ5YjU1OWFiMmZmMmFmMTU5NSkKICAgICAgICA7CgogICAgICAgIAogICAgCiAgICAKICAgICAgICAgICAgdmFyIGNpcmNsZV9tYXJrZXJfMGUyNzI1Zjk1YmJkNDk2NzgyN2U5MmI3ODM1MjM2NTggPSBMLmNpcmNsZU1hcmtlcigKICAgICAgICAgICAgICAgIFszNS42ODQwNTgsIDEzOS43NzQ1MDEzNzc5NzldLAogICAgICAgICAgICAgICAgeyJidWJibGluZ01vdXNlRXZlbnRzIjogdHJ1ZSwgImNvbG9yIjogIm1hZ2VudGEiLCAiZGFzaEFycmF5IjogbnVsbCwgImRhc2hPZmZzZXQiOiBudWxsLCAiZmlsbCI6IHRydWUsICJmaWxsQ29sb3IiOiAiIzMxODZjYyIsICJmaWxsT3BhY2l0eSI6IDAuNywgImZpbGxSdWxlIjogImV2ZW5vZGQiLCAibGluZUNhcCI6ICJyb3VuZCIsICJsaW5lSm9pbiI6ICJyb3VuZCIsICJvcGFjaXR5IjogMS4wLCAicmFkaXVzIjogOSwgInN0cm9rZSI6IHRydWUsICJ3ZWlnaHQiOiAzfQogICAgICAgICAgICApLmFkZFRvKG1hcF81NDdkNjliOThkZGU0NDI4OGMyOWEzMmYxM2FhZTBmZCk7CiAgICAgICAgCiAgICAKICAgICAgICB2YXIgcG9wdXBfMDNjODRjYWVlZjFhNDliYTgyYmE4ZTQ1Zjc5MzI5ZGEgPSBMLnBvcHVwKHsibWF4V2lkdGgiOiAiMTAwJSJ9KTsKCiAgICAgICAgCiAgICAgICAgICAgIHZhciBodG1sXzVkMzIzY2JlYzNjZjRjNDQ5NTBhNGRlY2RlNGJlZmM1ID0gJChgPGRpdiBpZD0iaHRtbF81ZDMyM2NiZWMzY2Y0YzQ0OTUwYTRkZWNkZTRiZWZjNSIgc3R5bGU9IndpZHRoOiAxMDAuMCU7IGhlaWdodDogMTAwLjAlOyI+Tmlob25iYXNoaTwvZGl2PmApWzBdOwogICAgICAgICAgICBwb3B1cF8wM2M4NGNhZWVmMWE0OWJhODJiYThlNDVmNzkzMjlkYS5zZXRDb250ZW50KGh0bWxfNWQzMjNjYmVjM2NmNGM0NDk1MGE0ZGVjZGU0YmVmYzUpOwogICAgICAgIAoKICAgICAgICBjaXJjbGVfbWFya2VyXzBlMjcyNWY5NWJiZDQ5Njc4MjdlOTJiNzgzNTIzNjU4LmJpbmRQb3B1cChwb3B1cF8wM2M4NGNhZWVmMWE0OWJhODJiYThlNDVmNzkzMjlkYSkKICAgICAgICA7CgogICAgICAgIAogICAgCiAgICAKICAgICAgICAgICAgdmFyIGNpcmNsZV9tYXJrZXJfMzkyZjhjYTRhMTU0NGQ4ZmI0MWZjMzdkYmM1MTA4MjkgPSBMLmNpcmNsZU1hcmtlcigKICAgICAgICAgICAgICAgIFszNS42OTM3NjMyMDAwMDAwMSwgMTM5LjcwMzYzMTldLAogICAgICAgICAgICAgICAgeyJidWJibGluZ01vdXNlRXZlbnRzIjogdHJ1ZSwgImNvbG9yIjogIm1hZ2VudGEiLCAiZGFzaEFycmF5IjogbnVsbCwgImRhc2hPZmZzZXQiOiBudWxsLCAiZmlsbCI6IHRydWUsICJmaWxsQ29sb3IiOiAiIzMxODZjYyIsICJmaWxsT3BhY2l0eSI6IDAuNywgImZpbGxSdWxlIjogImV2ZW5vZGQiLCAibGluZUNhcCI6ICJyb3VuZCIsICJsaW5lSm9pbiI6ICJyb3VuZCIsICJvcGFjaXR5IjogMS4wLCAicmFkaXVzIjogOSwgInN0cm9rZSI6IHRydWUsICJ3ZWlnaHQiOiAzfQogICAgICAgICAgICApLmFkZFRvKG1hcF81NDdkNjliOThkZGU0NDI4OGMyOWEzMmYxM2FhZTBmZCk7CiAgICAgICAgCiAgICAKICAgICAgICB2YXIgcG9wdXBfOTFmMTMxMmQzNjk1NDNjN2JjOGVhNjMxODYwODE5MGUgPSBMLnBvcHVwKHsibWF4V2lkdGgiOiAiMTAwJSJ9KTsKCiAgICAgICAgCiAgICAgICAgICAgIHZhciBodG1sXzE2ODE1MGViZjkzMzQ3ZGJhNTI0ODI5ZDcyOTkwMWUxID0gJChgPGRpdiBpZD0iaHRtbF8xNjgxNTBlYmY5MzM0N2RiYTUyNDgyOWQ3Mjk5MDFlMSIgc3R5bGU9IndpZHRoOiAxMDAuMCU7IGhlaWdodDogMTAwLjAlOyI+U2hpbmp1a3U8L2Rpdj5gKVswXTsKICAgICAgICAgICAgcG9wdXBfOTFmMTMxMmQzNjk1NDNjN2JjOGVhNjMxODYwODE5MGUuc2V0Q29udGVudChodG1sXzE2ODE1MGViZjkzMzQ3ZGJhNTI0ODI5ZDcyOTkwMWUxKTsKICAgICAgICAKCiAgICAgICAgY2lyY2xlX21hcmtlcl8zOTJmOGNhNGExNTQ0ZDhmYjQxZmMzN2RiYzUxMDgyOS5iaW5kUG9wdXAocG9wdXBfOTFmMTMxMmQzNjk1NDNjN2JjOGVhNjMxODYwODE5MGUpCiAgICAgICAgOwoKICAgICAgICAKICAgIAogICAgCiAgICAgICAgICAgIHZhciBjaXJjbGVfbWFya2VyXzIzN2Q5OWNlNDgyZjQ2N2ViNDNiMmQyNTVmYmE5NDBkID0gTC5jaXJjbGVNYXJrZXIoCiAgICAgICAgICAgICAgICBbMzUuNTk5MjUyLCAxMzkuNzM4OTFdLAogICAgICAgICAgICAgICAgeyJidWJibGluZ01vdXNlRXZlbnRzIjogdHJ1ZSwgImNvbG9yIjogIm1hZ2VudGEiLCAiZGFzaEFycmF5IjogbnVsbCwgImRhc2hPZmZzZXQiOiBudWxsLCAiZmlsbCI6IHRydWUsICJmaWxsQ29sb3IiOiAiIzMxODZjYyIsICJmaWxsT3BhY2l0eSI6IDAuNywgImZpbGxSdWxlIjogImV2ZW5vZGQiLCAibGluZUNhcCI6ICJyb3VuZCIsICJsaW5lSm9pbiI6ICJyb3VuZCIsICJvcGFjaXR5IjogMS4wLCAicmFkaXVzIjogOSwgInN0cm9rZSI6IHRydWUsICJ3ZWlnaHQiOiAzfQogICAgICAgICAgICApLmFkZFRvKG1hcF81NDdkNjliOThkZGU0NDI4OGMyOWEzMmYxM2FhZTBmZCk7CiAgICAgICAgCiAgICAKICAgICAgICB2YXIgcG9wdXBfZTk4ZmQxNWU0ODU0NDVmZjkxOWM0M2Q3MWNhMjg0NWMgPSBMLnBvcHVwKHsibWF4V2lkdGgiOiAiMTAwJSJ9KTsKCiAgICAgICAgCiAgICAgICAgICAgIHZhciBodG1sX2ExZTY3MGZiNDZmZjQ5OWE5YjJmMDZhYzcxZjE3N2FiID0gJChgPGRpdiBpZD0iaHRtbF9hMWU2NzBmYjQ2ZmY0OTlhOWIyZjA2YWM3MWYxNzdhYiIgc3R5bGU9IndpZHRoOiAxMDAuMCU7IGhlaWdodDogMTAwLjAlOyI+U2hpbmFnYXdhPC9kaXY+YClbMF07CiAgICAgICAgICAgIHBvcHVwX2U5OGZkMTVlNDg1NDQ1ZmY5MTljNDNkNzFjYTI4NDVjLnNldENvbnRlbnQoaHRtbF9hMWU2NzBmYjQ2ZmY0OTlhOWIyZjA2YWM3MWYxNzdhYik7CiAgICAgICAgCgogICAgICAgIGNpcmNsZV9tYXJrZXJfMjM3ZDk5Y2U0ODJmNDY3ZWI0M2IyZDI1NWZiYTk0MGQuYmluZFBvcHVwKHBvcHVwX2U5OGZkMTVlNDg1NDQ1ZmY5MTljNDNkNzFjYTI4NDVjKQogICAgICAgIDsKCiAgICAgICAgCiAgICAKICAgIAogICAgICAgICAgICB2YXIgY2lyY2xlX21hcmtlcl9hM2E3YmUxYTQyMDQ0MTVlYTE3NzA5N2MwN2NkYWIzZCA9IEwuY2lyY2xlTWFya2VyKAogICAgICAgICAgICAgICAgWzM1LjY2NDU5NTYsIDEzOS42OTg3MTA3XSwKICAgICAgICAgICAgICAgIHsiYnViYmxpbmdNb3VzZUV2ZW50cyI6IHRydWUsICJjb2xvciI6ICJtYWdlbnRhIiwgImRhc2hBcnJheSI6IG51bGwsICJkYXNoT2Zmc2V0IjogbnVsbCwgImZpbGwiOiB0cnVlLCAiZmlsbENvbG9yIjogIiMzMTg2Y2MiLCAiZmlsbE9wYWNpdHkiOiAwLjcsICJmaWxsUnVsZSI6ICJldmVub2RkIiwgImxpbmVDYXAiOiAicm91bmQiLCAibGluZUpvaW4iOiAicm91bmQiLCAib3BhY2l0eSI6IDEuMCwgInJhZGl1cyI6IDksICJzdHJva2UiOiB0cnVlLCAid2VpZ2h0IjogM30KICAgICAgICAgICAgKS5hZGRUbyhtYXBfNTQ3ZDY5Yjk4ZGRlNDQyODhjMjlhMzJmMTNhYWUwZmQpOwogICAgICAgIAogICAgCiAgICAgICAgdmFyIHBvcHVwXzljNTQzZGFjNjg2YTQzM2RhNmEwNzE4OTllYThkZjE3ID0gTC5wb3B1cCh7Im1heFdpZHRoIjogIjEwMCUifSk7CgogICAgICAgIAogICAgICAgICAgICB2YXIgaHRtbF8wNTY1OWJlNjFjNmU0YmQxYjk1NmYzMDdmYzZkZDE4NCA9ICQoYDxkaXYgaWQ9Imh0bWxfMDU2NTliZTYxYzZlNGJkMWI5NTZmMzA3ZmM2ZGQxODQiIHN0eWxlPSJ3aWR0aDogMTAwLjAlOyBoZWlnaHQ6IDEwMC4wJTsiPlNoaWJ1eWE8L2Rpdj5gKVswXTsKICAgICAgICAgICAgcG9wdXBfOWM1NDNkYWM2ODZhNDMzZGE2YTA3MTg5OWVhOGRmMTcuc2V0Q29udGVudChodG1sXzA1NjU5YmU2MWM2ZTRiZDFiOTU2ZjMwN2ZjNmRkMTg0KTsKICAgICAgICAKCiAgICAgICAgY2lyY2xlX21hcmtlcl9hM2E3YmUxYTQyMDQ0MTVlYTE3NzA5N2MwN2NkYWIzZC5iaW5kUG9wdXAocG9wdXBfOWM1NDNkYWM2ODZhNDMzZGE2YTA3MTg5OWVhOGRmMTcpCiAgICAgICAgOwoKICAgICAgICAKICAgIAo8L3NjcmlwdD4= onload=\"this.contentDocument.open();this.contentDocument.write(atob(this.getAttribute('data-html')));this.contentDocument.close();\" allowfullscreen webkitallowfullscreen mozallowfullscreen></iframe></div></div>"
      ],
      "text/plain": [
       "<folium.folium.Map at 0x7f3d1c057130>"
      ]
     },
     "execution_count": 11,
     "metadata": {},
     "output_type": "execute_result"
    }
   ],
   "source": [
    "import folium\n",
    "# # create map of Most Busy Office Areas of Tokyo using latitude and longitude values\n",
    "Tokyo_5Wards = folium.Map(location=[Tokyo_latitude, Tokyo_longitude], zoom_start=12)\n",
    "\n",
    "# add markers to map\n",
    "for lat, lng, label in zip(Tokyo_df_selected_final['Dist_Latitude'], Tokyo_df_selected_final['Dist_Longitude'], \n",
    "                           Tokyo_df_selected_final['Major_District']):\n",
    "    label = folium.Popup(label, parse_html=True)\n",
    "    folium.CircleMarker(\n",
    "        [lat, lng],\n",
    "        radius=9,\n",
    "        popup=label,\n",
    "        color='magenta',\n",
    "        fill=True,\n",
    "        fill_color='#3186cc',\n",
    "        fill_opacity=0.7).add_to(Tokyo_5Wards)  \n",
    "    \n",
    "Tokyo_5Wards"
   ]
  },
  {
   "cell_type": "code",
   "execution_count": 12,
   "metadata": {
    "ExecuteTime": {
     "end_time": "2020-08-03T20:36:07.720410Z",
     "start_time": "2020-08-03T20:36:07.268933Z"
    }
   },
   "outputs": [],
   "source": [
    "import datapane as dp \n",
    "\n",
    "figs = []\n",
    "figs.append(dp.Plot(Tokyo_5Wards))"
   ]
  },
  {
   "cell_type": "markdown",
   "metadata": {},
   "source": [
    "#### The 5 Neighbourhoods (Chiyoda, Chuo, Shinjuku, Shibuya, Shinagawa) that are ready to battle for the best place to open a lunch restaurant looks as below in Map, obtained using Folium \n",
    "\n",
    "![Tokyo_5_Wards](Tokyo_5_Wards.png)"
   ]
  },
  {
   "cell_type": "markdown",
   "metadata": {},
   "source": [
    "### Getting Ready to Use FourSquare API "
   ]
  },
  {
   "cell_type": "code",
   "execution_count": 13,
   "metadata": {
    "ExecuteTime": {
     "end_time": "2020-08-03T20:36:07.724212Z",
     "start_time": "2020-08-03T20:36:07.721375Z"
    }
   },
   "outputs": [
    {
     "name": "stdout",
     "output_type": "stream",
     "text": [
      "My credentails:\n",
      "My CLIENT_ID: OXGR1TBCHEE3NV35DBGWR23PS0ZDY0KWLOBPUSTHOEPFVAYI\n",
      "My CLIENT_SECRET:HJTHRXYLFNLPAHSNJPP2IGGQK4OX4JX0MIEA1JHZ0IVVWA2J\n"
     ]
    }
   ],
   "source": [
    "CLIENT_ID = 'OXGR1TBCHEE3NV35DBGWR23PS0ZDY0KWLOBPUSTHOEPFVAYI' #'your-client-ID' # your Foursquare ID\n",
    "CLIENT_SECRET = 'HJTHRXYLFNLPAHSNJPP2IGGQK4OX4JX0MIEA1JHZ0IVVWA2J' #'your-client-secret' # your Foursquare Secret\n",
    "VERSION = '20190325' # Foursquare API version\n",
    "\n",
    "print('My credentails:')\n",
    "print('My CLIENT_ID: ' + CLIENT_ID)\n",
    "print('My CLIENT_SECRET:' + CLIENT_SECRET)"
   ]
  },
  {
   "cell_type": "markdown",
   "metadata": {},
   "source": [
    "#### To decide which neighborhood (read 'Ward') is best for opening a restaurant, We will explore the areas around the major districts. <br> (Chiyoda: Nagatacho, Chuo: Nihonbashi, Shinjuku: Shinjuku, Shibuya: Shibuya, Shinagawa:Shinagawa) "
   ]
  },
  {
   "cell_type": "markdown",
   "metadata": {},
   "source": [
    "### Exploring the Major Districts \n",
    "\n",
    "1. Create the get request url (Foursquare ID and Secret are necessary) <br>\n",
    "    1.a. Number of Venues we will look for is 100\n",
    "    2.a. Radius of Search Would be 1 k.m. \n",
    "2. Create a json from  the request object (Need requests Module) <br>\n",
    "3. Create the lists Containing all the information <br>\n",
    "4. From the lists create the dataframe. "
   ]
  },
  {
   "cell_type": "code",
   "execution_count": 14,
   "metadata": {
    "ExecuteTime": {
     "end_time": "2020-08-03T20:36:07.734185Z",
     "start_time": "2020-08-03T20:36:07.725199Z"
    }
   },
   "outputs": [],
   "source": [
    "radius = 1000\n",
    "LIMIT = 100\n",
    "\n",
    "def getNearbyVenues(names, latitudes, longitudes, radius=1000):\n",
    "    \n",
    "    venues_list=[]\n",
    "    for name, lat, lng in zip(names, latitudes, longitudes):\n",
    "        print(name)\n",
    "            \n",
    "        # create the API request URL\n",
    "        url = 'https://api.foursquare.com/v2/venues/explore?&client_id={}&client_secret={}&v={}&ll={},{}&radius={}&limit={}'.format(\n",
    "            CLIENT_ID, \n",
    "            CLIENT_SECRET, \n",
    "            VERSION, \n",
    "            lat, \n",
    "            lng, \n",
    "            radius, \n",
    "            LIMIT)\n",
    "            \n",
    "        # make the GET request\n",
    "        results = requests.get(url).json()[\"response\"]['groups'][0]['items']\n",
    "        \n",
    "        # return only relevant information for each nearby venue\n",
    "        venues_list.append([(\n",
    "            name, \n",
    "            lat, \n",
    "            lng, \n",
    "            v['venue']['name'], \n",
    "            v['venue']['location']['lat'], \n",
    "            v['venue']['location']['lng'],  \n",
    "            v['venue']['categories'][0]['name']) for v in results])\n",
    "\n",
    "    nearby_venues = pd.DataFrame([item for venue_list in venues_list for item in venue_list])\n",
    "    nearby_venues.columns = ['District', \n",
    "                  'Dist_Latitude', \n",
    "                  'Dist_Longitude', \n",
    "                  'Venue', \n",
    "                  'Venue_Lat', \n",
    "                  'Venue_Long', \n",
    "                  'Venue_Category']\n",
    "    \n",
    "    return(nearby_venues)"
   ]
  },
  {
   "cell_type": "markdown",
   "metadata": {},
   "source": [
    "#### Use the Function Above to Create the Dataframe of Venues Around Those 5 Major Districts Belonging to the Busiest Wards of Tokyo "
   ]
  },
  {
   "cell_type": "code",
   "execution_count": 15,
   "metadata": {
    "ExecuteTime": {
     "end_time": "2020-08-03T20:36:11.228831Z",
     "start_time": "2020-08-03T20:36:07.735225Z"
    }
   },
   "outputs": [
    {
     "name": "stdout",
     "output_type": "stream",
     "text": [
      "Nagatacho\n",
      "Nihonbashi\n",
      "Shinjuku\n",
      "Shinagawa\n",
      "Shibuya\n"
     ]
    }
   ],
   "source": [
    "\n",
    "\n",
    "Tokyo_5_Dist_Venues = getNearbyVenues(names=Tokyo_df_selected_final['Major_District'],\n",
    "                                   latitudes=Tokyo_df_selected_final['Dist_Latitude'],\n",
    "                                   longitudes=Tokyo_df_selected_final['Dist_Longitude']\n",
    "                                  )"
   ]
  },
  {
   "cell_type": "code",
   "execution_count": 16,
   "metadata": {
    "ExecuteTime": {
     "end_time": "2020-08-03T20:36:11.241593Z",
     "start_time": "2020-08-03T20:36:11.230411Z"
    }
   },
   "outputs": [
    {
     "name": "stdout",
     "output_type": "stream",
     "text": [
      "Shape of the Venues Dataframe:  (500, 7)\n"
     ]
    },
    {
     "data": {
      "text/html": [
       "<div>\n",
       "<style scoped>\n",
       "    .dataframe tbody tr th:only-of-type {\n",
       "        vertical-align: middle;\n",
       "    }\n",
       "\n",
       "    .dataframe tbody tr th {\n",
       "        vertical-align: top;\n",
       "    }\n",
       "\n",
       "    .dataframe thead th {\n",
       "        text-align: right;\n",
       "    }\n",
       "</style>\n",
       "<table border=\"1\" class=\"dataframe\">\n",
       "  <thead>\n",
       "    <tr style=\"text-align: right;\">\n",
       "      <th></th>\n",
       "      <th>District</th>\n",
       "      <th>Dist_Latitude</th>\n",
       "      <th>Dist_Longitude</th>\n",
       "      <th>Venue</th>\n",
       "      <th>Venue_Lat</th>\n",
       "      <th>Venue_Long</th>\n",
       "      <th>Venue_Category</th>\n",
       "    </tr>\n",
       "  </thead>\n",
       "  <tbody>\n",
       "    <tr>\n",
       "      <th>497</th>\n",
       "      <td>Shibuya</td>\n",
       "      <td>35.664596</td>\n",
       "      <td>139.698711</td>\n",
       "      <td>CHROME TOKYO HUB</td>\n",
       "      <td>35.666729</td>\n",
       "      <td>139.705277</td>\n",
       "      <td>Luggage Store</td>\n",
       "    </tr>\n",
       "    <tr>\n",
       "      <th>498</th>\n",
       "      <td>Shibuya</td>\n",
       "      <td>35.664596</td>\n",
       "      <td>139.698711</td>\n",
       "      <td>Kiraku (喜楽)</td>\n",
       "      <td>35.659047</td>\n",
       "      <td>139.696957</td>\n",
       "      <td>Ramen Restaurant</td>\n",
       "    </tr>\n",
       "    <tr>\n",
       "      <th>499</th>\n",
       "      <td>Shibuya</td>\n",
       "      <td>35.664596</td>\n",
       "      <td>139.698711</td>\n",
       "      <td>Chez Matsuo (シェ松尾 松濤レストラン)</td>\n",
       "      <td>35.660804</td>\n",
       "      <td>139.692413</td>\n",
       "      <td>French Restaurant</td>\n",
       "    </tr>\n",
       "  </tbody>\n",
       "</table>\n",
       "</div>"
      ],
      "text/plain": [
       "    District  Dist_Latitude  Dist_Longitude                       Venue  \\\n",
       "497  Shibuya      35.664596      139.698711            CHROME TOKYO HUB   \n",
       "498  Shibuya      35.664596      139.698711                 Kiraku (喜楽)   \n",
       "499  Shibuya      35.664596      139.698711  Chez Matsuo (シェ松尾 松濤レストラン)   \n",
       "\n",
       "     Venue_Lat  Venue_Long     Venue_Category  \n",
       "497  35.666729  139.705277      Luggage Store  \n",
       "498  35.659047  139.696957   Ramen Restaurant  \n",
       "499  35.660804  139.692413  French Restaurant  "
      ]
     },
     "execution_count": 16,
     "metadata": {},
     "output_type": "execute_result"
    }
   ],
   "source": [
    "print (\"Shape of the Venues Dataframe: \", Tokyo_5_Dist_Venues.shape)\n",
    "Tokyo_5_Dist_Venues.tail(3)"
   ]
  },
  {
   "cell_type": "code",
   "execution_count": 17,
   "metadata": {
    "ExecuteTime": {
     "end_time": "2020-08-03T20:36:11.265491Z",
     "start_time": "2020-08-03T20:36:11.243268Z"
    }
   },
   "outputs": [
    {
     "name": "stdout",
     "output_type": "stream",
     "text": [
      "Shape of the Data-Frame with Venue Category only Restaurant:  (190, 7)\n"
     ]
    },
    {
     "data": {
      "text/html": [
       "<div>\n",
       "<style scoped>\n",
       "    .dataframe tbody tr th:only-of-type {\n",
       "        vertical-align: middle;\n",
       "    }\n",
       "\n",
       "    .dataframe tbody tr th {\n",
       "        vertical-align: top;\n",
       "    }\n",
       "\n",
       "    .dataframe thead th {\n",
       "        text-align: right;\n",
       "    }\n",
       "</style>\n",
       "<table border=\"1\" class=\"dataframe\">\n",
       "  <thead>\n",
       "    <tr style=\"text-align: right;\">\n",
       "      <th></th>\n",
       "      <th>District</th>\n",
       "      <th>Dist_Latitude</th>\n",
       "      <th>Dist_Longitude</th>\n",
       "      <th>Venue</th>\n",
       "      <th>Venue_Lat</th>\n",
       "      <th>Venue_Long</th>\n",
       "      <th>Venue_Category</th>\n",
       "    </tr>\n",
       "  </thead>\n",
       "  <tbody>\n",
       "    <tr>\n",
       "      <th>1</th>\n",
       "      <td>Nagatacho</td>\n",
       "      <td>35.675618</td>\n",
       "      <td>139.743469</td>\n",
       "      <td>Shinamen Hashigo (支那麺 はしご)</td>\n",
       "      <td>35.672184</td>\n",
       "      <td>139.741576</td>\n",
       "      <td>Ramen Restaurant</td>\n",
       "    </tr>\n",
       "    <tr>\n",
       "      <th>2</th>\n",
       "      <td>Nagatacho</td>\n",
       "      <td>35.675618</td>\n",
       "      <td>139.743469</td>\n",
       "      <td>Sushi Isshin (鮨 一新)</td>\n",
       "      <td>35.672589</td>\n",
       "      <td>139.739399</td>\n",
       "      <td>Sushi Restaurant</td>\n",
       "    </tr>\n",
       "    <tr>\n",
       "      <th>3</th>\n",
       "      <td>Nagatacho</td>\n",
       "      <td>35.675618</td>\n",
       "      <td>139.743469</td>\n",
       "      <td>Akasaka Fukinuki (赤坂ふきぬき)</td>\n",
       "      <td>35.673257</td>\n",
       "      <td>139.738332</td>\n",
       "      <td>Unagi Restaurant</td>\n",
       "    </tr>\n",
       "  </tbody>\n",
       "</table>\n",
       "</div>"
      ],
      "text/plain": [
       "    District  Dist_Latitude  Dist_Longitude                       Venue  \\\n",
       "1  Nagatacho      35.675618      139.743469  Shinamen Hashigo (支那麺 はしご)   \n",
       "2  Nagatacho      35.675618      139.743469         Sushi Isshin (鮨 一新)   \n",
       "3  Nagatacho      35.675618      139.743469   Akasaka Fukinuki (赤坂ふきぬき)   \n",
       "\n",
       "   Venue_Lat  Venue_Long    Venue_Category  \n",
       "1  35.672184  139.741576  Ramen Restaurant  \n",
       "2  35.672589  139.739399  Sushi Restaurant  \n",
       "3  35.673257  139.738332  Unagi Restaurant  "
      ]
     },
     "execution_count": 17,
     "metadata": {},
     "output_type": "execute_result"
    }
   ],
   "source": [
    "# Create a Data-Frame out of it to Concentrate Only on Restaurants \n",
    "\n",
    "Tokyo_5_Dist_Venues_only_restaurant = Tokyo_5_Dist_Venues[Tokyo_5_Dist_Venues['Venue_Category']\\\n",
    "                                                          .str.contains('Restaurant')].reset_index(drop=True)\n",
    "Tokyo_5_Dist_Venues_only_restaurant.index = np.arange(1, len(Tokyo_5_Dist_Venues_only_restaurant)+1)\n",
    "print (\"Shape of the Data-Frame with Venue Category only Restaurant: \", Tokyo_5_Dist_Venues_only_restaurant.shape)\n",
    "Tokyo_5_Dist_Venues_only_restaurant.head(3)"
   ]
  },
  {
   "cell_type": "code",
   "execution_count": 18,
   "metadata": {
    "ExecuteTime": {
     "end_time": "2020-08-03T20:36:11.453098Z",
     "start_time": "2020-08-03T20:36:11.266451Z"
    }
   },
   "outputs": [
    {
     "data": {
      "text/html": [
       "<div style=\"width:100%;\"><div style=\"position:relative;width:100%;height:0;padding-bottom:60%;\"><span style=\"color:#565656\">Make this Notebook Trusted to load map: File -> Trust Notebook</span><iframe src=\"about:blank\" style=\"position:absolute;width:100%;height:100%;left:0;top:0;border:none !important;\" data-html=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 onload=\"this.contentDocument.open();this.contentDocument.write(atob(this.getAttribute('data-html')));this.contentDocument.close();\" allowfullscreen webkitallowfullscreen mozallowfullscreen></iframe></div></div>"
      ],
      "text/plain": [
       "<folium.folium.Map at 0x7f3cdf8ef880>"
      ]
     },
     "execution_count": 18,
     "metadata": {},
     "output_type": "execute_result"
    }
   ],
   "source": [
    "## Show in Map the Top Rated Restaruants in the Top 5 Districts\n",
    "\n",
    "map_restaurants = folium.Map(location=[Tokyo_latitude, Tokyo_longitude], zoom_start=11, tiles=\"openstreetmap\", \n",
    "                            attr=\"<a href=https://github.com/python-visualization/folium/>Folium</a>\")\n",
    "\n",
    "# set color scheme for the Venues based on the Major Districts\n",
    "Districts = ['Nagatacho', 'Nihonbashi', 'Shinjuku', 'Shinagawa', 'Shibuya']\n",
    "\n",
    "x = np.arange(len(Districts))\n",
    "\n",
    "rainbow = ['#00ff00', '#ff00ff','#0000ff','#ffa500' ,'#ff0000']\n",
    "\n",
    "# add markers to the map\n",
    "# markers_colors = []\n",
    "for lat, lon, poi, distr in zip(Tokyo_5_Dist_Venues_only_restaurant['Venue_Lat'], \n",
    "                                  Tokyo_5_Dist_Venues_only_restaurant['Venue_Long'], \n",
    "                                  Tokyo_5_Dist_Venues_only_restaurant['Venue_Category'], \n",
    "                                  Tokyo_5_Dist_Venues_only_restaurant['District']):\n",
    "    label = folium.Popup(str(poi) + ' ' + str(distr), parse_html=True)\n",
    "    folium.CircleMarker(\n",
    "        [lat, lon],\n",
    "        radius=7,\n",
    "        popup=label,\n",
    "        color=rainbow[Districts.index(distr)-1],\n",
    "        fill=True,\n",
    "        fill_color=rainbow[Districts.index(distr)-1],\n",
    "        fill_opacity=0.3).add_to(map_restaurants)\n",
    "       \n",
    "map_restaurants"
   ]
  },
  {
   "cell_type": "code",
   "execution_count": 19,
   "metadata": {
    "ExecuteTime": {
     "end_time": "2020-08-03T20:36:11.629212Z",
     "start_time": "2020-08-03T20:36:11.454404Z"
    }
   },
   "outputs": [],
   "source": [
    "figs.append(dp.Plot(map_restaurants))"
   ]
  },
  {
   "cell_type": "markdown",
   "metadata": {},
   "source": [
    "#### See the Most Frequently Visited Restaurants in the Best Five Districts of Tokyo. \n",
    "![Tokyo_all_restaurants](Most_Visited_Restaurants_Tokyo.png)"
   ]
  },
  {
   "cell_type": "code",
   "execution_count": 20,
   "metadata": {
    "ExecuteTime": {
     "end_time": "2020-08-03T20:36:11.634749Z",
     "start_time": "2020-08-03T20:36:11.630112Z"
    }
   },
   "outputs": [
    {
     "name": "stdout",
     "output_type": "stream",
     "text": [
      "There are 134 unique categories.\n",
      "         Venue_Category\n",
      "70   Yoshoku Restaurant\n",
      "71                Hotel\n",
      "72  Szechuan Restaurant\n",
      "73   Chinese Restaurant\n",
      "74  American Restaurant\n"
     ]
    }
   ],
   "source": [
    "### Number of Unique Categories in the Dataframe \n",
    "print('There are {} unique categories.'.format(len(Tokyo_5_Dist_Venues['Venue_Category'].unique())))\n",
    "## We can check some of the categories randomly  \n",
    "print (Tokyo_5_Dist_Venues[['Venue_Category']][70:75])"
   ]
  },
  {
   "cell_type": "markdown",
   "metadata": {},
   "source": [
    "#### We have seen that there are 134 unique categories in the Venues Data-Frame. <br> Let's see the Frequency of Each Category "
   ]
  },
  {
   "cell_type": "code",
   "execution_count": 21,
   "metadata": {
    "ExecuteTime": {
     "end_time": "2020-08-03T20:36:11.650413Z",
     "start_time": "2020-08-03T20:36:11.635749Z"
    }
   },
   "outputs": [
    {
     "name": "stdout",
     "output_type": "stream",
     "text": [
      "BBQ Joint              26\n",
      "Japanese Restaurant    24\n",
      "Ramen Restaurant       20\n",
      "Sake Bar               19\n",
      "Café                   18\n",
      "                       ..\n",
      "Deli / Bodega           1\n",
      "Donut Shop              1\n",
      "Hostel                  1\n",
      "Luggage Store           1\n",
      "Karaoke Bar             1\n",
      "Name: Venue_Category, Length: 134, dtype: int64\n"
     ]
    }
   ],
   "source": [
    "print (Tokyo_5_Dist_Venues['Venue_Category'].value_counts())"
   ]
  },
  {
   "cell_type": "markdown",
   "metadata": {},
   "source": [
    "#### Create a Data-frame with the 10 Most Frequently Occuring Venue_Category "
   ]
  },
  {
   "cell_type": "code",
   "execution_count": 22,
   "metadata": {
    "ExecuteTime": {
     "end_time": "2020-08-03T20:36:11.665881Z",
     "start_time": "2020-08-03T20:36:11.651676Z"
    }
   },
   "outputs": [
    {
     "data": {
      "text/html": [
       "<div>\n",
       "<style scoped>\n",
       "    .dataframe tbody tr th:only-of-type {\n",
       "        vertical-align: middle;\n",
       "    }\n",
       "\n",
       "    .dataframe tbody tr th {\n",
       "        vertical-align: top;\n",
       "    }\n",
       "\n",
       "    .dataframe thead th {\n",
       "        text-align: right;\n",
       "    }\n",
       "</style>\n",
       "<table border=\"1\" class=\"dataframe\">\n",
       "  <thead>\n",
       "    <tr style=\"text-align: right;\">\n",
       "      <th></th>\n",
       "      <th>Venue_Category</th>\n",
       "      <th>Frequency</th>\n",
       "    </tr>\n",
       "  </thead>\n",
       "  <tbody>\n",
       "    <tr>\n",
       "      <th>0</th>\n",
       "      <td>BBQ Joint</td>\n",
       "      <td>26</td>\n",
       "    </tr>\n",
       "    <tr>\n",
       "      <th>1</th>\n",
       "      <td>Japanese Restaurant</td>\n",
       "      <td>24</td>\n",
       "    </tr>\n",
       "    <tr>\n",
       "      <th>2</th>\n",
       "      <td>Ramen Restaurant</td>\n",
       "      <td>20</td>\n",
       "    </tr>\n",
       "    <tr>\n",
       "      <th>3</th>\n",
       "      <td>Sake Bar</td>\n",
       "      <td>19</td>\n",
       "    </tr>\n",
       "    <tr>\n",
       "      <th>4</th>\n",
       "      <td>Café</td>\n",
       "      <td>18</td>\n",
       "    </tr>\n",
       "    <tr>\n",
       "      <th>5</th>\n",
       "      <td>Bar</td>\n",
       "      <td>18</td>\n",
       "    </tr>\n",
       "    <tr>\n",
       "      <th>6</th>\n",
       "      <td>Chinese Restaurant</td>\n",
       "      <td>17</td>\n",
       "    </tr>\n",
       "    <tr>\n",
       "      <th>7</th>\n",
       "      <td>Convenience Store</td>\n",
       "      <td>14</td>\n",
       "    </tr>\n",
       "    <tr>\n",
       "      <th>8</th>\n",
       "      <td>Sushi Restaurant</td>\n",
       "      <td>13</td>\n",
       "    </tr>\n",
       "    <tr>\n",
       "      <th>9</th>\n",
       "      <td>Hotel</td>\n",
       "      <td>13</td>\n",
       "    </tr>\n",
       "  </tbody>\n",
       "</table>\n",
       "</div>"
      ],
      "text/plain": [
       "        Venue_Category  Frequency\n",
       "0            BBQ Joint         26\n",
       "1  Japanese Restaurant         24\n",
       "2     Ramen Restaurant         20\n",
       "3             Sake Bar         19\n",
       "4                 Café         18\n",
       "5                  Bar         18\n",
       "6   Chinese Restaurant         17\n",
       "7    Convenience Store         14\n",
       "8     Sushi Restaurant         13\n",
       "9                Hotel         13"
      ]
     },
     "execution_count": 22,
     "metadata": {},
     "output_type": "execute_result"
    }
   ],
   "source": [
    "# create a dataframe of top 10 categories\n",
    "Tokyo_5_Dist_Venues_Top10 = Tokyo_5_Dist_Venues['Venue_Category'].value_counts()[0:10].to_frame(name='frequency')\n",
    "Tokyo_5_Dist_Venues_Top10=Tokyo_5_Dist_Venues_Top10.reset_index()\n",
    "#Tokyo_5_Dist_Venues_Top10\n",
    "\n",
    "Tokyo_5_Dist_Venues_Top10.rename(index=str, columns={\"index\": \"Venue_Category\", \"frequency\": \"Frequency\"}, inplace=True)\n",
    "Tokyo_5_Dist_Venues_Top10"
   ]
  },
  {
   "cell_type": "code",
   "execution_count": 23,
   "metadata": {
    "ExecuteTime": {
     "end_time": "2020-08-03T20:36:13.109658Z",
     "start_time": "2020-08-03T20:36:11.666991Z"
    }
   },
   "outputs": [
    {
     "data": {
      "image/png": "[encoded data removed]",
      "text/plain": [
       "<Figure size 1296x504 with 1 Axes>"
      ]
     },
     "metadata": {
      "needs_background": "light"
     },
     "output_type": "display_data"
    }
   ],
   "source": [
    "import seaborn as sns\n",
    "fig = plt.figure(figsize=(18,7))\n",
    "s=sns.barplot(x=\"Venue_Category\", y=\"Frequency\", data=Tokyo_5_Dist_Venues_Top10)\n",
    "s.set_xticklabels(s.get_xticklabels(), rotation=30)\n",
    "plt.title('10 Most Frequently Occuring Venues in 5 Major Districts of Tokyo', fontsize=15)\n",
    "plt.xlabel(\"Venue Category\", fontsize=15)\n",
    "plt.ylabel (\"Frequency\", fontsize=15)\n",
    "plt.savefig(\"Most_Freq_Venues.png\", dpi=300)\n",
    "plt.show()"
   ]
  },
  {
   "cell_type": "code",
   "execution_count": 24,
   "metadata": {
    "ExecuteTime": {
     "end_time": "2020-08-03T20:36:13.155158Z",
     "start_time": "2020-08-03T20:36:13.110753Z"
    }
   },
   "outputs": [],
   "source": [
    "figs.append(dp.Plot(fig))"
   ]
  },
  {
   "cell_type": "markdown",
   "metadata": {},
   "source": [
    "### Ramen Restaurant is one of the Most Frequent Venues in 5 Major Districts of Tokyo. <br> \n",
    "\n",
    "\n",
    "### Break Time for Ramen \n",
    "\n",
    "![tonkotsu](tonkotsu_ramen.jpg)"
   ]
  },
  {
   "cell_type": "code",
   "execution_count": 25,
   "metadata": {
    "ExecuteTime": {
     "end_time": "2020-08-03T20:36:13.163889Z",
     "start_time": "2020-08-03T20:36:13.156380Z"
    }
   },
   "outputs": [],
   "source": [
    "### Use One Hot Encoding to Get More Information about the Venue Categories \n",
    "Tokyo_5_Dist_Venues_onehot = pd.get_dummies(Tokyo_5_Dist_Venues[['Venue_Category']], prefix=\"\", prefix_sep=\"\")\n",
    "\n",
    "### add district column back to dataframe\n",
    "Tokyo_5_Dist_Venues_onehot['District'] = Tokyo_5_Dist_Venues['District'] \n",
    "### move district column to the first column\n",
    "fixed_columns = [Tokyo_5_Dist_Venues_onehot.columns[-1]] + list(Tokyo_5_Dist_Venues_onehot.columns[:-1])\n",
    "Tokyo_5_Dist_Venues_onehot = Tokyo_5_Dist_Venues_onehot[fixed_columns]\n",
    "###Tokyo_5_Dist_Venues_onehot.head(3)"
   ]
  },
  {
   "cell_type": "code",
   "execution_count": 26,
   "metadata": {
    "ExecuteTime": {
     "end_time": "2020-08-03T20:36:13.192027Z",
     "start_time": "2020-08-03T20:36:13.165440Z"
    },
    "scrolled": true
   },
   "outputs": [
    {
     "data": {
      "text/html": [
       "<div>\n",
       "<style scoped>\n",
       "    .dataframe tbody tr th:only-of-type {\n",
       "        vertical-align: middle;\n",
       "    }\n",
       "\n",
       "    .dataframe tbody tr th {\n",
       "        vertical-align: top;\n",
       "    }\n",
       "\n",
       "    .dataframe thead th {\n",
       "        text-align: right;\n",
       "    }\n",
       "</style>\n",
       "<table border=\"1\" class=\"dataframe\">\n",
       "  <thead>\n",
       "    <tr style=\"text-align: right;\">\n",
       "      <th></th>\n",
       "      <th>District</th>\n",
       "      <th>Accessories Store</th>\n",
       "      <th>African Restaurant</th>\n",
       "      <th>American Restaurant</th>\n",
       "      <th>Art Gallery</th>\n",
       "      <th>Art Museum</th>\n",
       "      <th>Asian Restaurant</th>\n",
       "      <th>BBQ Joint</th>\n",
       "      <th>Bakery</th>\n",
       "      <th>Bar</th>\n",
       "      <th>...</th>\n",
       "      <th>Trail</th>\n",
       "      <th>Train Station</th>\n",
       "      <th>Udon Restaurant</th>\n",
       "      <th>Unagi Restaurant</th>\n",
       "      <th>Vegetarian / Vegan Restaurant</th>\n",
       "      <th>Wagashi Place</th>\n",
       "      <th>Whisky Bar</th>\n",
       "      <th>Wine Bar</th>\n",
       "      <th>Yakitori Restaurant</th>\n",
       "      <th>Yoshoku Restaurant</th>\n",
       "    </tr>\n",
       "  </thead>\n",
       "  <tbody>\n",
       "    <tr>\n",
       "      <th>1</th>\n",
       "      <td>Nagatacho</td>\n",
       "      <td>0.00</td>\n",
       "      <td>0.00</td>\n",
       "      <td>0.02</td>\n",
       "      <td>0.00</td>\n",
       "      <td>0.00</td>\n",
       "      <td>0.00</td>\n",
       "      <td>0.07</td>\n",
       "      <td>0.01</td>\n",
       "      <td>0.03</td>\n",
       "      <td>...</td>\n",
       "      <td>0.00</td>\n",
       "      <td>0.00</td>\n",
       "      <td>0.00</td>\n",
       "      <td>0.01</td>\n",
       "      <td>0.01</td>\n",
       "      <td>0.00</td>\n",
       "      <td>0.00</td>\n",
       "      <td>0.00</td>\n",
       "      <td>0.03</td>\n",
       "      <td>0.01</td>\n",
       "    </tr>\n",
       "    <tr>\n",
       "      <th>2</th>\n",
       "      <td>Nihonbashi</td>\n",
       "      <td>0.00</td>\n",
       "      <td>0.00</td>\n",
       "      <td>0.00</td>\n",
       "      <td>0.01</td>\n",
       "      <td>0.01</td>\n",
       "      <td>0.00</td>\n",
       "      <td>0.06</td>\n",
       "      <td>0.03</td>\n",
       "      <td>0.01</td>\n",
       "      <td>...</td>\n",
       "      <td>0.00</td>\n",
       "      <td>0.00</td>\n",
       "      <td>0.02</td>\n",
       "      <td>0.01</td>\n",
       "      <td>0.00</td>\n",
       "      <td>0.03</td>\n",
       "      <td>0.00</td>\n",
       "      <td>0.00</td>\n",
       "      <td>0.01</td>\n",
       "      <td>0.03</td>\n",
       "    </tr>\n",
       "    <tr>\n",
       "      <th>3</th>\n",
       "      <td>Shibuya</td>\n",
       "      <td>0.01</td>\n",
       "      <td>0.01</td>\n",
       "      <td>0.01</td>\n",
       "      <td>0.00</td>\n",
       "      <td>0.01</td>\n",
       "      <td>0.01</td>\n",
       "      <td>0.03</td>\n",
       "      <td>0.01</td>\n",
       "      <td>0.04</td>\n",
       "      <td>...</td>\n",
       "      <td>0.01</td>\n",
       "      <td>0.00</td>\n",
       "      <td>0.00</td>\n",
       "      <td>0.00</td>\n",
       "      <td>0.00</td>\n",
       "      <td>0.00</td>\n",
       "      <td>0.00</td>\n",
       "      <td>0.02</td>\n",
       "      <td>0.01</td>\n",
       "      <td>0.00</td>\n",
       "    </tr>\n",
       "    <tr>\n",
       "      <th>4</th>\n",
       "      <td>Shinagawa</td>\n",
       "      <td>0.00</td>\n",
       "      <td>0.00</td>\n",
       "      <td>0.00</td>\n",
       "      <td>0.00</td>\n",
       "      <td>0.00</td>\n",
       "      <td>0.00</td>\n",
       "      <td>0.05</td>\n",
       "      <td>0.00</td>\n",
       "      <td>0.01</td>\n",
       "      <td>...</td>\n",
       "      <td>0.00</td>\n",
       "      <td>0.01</td>\n",
       "      <td>0.00</td>\n",
       "      <td>0.00</td>\n",
       "      <td>0.00</td>\n",
       "      <td>0.00</td>\n",
       "      <td>0.00</td>\n",
       "      <td>0.00</td>\n",
       "      <td>0.02</td>\n",
       "      <td>0.02</td>\n",
       "    </tr>\n",
       "    <tr>\n",
       "      <th>5</th>\n",
       "      <td>Shinjuku</td>\n",
       "      <td>0.00</td>\n",
       "      <td>0.00</td>\n",
       "      <td>0.00</td>\n",
       "      <td>0.00</td>\n",
       "      <td>0.00</td>\n",
       "      <td>0.00</td>\n",
       "      <td>0.05</td>\n",
       "      <td>0.00</td>\n",
       "      <td>0.09</td>\n",
       "      <td>...</td>\n",
       "      <td>0.00</td>\n",
       "      <td>0.00</td>\n",
       "      <td>0.00</td>\n",
       "      <td>0.01</td>\n",
       "      <td>0.00</td>\n",
       "      <td>0.00</td>\n",
       "      <td>0.01</td>\n",
       "      <td>0.00</td>\n",
       "      <td>0.02</td>\n",
       "      <td>0.02</td>\n",
       "    </tr>\n",
       "  </tbody>\n",
       "</table>\n",
       "<p>5 rows × 135 columns</p>\n",
       "</div>"
      ],
      "text/plain": [
       "     District  Accessories Store  African Restaurant  American Restaurant  \\\n",
       "1   Nagatacho               0.00                0.00                 0.02   \n",
       "2  Nihonbashi               0.00                0.00                 0.00   \n",
       "3     Shibuya               0.01                0.01                 0.01   \n",
       "4   Shinagawa               0.00                0.00                 0.00   \n",
       "5    Shinjuku               0.00                0.00                 0.00   \n",
       "\n",
       "   Art Gallery  Art Museum  Asian Restaurant  BBQ Joint  Bakery   Bar  ...  \\\n",
       "1         0.00        0.00              0.00       0.07    0.01  0.03  ...   \n",
       "2         0.01        0.01              0.00       0.06    0.03  0.01  ...   \n",
       "3         0.00        0.01              0.01       0.03    0.01  0.04  ...   \n",
       "4         0.00        0.00              0.00       0.05    0.00  0.01  ...   \n",
       "5         0.00        0.00              0.00       0.05    0.00  0.09  ...   \n",
       "\n",
       "   Trail  Train Station  Udon Restaurant  Unagi Restaurant  \\\n",
       "1   0.00           0.00             0.00              0.01   \n",
       "2   0.00           0.00             0.02              0.01   \n",
       "3   0.01           0.00             0.00              0.00   \n",
       "4   0.00           0.01             0.00              0.00   \n",
       "5   0.00           0.00             0.00              0.01   \n",
       "\n",
       "   Vegetarian / Vegan Restaurant  Wagashi Place  Whisky Bar  Wine Bar  \\\n",
       "1                           0.01           0.00        0.00      0.00   \n",
       "2                           0.00           0.03        0.00      0.00   \n",
       "3                           0.00           0.00        0.00      0.02   \n",
       "4                           0.00           0.00        0.00      0.00   \n",
       "5                           0.00           0.00        0.01      0.00   \n",
       "\n",
       "   Yakitori Restaurant  Yoshoku Restaurant  \n",
       "1                 0.03                0.01  \n",
       "2                 0.01                0.03  \n",
       "3                 0.01                0.00  \n",
       "4                 0.02                0.02  \n",
       "5                 0.02                0.02  \n",
       "\n",
       "[5 rows x 135 columns]"
      ]
     },
     "execution_count": 26,
     "metadata": {},
     "output_type": "execute_result"
    }
   ],
   "source": [
    "Tokyo_5_Dist_Venues_Grouped = Tokyo_5_Dist_Venues_onehot.groupby('District').mean().reset_index()\n",
    "Tokyo_5_Dist_Venues_Grouped.index = np.arange(1, len(Tokyo_5_Dist_Venues_Grouped)+1)\n",
    "Tokyo_5_Dist_Venues_Grouped"
   ]
  },
  {
   "cell_type": "code",
   "execution_count": 27,
   "metadata": {
    "ExecuteTime": {
     "end_time": "2020-08-03T20:36:13.223197Z",
     "start_time": "2020-08-03T20:36:13.193273Z"
    }
   },
   "outputs": [
    {
     "name": "stdout",
     "output_type": "stream",
     "text": [
      "%%%%%%%%%Nagatacho%%%%%%%%\n",
      "                 Venue  Freq\n",
      "0  Japanese Restaurant  0.08\n",
      "1            BBQ Joint  0.07\n",
      "2   Chinese Restaurant  0.06\n",
      "3          Coffee Shop  0.05\n",
      "4                Hotel  0.05\n",
      "\n",
      "\n",
      "%%%%%%%%%Nihonbashi%%%%%%%%\n",
      "                 Venue  Freq\n",
      "0  Japanese Restaurant  0.08\n",
      "1            BBQ Joint  0.06\n",
      "2    French Restaurant  0.04\n",
      "3           Hobby Shop  0.04\n",
      "4     Sushi Restaurant  0.04\n",
      "\n",
      "\n",
      "%%%%%%%%%Shibuya%%%%%%%%\n",
      "               Venue  Freq\n",
      "0               Café  0.10\n",
      "1        Record Shop  0.07\n",
      "2  French Restaurant  0.04\n",
      "3                Bar  0.04\n",
      "4        Coffee Shop  0.04\n",
      "\n",
      "\n",
      "%%%%%%%%%Shinagawa%%%%%%%%\n",
      "               Venue  Freq\n",
      "0  Convenience Store  0.14\n",
      "1   Ramen Restaurant  0.08\n",
      "2           Sake Bar  0.06\n",
      "3          BBQ Joint  0.05\n",
      "4      Grocery Store  0.05\n",
      "\n",
      "\n",
      "%%%%%%%%%Shinjuku%%%%%%%%\n",
      "                 Venue  Freq\n",
      "0                  Bar  0.09\n",
      "1             Sake Bar  0.08\n",
      "2  Japanese Restaurant  0.06\n",
      "3            BBQ Joint  0.05\n",
      "4     Ramen Restaurant  0.05\n",
      "\n",
      "\n"
     ]
    }
   ],
   "source": [
    "num_top_venues = 5\n",
    "\n",
    "for places in Tokyo_5_Dist_Venues_Grouped['District']:\n",
    "    print(\"%%%%%%%%%\"+places+\"%%%%%%%%\")\n",
    "    temp = Tokyo_5_Dist_Venues_Grouped[Tokyo_5_Dist_Venues_Grouped['District'] == places].T.reset_index()\n",
    "    temp.columns = ['Venue','Freq']\n",
    "    temp = temp.iloc[1:]\n",
    "    temp['Freq'] = temp['Freq'].astype(float)\n",
    "    temp = temp.round({'Freq': 2})\n",
    "    print(temp.sort_values('Freq', ascending=False).reset_index(drop=True).head(num_top_venues))\n",
    "    print('\\n')"
   ]
  },
  {
   "cell_type": "markdown",
   "metadata": {},
   "source": [
    "#### Create a DataFrame with Top 10 Venues for Each District "
   ]
  },
  {
   "cell_type": "code",
   "execution_count": 28,
   "metadata": {
    "ExecuteTime": {
     "end_time": "2020-08-03T20:36:13.246899Z",
     "start_time": "2020-08-03T20:36:13.224171Z"
    }
   },
   "outputs": [
    {
     "data": {
      "text/html": [
       "<div>\n",
       "<style scoped>\n",
       "    .dataframe tbody tr th:only-of-type {\n",
       "        vertical-align: middle;\n",
       "    }\n",
       "\n",
       "    .dataframe tbody tr th {\n",
       "        vertical-align: top;\n",
       "    }\n",
       "\n",
       "    .dataframe thead th {\n",
       "        text-align: right;\n",
       "    }\n",
       "</style>\n",
       "<table border=\"1\" class=\"dataframe\">\n",
       "  <thead>\n",
       "    <tr style=\"text-align: right;\">\n",
       "      <th></th>\n",
       "      <th>District</th>\n",
       "      <th>1st Most Common Venue</th>\n",
       "      <th>2nd Most Common Venue</th>\n",
       "      <th>3rd Most Common Venue</th>\n",
       "      <th>4th Most Common Venue</th>\n",
       "      <th>5th Most Common Venue</th>\n",
       "      <th>6th Most Common Venue</th>\n",
       "      <th>7th Most Common Venue</th>\n",
       "      <th>8th Most Common Venue</th>\n",
       "      <th>9th Most Common Venue</th>\n",
       "      <th>10th Most Common Venue</th>\n",
       "    </tr>\n",
       "  </thead>\n",
       "  <tbody>\n",
       "    <tr>\n",
       "      <th>1</th>\n",
       "      <td>Nagatacho</td>\n",
       "      <td>Japanese Restaurant</td>\n",
       "      <td>BBQ Joint</td>\n",
       "      <td>Chinese Restaurant</td>\n",
       "      <td>Szechuan Restaurant</td>\n",
       "      <td>Coffee Shop</td>\n",
       "      <td>Hotel</td>\n",
       "      <td>Ramen Restaurant</td>\n",
       "      <td>Yakitori Restaurant</td>\n",
       "      <td>Bar</td>\n",
       "      <td>Italian Restaurant</td>\n",
       "    </tr>\n",
       "    <tr>\n",
       "      <th>2</th>\n",
       "      <td>Nihonbashi</td>\n",
       "      <td>Japanese Restaurant</td>\n",
       "      <td>BBQ Joint</td>\n",
       "      <td>Hobby Shop</td>\n",
       "      <td>Café</td>\n",
       "      <td>Sushi Restaurant</td>\n",
       "      <td>French Restaurant</td>\n",
       "      <td>Soba Restaurant</td>\n",
       "      <td>Department Store</td>\n",
       "      <td>Gift Shop</td>\n",
       "      <td>Bakery</td>\n",
       "    </tr>\n",
       "    <tr>\n",
       "      <th>3</th>\n",
       "      <td>Shibuya</td>\n",
       "      <td>Café</td>\n",
       "      <td>Record Shop</td>\n",
       "      <td>French Restaurant</td>\n",
       "      <td>Coffee Shop</td>\n",
       "      <td>Bar</td>\n",
       "      <td>BBQ Joint</td>\n",
       "      <td>Chinese Restaurant</td>\n",
       "      <td>Sushi Restaurant</td>\n",
       "      <td>Ramen Restaurant</td>\n",
       "      <td>Concert Hall</td>\n",
       "    </tr>\n",
       "    <tr>\n",
       "      <th>4</th>\n",
       "      <td>Shinagawa</td>\n",
       "      <td>Convenience Store</td>\n",
       "      <td>Ramen Restaurant</td>\n",
       "      <td>Sake Bar</td>\n",
       "      <td>Grocery Store</td>\n",
       "      <td>BBQ Joint</td>\n",
       "      <td>Park</td>\n",
       "      <td>Restaurant</td>\n",
       "      <td>Sushi Restaurant</td>\n",
       "      <td>Donburi Restaurant</td>\n",
       "      <td>Chinese Restaurant</td>\n",
       "    </tr>\n",
       "    <tr>\n",
       "      <th>5</th>\n",
       "      <td>Shinjuku</td>\n",
       "      <td>Bar</td>\n",
       "      <td>Sake Bar</td>\n",
       "      <td>Japanese Restaurant</td>\n",
       "      <td>BBQ Joint</td>\n",
       "      <td>Ramen Restaurant</td>\n",
       "      <td>Pub</td>\n",
       "      <td>Rock Club</td>\n",
       "      <td>Chinese Restaurant</td>\n",
       "      <td>Yoshoku Restaurant</td>\n",
       "      <td>Bed &amp; Breakfast</td>\n",
       "    </tr>\n",
       "  </tbody>\n",
       "</table>\n",
       "</div>"
      ],
      "text/plain": [
       "     District 1st Most Common Venue 2nd Most Common Venue  \\\n",
       "1   Nagatacho   Japanese Restaurant             BBQ Joint   \n",
       "2  Nihonbashi   Japanese Restaurant             BBQ Joint   \n",
       "3     Shibuya                  Café           Record Shop   \n",
       "4   Shinagawa     Convenience Store      Ramen Restaurant   \n",
       "5    Shinjuku                   Bar              Sake Bar   \n",
       "\n",
       "  3rd Most Common Venue 4th Most Common Venue 5th Most Common Venue  \\\n",
       "1    Chinese Restaurant   Szechuan Restaurant           Coffee Shop   \n",
       "2            Hobby Shop                  Café      Sushi Restaurant   \n",
       "3     French Restaurant           Coffee Shop                   Bar   \n",
       "4              Sake Bar         Grocery Store             BBQ Joint   \n",
       "5   Japanese Restaurant             BBQ Joint      Ramen Restaurant   \n",
       "\n",
       "  6th Most Common Venue 7th Most Common Venue 8th Most Common Venue  \\\n",
       "1                 Hotel      Ramen Restaurant   Yakitori Restaurant   \n",
       "2     French Restaurant       Soba Restaurant      Department Store   \n",
       "3             BBQ Joint    Chinese Restaurant      Sushi Restaurant   \n",
       "4                  Park            Restaurant      Sushi Restaurant   \n",
       "5                   Pub             Rock Club    Chinese Restaurant   \n",
       "\n",
       "  9th Most Common Venue 10th Most Common Venue  \n",
       "1                   Bar     Italian Restaurant  \n",
       "2             Gift Shop                 Bakery  \n",
       "3      Ramen Restaurant           Concert Hall  \n",
       "4    Donburi Restaurant     Chinese Restaurant  \n",
       "5    Yoshoku Restaurant        Bed & Breakfast  "
      ]
     },
     "execution_count": 28,
     "metadata": {},
     "output_type": "execute_result"
    }
   ],
   "source": [
    "## Define a Function to select the top 10 rows (According to the Values) \n",
    "\n",
    "def return_most_common_venues(row, num_top_venues):\n",
    "    row_categories = row.iloc[1:]\n",
    "    row_categories_sorted = row_categories.sort_values(ascending=False)\n",
    "    \n",
    "    return row_categories_sorted.index.values[0:num_top_venues]\n",
    "\n",
    "num_top_venues = 10\n",
    "\n",
    "indicators = ['st', 'nd', 'rd']\n",
    "\n",
    "# create columns according to number of top venues\n",
    "columns = ['District']\n",
    "for ind in np.arange(num_top_venues):\n",
    "    try:\n",
    "        columns.append('{}{} Most Common Venue'.format(ind+1, indicators[ind]))\n",
    "    except:\n",
    "        columns.append('{}th Most Common Venue'.format(ind+1))\n",
    "\n",
    "# create a new dataframe\n",
    "District_top10_venues_sorted = pd.DataFrame(columns=columns)\n",
    "District_top10_venues_sorted['District'] = Tokyo_5_Dist_Venues_Grouped['District']\n",
    "\n",
    "for ind in np.arange(Tokyo_5_Dist_Venues_Grouped.shape[0]):\n",
    "    District_top10_venues_sorted.iloc[ind, 1:] = return_most_common_venues(Tokyo_5_Dist_Venues_Grouped.iloc[ind, :], num_top_venues)\n",
    "\n",
    "    \n",
    "District_top10_venues_sorted.index = np.arange(1, len(District_top10_venues_sorted)+1)\n",
    "District_top10_venues_sorted.head(5)"
   ]
  },
  {
   "cell_type": "code",
   "execution_count": 29,
   "metadata": {
    "ExecuteTime": {
     "end_time": "2020-08-03T20:36:14.686485Z",
     "start_time": "2020-08-03T20:36:13.247794Z"
    }
   },
   "outputs": [
    {
     "data": {
      "image/png": "[encoded data removed]",
      "text/plain": [
       "<Figure size 1008x576 with 4 Axes>"
      ]
     },
     "metadata": {
      "needs_background": "light"
     },
     "output_type": "display_data"
    }
   ],
   "source": [
    "# Let's try Categorical plot \n",
    "\n",
    "\n",
    "fig = plt.figure(figsize=(14,8))\n",
    "\n",
    "sns.set(font_scale=1.1)\n",
    "ax = plt.subplot(2,2,1)\n",
    "sns.violinplot(x=\"District\", y=\"Japanese Restaurant\", data=Tokyo_5_Dist_Venues_onehot, cut=0);\n",
    "plt.xlabel(\"\")\n",
    "ax = plt.subplot(2,2,2)\n",
    "sns.violinplot(x=\"District\", y=\"Ramen Restaurant\", data=Tokyo_5_Dist_Venues_onehot, cut=0);\n",
    "plt.xlabel(\"\")\n",
    "plt.subplot(2,2,3)\n",
    "sns.violinplot(x=\"District\", y=\"Chinese Restaurant\", data=Tokyo_5_Dist_Venues_onehot, cut=0);\n",
    "plt.subplot(2,2,4)\n",
    "sns.violinplot(x=\"District\", y=\"Sushi Restaurant\", data=Tokyo_5_Dist_Venues_onehot, cut=0);\n",
    "#ax.title.set_text(\"5 Major Districts and Violin Plots of Most Frequently Visited Restaurants\")\n",
    "ax.text(-4.0, 1.1, '5 Major Districts and Violin Plots of Most Frequently Visited Restaurants', fontsize=14)\n",
    "plt.savefig (\"Violin_plots_Dist_Frequent_Restaurant.png\", dpi=240)\n",
    "plt.show()"
   ]
  },
  {
   "cell_type": "code",
   "execution_count": 30,
   "metadata": {
    "ExecuteTime": {
     "end_time": "2020-08-03T20:36:14.797693Z",
     "start_time": "2020-08-03T20:36:14.687763Z"
    }
   },
   "outputs": [],
   "source": [
    "figs.append(dp.Plot(fig))"
   ]
  },
  {
   "cell_type": "code",
   "execution_count": 31,
   "metadata": {
    "ExecuteTime": {
     "end_time": "2020-08-03T20:36:14.960735Z",
     "start_time": "2020-08-03T20:36:14.798975Z"
    }
   },
   "outputs": [
    {
     "name": "stdout",
     "output_type": "stream",
     "text": [
      "[54, 42, 28, 34, 32]\n"
     ]
    },
    {
     "data": {
      "image/png": "[encoded data removed]",
      "text/plain": [
       "<Figure size 864x576 with 1 Axes>"
      ]
     },
     "metadata": {},
     "output_type": "display_data"
    }
   ],
   "source": [
    "#try groupby to play with restaurant \n",
    "Tokyo_5_Dist_Venues_restaurant = Tokyo_5_Dist_Venues.groupby(['District'])['Venue_Category'].apply(lambda x: x[x.str.contains('Restaurant')].count())\n",
    "Tokyo_5_Dist_Venues_restaurant_df = Tokyo_5_Dist_Venues_restaurant.to_frame().reset_index()\n",
    "Tokyo_5_Dist_Venues_restaurant_df.columns = ['District', 'Number of Restaurant']\n",
    "#Tokyo_5_Dist_Venues_restaurant.columns = ['District', 'Number of Restaurant']\n",
    "#print (type(Tokyo_5_Dist_Venues_restaurant))\n",
    "Tokyo_5_Dist_Venues_restaurant_df.index = np.arange(1, len(Tokyo_5_Dist_Venues_restaurant_df)+1)\n",
    "\n",
    "#print (\"shape of the dataframe: \", Tokyo_5_Dist_Venues_restaurant_df.shape)\n",
    "#print (Tokyo_5_Dist_Venues_restaurant_df.head(5))\n",
    "#print (type(Tokyo_5_Dist_Venues_restaurant_df[['Number of Restaurant']]))\n",
    "list_rest_no = Tokyo_5_Dist_Venues_restaurant_df['Number of Restaurant'].to_list()\n",
    "print (list_rest_no)\n",
    "fig = plt.figure(figsize=(12,8))\n",
    "bar = sns.barplot(x='District', y='Number of Restaurant', data=Tokyo_5_Dist_Venues_restaurant_df)\n",
    "\n",
    "bar.set_ylabel(\"Total Number of Restaurants\", fontsize=14)\n",
    "bar.set_xlabel(\"5 Major Districts of Tokyo\", fontsize=14)\n",
    "bar.set_xticklabels(bar.get_xticklabels(),rotation=40)\n",
    "bar.set_title(\"Number of Restaurants as Top-Most Venues\", fontsize=14)\n",
    "#plt.savefig(\"No_of_Rest_as_Top_Venues.png\", dpi=240)\n",
    "plt.show()"
   ]
  },
  {
   "cell_type": "code",
   "execution_count": 32,
   "metadata": {
    "ExecuteTime": {
     "end_time": "2020-08-03T20:36:14.990844Z",
     "start_time": "2020-08-03T20:36:14.961923Z"
    }
   },
   "outputs": [],
   "source": [
    "figs.append(dp.Plot(fig))"
   ]
  },
  {
   "cell_type": "markdown",
   "metadata": {},
   "source": [
    "### Clustering the Tokyo Districts (Neighborhoods) using _K-Means_"
   ]
  },
  {
   "cell_type": "code",
   "execution_count": 33,
   "metadata": {
    "ExecuteTime": {
     "end_time": "2020-08-03T20:36:15.014828Z",
     "start_time": "2020-08-03T20:36:14.991879Z"
    }
   },
   "outputs": [
    {
     "name": "stdout",
     "output_type": "stream",
     "text": [
      "Check the 5 Cluster labels : [1 1 2 0 1]\n"
     ]
    }
   ],
   "source": [
    "# set number of clusters\n",
    "kclusters = 3\n",
    "\n",
    "Tokyo_grouped_clustering = Tokyo_5_Dist_Venues_Grouped.drop('District', 1)\n",
    "\n",
    "# run k-means clustering\n",
    "kmeans = KMeans(n_clusters=kclusters, random_state=0).fit(Tokyo_grouped_clustering)\n",
    "\n",
    "# check cluster labels generated for each row in the dataframe\n",
    "print (\"Check the 5 Cluster labels :\",  kmeans.labels_[0:5]) "
   ]
  },
  {
   "cell_type": "code",
   "execution_count": 34,
   "metadata": {
    "ExecuteTime": {
     "end_time": "2020-08-03T20:36:15.037264Z",
     "start_time": "2020-08-03T20:36:15.016263Z"
    }
   },
   "outputs": [
    {
     "data": {
      "text/html": [
       "<div>\n",
       "<style scoped>\n",
       "    .dataframe tbody tr th:only-of-type {\n",
       "        vertical-align: middle;\n",
       "    }\n",
       "\n",
       "    .dataframe tbody tr th {\n",
       "        vertical-align: top;\n",
       "    }\n",
       "\n",
       "    .dataframe thead th {\n",
       "        text-align: right;\n",
       "    }\n",
       "</style>\n",
       "<table border=\"1\" class=\"dataframe\">\n",
       "  <thead>\n",
       "    <tr style=\"text-align: right;\">\n",
       "      <th></th>\n",
       "      <th>Ward</th>\n",
       "      <th>Area_SqKm</th>\n",
       "      <th>Population</th>\n",
       "      <th>Major_District</th>\n",
       "      <th>Dist_Latitude</th>\n",
       "      <th>Dist_Longitude</th>\n",
       "      <th>Average_Price(SqKm)</th>\n",
       "      <th>Cluster Label</th>\n",
       "      <th>1st Most Common Venue</th>\n",
       "      <th>2nd Most Common Venue</th>\n",
       "      <th>3rd Most Common Venue</th>\n",
       "      <th>4th Most Common Venue</th>\n",
       "      <th>5th Most Common Venue</th>\n",
       "      <th>6th Most Common Venue</th>\n",
       "      <th>7th Most Common Venue</th>\n",
       "      <th>8th Most Common Venue</th>\n",
       "      <th>9th Most Common Venue</th>\n",
       "      <th>10th Most Common Venue</th>\n",
       "    </tr>\n",
       "  </thead>\n",
       "  <tbody>\n",
       "    <tr>\n",
       "      <th>1</th>\n",
       "      <td>Chiyoda</td>\n",
       "      <td>5100</td>\n",
       "      <td>59441</td>\n",
       "      <td>Nagatacho</td>\n",
       "      <td>35.675618</td>\n",
       "      <td>139.743469</td>\n",
       "      <td>2705898</td>\n",
       "      <td>1</td>\n",
       "      <td>Japanese Restaurant</td>\n",
       "      <td>BBQ Joint</td>\n",
       "      <td>Chinese Restaurant</td>\n",
       "      <td>Szechuan Restaurant</td>\n",
       "      <td>Coffee Shop</td>\n",
       "      <td>Hotel</td>\n",
       "      <td>Ramen Restaurant</td>\n",
       "      <td>Yakitori Restaurant</td>\n",
       "      <td>Bar</td>\n",
       "      <td>Italian Restaurant</td>\n",
       "    </tr>\n",
       "    <tr>\n",
       "      <th>2</th>\n",
       "      <td>Chuo</td>\n",
       "      <td>14460</td>\n",
       "      <td>147620</td>\n",
       "      <td>Nihonbashi</td>\n",
       "      <td>35.684058</td>\n",
       "      <td>139.774501</td>\n",
       "      <td>2699719</td>\n",
       "      <td>1</td>\n",
       "      <td>Japanese Restaurant</td>\n",
       "      <td>BBQ Joint</td>\n",
       "      <td>Hobby Shop</td>\n",
       "      <td>Café</td>\n",
       "      <td>Sushi Restaurant</td>\n",
       "      <td>French Restaurant</td>\n",
       "      <td>Soba Restaurant</td>\n",
       "      <td>Department Store</td>\n",
       "      <td>Gift Shop</td>\n",
       "      <td>Bakery</td>\n",
       "    </tr>\n",
       "    <tr>\n",
       "      <th>3</th>\n",
       "      <td>Shinjuku</td>\n",
       "      <td>18620</td>\n",
       "      <td>339211</td>\n",
       "      <td>Shinjuku</td>\n",
       "      <td>35.693763</td>\n",
       "      <td>139.703632</td>\n",
       "      <td>939286</td>\n",
       "      <td>1</td>\n",
       "      <td>Bar</td>\n",
       "      <td>Sake Bar</td>\n",
       "      <td>Japanese Restaurant</td>\n",
       "      <td>BBQ Joint</td>\n",
       "      <td>Ramen Restaurant</td>\n",
       "      <td>Pub</td>\n",
       "      <td>Rock Club</td>\n",
       "      <td>Chinese Restaurant</td>\n",
       "      <td>Yoshoku Restaurant</td>\n",
       "      <td>Bed &amp; Breakfast</td>\n",
       "    </tr>\n",
       "    <tr>\n",
       "      <th>4</th>\n",
       "      <td>Shinagawa</td>\n",
       "      <td>17180</td>\n",
       "      <td>392492</td>\n",
       "      <td>Shinagawa</td>\n",
       "      <td>35.599252</td>\n",
       "      <td>139.738910</td>\n",
       "      <td>767398</td>\n",
       "      <td>0</td>\n",
       "      <td>Convenience Store</td>\n",
       "      <td>Ramen Restaurant</td>\n",
       "      <td>Sake Bar</td>\n",
       "      <td>Grocery Store</td>\n",
       "      <td>BBQ Joint</td>\n",
       "      <td>Park</td>\n",
       "      <td>Restaurant</td>\n",
       "      <td>Sushi Restaurant</td>\n",
       "      <td>Donburi Restaurant</td>\n",
       "      <td>Chinese Restaurant</td>\n",
       "    </tr>\n",
       "    <tr>\n",
       "      <th>5</th>\n",
       "      <td>Shibuya</td>\n",
       "      <td>15080</td>\n",
       "      <td>227850</td>\n",
       "      <td>Shibuya</td>\n",
       "      <td>35.664596</td>\n",
       "      <td>139.698711</td>\n",
       "      <td>1360332</td>\n",
       "      <td>2</td>\n",
       "      <td>Café</td>\n",
       "      <td>Record Shop</td>\n",
       "      <td>French Restaurant</td>\n",
       "      <td>Coffee Shop</td>\n",
       "      <td>Bar</td>\n",
       "      <td>BBQ Joint</td>\n",
       "      <td>Chinese Restaurant</td>\n",
       "      <td>Sushi Restaurant</td>\n",
       "      <td>Ramen Restaurant</td>\n",
       "      <td>Concert Hall</td>\n",
       "    </tr>\n",
       "  </tbody>\n",
       "</table>\n",
       "</div>"
      ],
      "text/plain": [
       "        Ward  Area_SqKm  Population Major_District  Dist_Latitude  \\\n",
       "1    Chiyoda       5100       59441      Nagatacho      35.675618   \n",
       "2       Chuo      14460      147620     Nihonbashi      35.684058   \n",
       "3   Shinjuku      18620      339211       Shinjuku      35.693763   \n",
       "4  Shinagawa      17180      392492      Shinagawa      35.599252   \n",
       "5    Shibuya      15080      227850        Shibuya      35.664596   \n",
       "\n",
       "   Dist_Longitude Average_Price(SqKm)  Cluster Label 1st Most Common Venue  \\\n",
       "1      139.743469            2705898               1   Japanese Restaurant   \n",
       "2      139.774501            2699719               1   Japanese Restaurant   \n",
       "3      139.703632             939286               1                   Bar   \n",
       "4      139.738910             767398               0     Convenience Store   \n",
       "5      139.698711            1360332               2                  Café   \n",
       "\n",
       "  2nd Most Common Venue 3rd Most Common Venue 4th Most Common Venue  \\\n",
       "1             BBQ Joint    Chinese Restaurant   Szechuan Restaurant   \n",
       "2             BBQ Joint            Hobby Shop                  Café   \n",
       "3              Sake Bar   Japanese Restaurant             BBQ Joint   \n",
       "4      Ramen Restaurant              Sake Bar         Grocery Store   \n",
       "5           Record Shop     French Restaurant           Coffee Shop   \n",
       "\n",
       "  5th Most Common Venue 6th Most Common Venue 7th Most Common Venue  \\\n",
       "1           Coffee Shop                 Hotel      Ramen Restaurant   \n",
       "2      Sushi Restaurant     French Restaurant       Soba Restaurant   \n",
       "3      Ramen Restaurant                   Pub             Rock Club   \n",
       "4             BBQ Joint                  Park            Restaurant   \n",
       "5                   Bar             BBQ Joint    Chinese Restaurant   \n",
       "\n",
       "  8th Most Common Venue 9th Most Common Venue 10th Most Common Venue  \n",
       "1   Yakitori Restaurant                   Bar     Italian Restaurant  \n",
       "2      Department Store             Gift Shop                 Bakery  \n",
       "3    Chinese Restaurant    Yoshoku Restaurant        Bed & Breakfast  \n",
       "4      Sushi Restaurant    Donburi Restaurant     Chinese Restaurant  \n",
       "5      Sushi Restaurant      Ramen Restaurant           Concert Hall  "
      ]
     },
     "execution_count": 34,
     "metadata": {},
     "output_type": "execute_result"
    }
   ],
   "source": [
    "# add clustering labels\n",
    "\n",
    "District_top10_venues_sorted.insert(0, 'Cluster Label', kmeans.labels_)\n",
    "\n",
    "Tokyo_5_Dist_Coordinate_Cluster_merged = Tokyo_df_selected_final\n",
    "\n",
    "#merge the inital Tokyo Dataframe with Sorted Most Visited places for each neighborhood\n",
    "\n",
    "Tokyo_5_Dist_Coordinate_Cluster_merged = Tokyo_5_Dist_Coordinate_Cluster_merged.join \\\n",
    "                                        (District_top10_venues_sorted.set_index('District'), on='Major_District')\n",
    "\n",
    "Tokyo_5_Dist_Coordinate_Cluster_merged.head() "
   ]
  },
  {
   "cell_type": "code",
   "execution_count": 35,
   "metadata": {
    "ExecuteTime": {
     "end_time": "2020-08-03T20:36:15.059369Z",
     "start_time": "2020-08-03T20:36:15.038262Z"
    }
   },
   "outputs": [
    {
     "data": {
      "text/html": [
       "<div style=\"width:100%;\"><div style=\"position:relative;width:100%;height:0;padding-bottom:60%;\"><span style=\"color:#565656\">Make this Notebook Trusted to load map: File -> Trust Notebook</span><iframe src=\"about:blank\" style=\"position:absolute;width:100%;height:100%;left:0;top:0;border:none !important;\" data-html=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 onload=\"this.contentDocument.open();this.contentDocument.write(atob(this.getAttribute('data-html')));this.contentDocument.close();\" allowfullscreen webkitallowfullscreen mozallowfullscreen></iframe></div></div>"
      ],
      "text/plain": [
       "<folium.folium.Map at 0x7f3d1c97c850>"
      ]
     },
     "execution_count": 35,
     "metadata": {},
     "output_type": "execute_result"
    }
   ],
   "source": [
    "# create map\n",
    "map_clusters = folium.Map(location=[Tokyo_latitude, Tokyo_longitude], zoom_start=11)\n",
    "\n",
    "# set color scheme for the clusters\n",
    "x = np.arange(kclusters)\n",
    "ys = [i + x + (i*x)**2 for i in range(kclusters)]\n",
    "colors_array = cm.rainbow(np.linspace(0, 1, len(ys)))\n",
    "rainbow = [colors.rgb2hex(i) for i in colors_array]\n",
    "\n",
    "# add markers to the map\n",
    "markers_colors = []\n",
    "for lat, lon, poi, cluster in zip(Tokyo_5_Dist_Coordinate_Cluster_merged['Dist_Latitude'], \n",
    "                                  Tokyo_5_Dist_Coordinate_Cluster_merged['Dist_Longitude'], \n",
    "                                  Tokyo_5_Dist_Coordinate_Cluster_merged['Major_District'], \n",
    "                                  Tokyo_5_Dist_Coordinate_Cluster_merged['Cluster Label']):\n",
    "    label = folium.Popup(str(poi) + ' Cluster ' + str(cluster), parse_html=True)\n",
    "    folium.CircleMarker(\n",
    "        [lat, lon],\n",
    "        radius=8,\n",
    "        popup=label,\n",
    "        color=rainbow[cluster-1],\n",
    "        fill=True,\n",
    "        fill_color=rainbow[cluster-1],\n",
    "        fill_opacity=0.7).add_to(map_clusters)\n",
    "       \n",
    "map_clusters"
   ]
  },
  {
   "cell_type": "code",
   "execution_count": 36,
   "metadata": {
    "ExecuteTime": {
     "end_time": "2020-08-03T20:36:15.068680Z",
     "start_time": "2020-08-03T20:36:15.060172Z"
    }
   },
   "outputs": [],
   "source": [
    "figs.append(dp.Plot(map_clusters))"
   ]
  },
  {
   "cell_type": "code",
   "execution_count": 37,
   "metadata": {
    "ExecuteTime": {
     "end_time": "2020-08-03T20:36:15.084324Z",
     "start_time": "2020-08-03T20:36:15.069646Z"
    }
   },
   "outputs": [
    {
     "data": {
      "text/html": [
       "<div style=\"width:100%;\"><div style=\"position:relative;width:100%;height:0;padding-bottom:60%;\"><span style=\"color:#565656\">Make this Notebook Trusted to load map: File -> Trust Notebook</span><iframe src=\"about:blank\" style=\"position:absolute;width:100%;height:100%;left:0;top:0;border:none !important;\" data-html=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 onload=\"this.contentDocument.open();this.contentDocument.write(atob(this.getAttribute('data-html')));this.contentDocument.close();\" allowfullscreen webkitallowfullscreen mozallowfullscreen></iframe></div></div>"
      ],
      "text/plain": [
       "<folium.folium.Map at 0x7f3cdc65f100>"
      ]
     },
     "execution_count": 37,
     "metadata": {},
     "output_type": "execute_result"
    }
   ],
   "source": [
    "# create map\n",
    "map_restaurants10 = folium.Map(location=[Tokyo_latitude, Tokyo_longitude], tiles='cartodbpositron', \n",
    "                               attr=\"<a href=https://github.com/python-visualization/folium/>Folium</a>\")\n",
    "\n",
    "# set color scheme for the clusters\n",
    "x = np.arange(kclusters)\n",
    "ys = [i + x + (i*x)**2 for i in range(kclusters)]\n",
    "colors_array = cm.rainbow(np.linspace(0, 1, len(ys)))\n",
    "rainbow = [colors.rgb2hex(i) for i in colors_array]\n",
    "#rainbow = ['#00ff00', '#ff00ff','#0000ff','#ffa500' ,'#ff0000']\n",
    "Districts = ['Nagatacho', 'Nihonbashi', 'Shinjuku', 'Shinagawa', 'Shibuya']\n",
    "\n",
    "# add markers to the map\n",
    "for lat, lon, poi, cluster in zip(Tokyo_5_Dist_Coordinate_Cluster_merged['Dist_Latitude'], \n",
    "                                  Tokyo_5_Dist_Coordinate_Cluster_merged['Dist_Longitude'], \n",
    "                                  Tokyo_5_Dist_Coordinate_Cluster_merged['Major_District'], \n",
    "                                  Tokyo_5_Dist_Coordinate_Cluster_merged['Cluster Label']):\n",
    "    label = folium.Popup(str(poi) + ' Cluster ' + str(cluster), parse_html=True)\n",
    "    folium.CircleMarker(\n",
    "        [lat, lon],\n",
    "        radius=list_rest_no[Districts.index(poi)]*0.5,\n",
    "        popup=label,\n",
    "        color=rainbow[cluster-1],\n",
    "        fill=True,\n",
    "        fill_color=rainbow[cluster-1],\n",
    "        fill_opacity=0.7).add_to(map_restaurants10)\n",
    "       \n",
    "map_restaurants10"
   ]
  },
  {
   "cell_type": "code",
   "execution_count": 38,
   "metadata": {
    "ExecuteTime": {
     "end_time": "2020-08-03T20:36:15.094607Z",
     "start_time": "2020-08-03T20:36:15.085281Z"
    }
   },
   "outputs": [],
   "source": [
    "figs.append(dp.Plot(map_restaurants10))"
   ]
  },
  {
   "cell_type": "markdown",
   "metadata": {},
   "source": [
    "#### Final Map of 3 Clusters With Radius of the Clusters Representing Number of Restaurants in Each District\n",
    "![Tokyo_Final_Clusters](Tokyo_District_Clusters.png)"
   ]
  },
  {
   "cell_type": "markdown",
   "metadata": {},
   "source": [
    "### Explore the 3 Clusters "
   ]
  },
  {
   "cell_type": "markdown",
   "metadata": {},
   "source": [
    "#### Cluster 0"
   ]
  },
  {
   "cell_type": "code",
   "execution_count": 39,
   "metadata": {
    "ExecuteTime": {
     "end_time": "2020-08-03T20:36:15.109015Z",
     "start_time": "2020-08-03T20:36:15.095935Z"
    }
   },
   "outputs": [
    {
     "name": "stdout",
     "output_type": "stream",
     "text": [
      "No of Neighbourhood in Cluster Label 0: 1\n"
     ]
    },
    {
     "data": {
      "text/html": [
       "<div>\n",
       "<style scoped>\n",
       "    .dataframe tbody tr th:only-of-type {\n",
       "        vertical-align: middle;\n",
       "    }\n",
       "\n",
       "    .dataframe tbody tr th {\n",
       "        vertical-align: top;\n",
       "    }\n",
       "\n",
       "    .dataframe thead th {\n",
       "        text-align: right;\n",
       "    }\n",
       "</style>\n",
       "<table border=\"1\" class=\"dataframe\">\n",
       "  <thead>\n",
       "    <tr style=\"text-align: right;\">\n",
       "      <th></th>\n",
       "      <th>Major_District</th>\n",
       "      <th>Dist_Latitude</th>\n",
       "      <th>Dist_Longitude</th>\n",
       "      <th>Average_Price(SqKm)</th>\n",
       "      <th>Cluster Label</th>\n",
       "      <th>1st Most Common Venue</th>\n",
       "      <th>2nd Most Common Venue</th>\n",
       "      <th>3rd Most Common Venue</th>\n",
       "      <th>4th Most Common Venue</th>\n",
       "      <th>5th Most Common Venue</th>\n",
       "      <th>6th Most Common Venue</th>\n",
       "      <th>7th Most Common Venue</th>\n",
       "      <th>8th Most Common Venue</th>\n",
       "      <th>9th Most Common Venue</th>\n",
       "      <th>10th Most Common Venue</th>\n",
       "    </tr>\n",
       "  </thead>\n",
       "  <tbody>\n",
       "    <tr>\n",
       "      <th>4</th>\n",
       "      <td>Shinagawa</td>\n",
       "      <td>35.599252</td>\n",
       "      <td>139.73891</td>\n",
       "      <td>767398</td>\n",
       "      <td>0</td>\n",
       "      <td>Convenience Store</td>\n",
       "      <td>Ramen Restaurant</td>\n",
       "      <td>Sake Bar</td>\n",
       "      <td>Grocery Store</td>\n",
       "      <td>BBQ Joint</td>\n",
       "      <td>Park</td>\n",
       "      <td>Restaurant</td>\n",
       "      <td>Sushi Restaurant</td>\n",
       "      <td>Donburi Restaurant</td>\n",
       "      <td>Chinese Restaurant</td>\n",
       "    </tr>\n",
       "  </tbody>\n",
       "</table>\n",
       "</div>"
      ],
      "text/plain": [
       "  Major_District  Dist_Latitude  Dist_Longitude Average_Price(SqKm)  \\\n",
       "4      Shinagawa      35.599252       139.73891             767398    \n",
       "\n",
       "   Cluster Label 1st Most Common Venue 2nd Most Common Venue  \\\n",
       "4              0     Convenience Store      Ramen Restaurant   \n",
       "\n",
       "  3rd Most Common Venue 4th Most Common Venue 5th Most Common Venue  \\\n",
       "4              Sake Bar         Grocery Store             BBQ Joint   \n",
       "\n",
       "  6th Most Common Venue 7th Most Common Venue 8th Most Common Venue  \\\n",
       "4                  Park            Restaurant      Sushi Restaurant   \n",
       "\n",
       "  9th Most Common Venue 10th Most Common Venue  \n",
       "4    Donburi Restaurant     Chinese Restaurant  "
      ]
     },
     "execution_count": 39,
     "metadata": {},
     "output_type": "execute_result"
    }
   ],
   "source": [
    "Tokyo_Cluster1 = Tokyo_5_Dist_Coordinate_Cluster_merged.loc[Tokyo_5_Dist_Coordinate_Cluster_merged['Cluster Label'] == 0, \n",
    "                                    Tokyo_5_Dist_Coordinate_Cluster_merged.columns[[3] + list(range(4, Tokyo_5_Dist_Coordinate_Cluster_merged.shape[1]))]]\n",
    "print (\"No of Neighbourhood in Cluster Label 0: %d\" %(Tokyo_Cluster1.shape[0]))\n",
    "Tokyo_Cluster1"
   ]
  },
  {
   "cell_type": "markdown",
   "metadata": {},
   "source": [
    "#### Cluster 1"
   ]
  },
  {
   "cell_type": "code",
   "execution_count": 40,
   "metadata": {
    "ExecuteTime": {
     "end_time": "2020-08-03T20:36:15.128601Z",
     "start_time": "2020-08-03T20:36:15.110128Z"
    }
   },
   "outputs": [
    {
     "name": "stdout",
     "output_type": "stream",
     "text": [
      "No of Neighbourhood in Cluster Label 1: 3\n"
     ]
    },
    {
     "data": {
      "text/html": [
       "<div>\n",
       "<style scoped>\n",
       "    .dataframe tbody tr th:only-of-type {\n",
       "        vertical-align: middle;\n",
       "    }\n",
       "\n",
       "    .dataframe tbody tr th {\n",
       "        vertical-align: top;\n",
       "    }\n",
       "\n",
       "    .dataframe thead th {\n",
       "        text-align: right;\n",
       "    }\n",
       "</style>\n",
       "<table border=\"1\" class=\"dataframe\">\n",
       "  <thead>\n",
       "    <tr style=\"text-align: right;\">\n",
       "      <th></th>\n",
       "      <th>Major_District</th>\n",
       "      <th>Dist_Latitude</th>\n",
       "      <th>Dist_Longitude</th>\n",
       "      <th>Average_Price(SqKm)</th>\n",
       "      <th>Cluster Label</th>\n",
       "      <th>1st Most Common Venue</th>\n",
       "      <th>2nd Most Common Venue</th>\n",
       "      <th>3rd Most Common Venue</th>\n",
       "      <th>4th Most Common Venue</th>\n",
       "      <th>5th Most Common Venue</th>\n",
       "      <th>6th Most Common Venue</th>\n",
       "      <th>7th Most Common Venue</th>\n",
       "      <th>8th Most Common Venue</th>\n",
       "      <th>9th Most Common Venue</th>\n",
       "      <th>10th Most Common Venue</th>\n",
       "    </tr>\n",
       "  </thead>\n",
       "  <tbody>\n",
       "    <tr>\n",
       "      <th>1</th>\n",
       "      <td>Nagatacho</td>\n",
       "      <td>35.675618</td>\n",
       "      <td>139.743469</td>\n",
       "      <td>2705898</td>\n",
       "      <td>1</td>\n",
       "      <td>Japanese Restaurant</td>\n",
       "      <td>BBQ Joint</td>\n",
       "      <td>Chinese Restaurant</td>\n",
       "      <td>Szechuan Restaurant</td>\n",
       "      <td>Coffee Shop</td>\n",
       "      <td>Hotel</td>\n",
       "      <td>Ramen Restaurant</td>\n",
       "      <td>Yakitori Restaurant</td>\n",
       "      <td>Bar</td>\n",
       "      <td>Italian Restaurant</td>\n",
       "    </tr>\n",
       "    <tr>\n",
       "      <th>2</th>\n",
       "      <td>Nihonbashi</td>\n",
       "      <td>35.684058</td>\n",
       "      <td>139.774501</td>\n",
       "      <td>2699719</td>\n",
       "      <td>1</td>\n",
       "      <td>Japanese Restaurant</td>\n",
       "      <td>BBQ Joint</td>\n",
       "      <td>Hobby Shop</td>\n",
       "      <td>Café</td>\n",
       "      <td>Sushi Restaurant</td>\n",
       "      <td>French Restaurant</td>\n",
       "      <td>Soba Restaurant</td>\n",
       "      <td>Department Store</td>\n",
       "      <td>Gift Shop</td>\n",
       "      <td>Bakery</td>\n",
       "    </tr>\n",
       "    <tr>\n",
       "      <th>3</th>\n",
       "      <td>Shinjuku</td>\n",
       "      <td>35.693763</td>\n",
       "      <td>139.703632</td>\n",
       "      <td>939286</td>\n",
       "      <td>1</td>\n",
       "      <td>Bar</td>\n",
       "      <td>Sake Bar</td>\n",
       "      <td>Japanese Restaurant</td>\n",
       "      <td>BBQ Joint</td>\n",
       "      <td>Ramen Restaurant</td>\n",
       "      <td>Pub</td>\n",
       "      <td>Rock Club</td>\n",
       "      <td>Chinese Restaurant</td>\n",
       "      <td>Yoshoku Restaurant</td>\n",
       "      <td>Bed &amp; Breakfast</td>\n",
       "    </tr>\n",
       "  </tbody>\n",
       "</table>\n",
       "</div>"
      ],
      "text/plain": [
       "  Major_District  Dist_Latitude  Dist_Longitude Average_Price(SqKm)  \\\n",
       "1      Nagatacho      35.675618      139.743469            2705898    \n",
       "2     Nihonbashi      35.684058      139.774501            2699719    \n",
       "3       Shinjuku      35.693763      139.703632             939286    \n",
       "\n",
       "   Cluster Label 1st Most Common Venue 2nd Most Common Venue  \\\n",
       "1              1   Japanese Restaurant             BBQ Joint   \n",
       "2              1   Japanese Restaurant             BBQ Joint   \n",
       "3              1                   Bar              Sake Bar   \n",
       "\n",
       "  3rd Most Common Venue 4th Most Common Venue 5th Most Common Venue  \\\n",
       "1    Chinese Restaurant   Szechuan Restaurant           Coffee Shop   \n",
       "2            Hobby Shop                  Café      Sushi Restaurant   \n",
       "3   Japanese Restaurant             BBQ Joint      Ramen Restaurant   \n",
       "\n",
       "  6th Most Common Venue 7th Most Common Venue 8th Most Common Venue  \\\n",
       "1                 Hotel      Ramen Restaurant   Yakitori Restaurant   \n",
       "2     French Restaurant       Soba Restaurant      Department Store   \n",
       "3                   Pub             Rock Club    Chinese Restaurant   \n",
       "\n",
       "  9th Most Common Venue 10th Most Common Venue  \n",
       "1                   Bar     Italian Restaurant  \n",
       "2             Gift Shop                 Bakery  \n",
       "3    Yoshoku Restaurant        Bed & Breakfast  "
      ]
     },
     "execution_count": 40,
     "metadata": {},
     "output_type": "execute_result"
    }
   ],
   "source": [
    "Tokyo_Cluster2 = Tokyo_5_Dist_Coordinate_Cluster_merged.loc[Tokyo_5_Dist_Coordinate_Cluster_merged['Cluster Label'] == 1, \n",
    "                                    Tokyo_5_Dist_Coordinate_Cluster_merged.columns[[3] + list(range(4, Tokyo_5_Dist_Coordinate_Cluster_merged.shape[1]))]]\n",
    "print (\"No of Neighbourhood in Cluster Label 1: %d\" %(Tokyo_Cluster2.shape[0]))\n",
    "Tokyo_Cluster2"
   ]
  },
  {
   "cell_type": "markdown",
   "metadata": {},
   "source": [
    "#### Cluster 2"
   ]
  },
  {
   "cell_type": "code",
   "execution_count": 41,
   "metadata": {
    "ExecuteTime": {
     "end_time": "2020-08-03T20:36:15.150678Z",
     "start_time": "2020-08-03T20:36:15.129607Z"
    }
   },
   "outputs": [
    {
     "name": "stdout",
     "output_type": "stream",
     "text": [
      "No of Neighbourhood in Cluster Label 2: 1\n"
     ]
    },
    {
     "data": {
      "text/html": [
       "<div>\n",
       "<style scoped>\n",
       "    .dataframe tbody tr th:only-of-type {\n",
       "        vertical-align: middle;\n",
       "    }\n",
       "\n",
       "    .dataframe tbody tr th {\n",
       "        vertical-align: top;\n",
       "    }\n",
       "\n",
       "    .dataframe thead th {\n",
       "        text-align: right;\n",
       "    }\n",
       "</style>\n",
       "<table border=\"1\" class=\"dataframe\">\n",
       "  <thead>\n",
       "    <tr style=\"text-align: right;\">\n",
       "      <th></th>\n",
       "      <th>Major_District</th>\n",
       "      <th>Dist_Latitude</th>\n",
       "      <th>Dist_Longitude</th>\n",
       "      <th>Average_Price(SqKm)</th>\n",
       "      <th>Cluster Label</th>\n",
       "      <th>1st Most Common Venue</th>\n",
       "      <th>2nd Most Common Venue</th>\n",
       "      <th>3rd Most Common Venue</th>\n",
       "      <th>4th Most Common Venue</th>\n",
       "      <th>5th Most Common Venue</th>\n",
       "      <th>6th Most Common Venue</th>\n",
       "      <th>7th Most Common Venue</th>\n",
       "      <th>8th Most Common Venue</th>\n",
       "      <th>9th Most Common Venue</th>\n",
       "      <th>10th Most Common Venue</th>\n",
       "    </tr>\n",
       "  </thead>\n",
       "  <tbody>\n",
       "    <tr>\n",
       "      <th>5</th>\n",
       "      <td>Shibuya</td>\n",
       "      <td>35.664596</td>\n",
       "      <td>139.698711</td>\n",
       "      <td>1360332</td>\n",
       "      <td>2</td>\n",
       "      <td>Café</td>\n",
       "      <td>Record Shop</td>\n",
       "      <td>French Restaurant</td>\n",
       "      <td>Coffee Shop</td>\n",
       "      <td>Bar</td>\n",
       "      <td>BBQ Joint</td>\n",
       "      <td>Chinese Restaurant</td>\n",
       "      <td>Sushi Restaurant</td>\n",
       "      <td>Ramen Restaurant</td>\n",
       "      <td>Concert Hall</td>\n",
       "    </tr>\n",
       "  </tbody>\n",
       "</table>\n",
       "</div>"
      ],
      "text/plain": [
       "  Major_District  Dist_Latitude  Dist_Longitude Average_Price(SqKm)  \\\n",
       "5        Shibuya      35.664596      139.698711            1360332    \n",
       "\n",
       "   Cluster Label 1st Most Common Venue 2nd Most Common Venue  \\\n",
       "5              2                  Café           Record Shop   \n",
       "\n",
       "  3rd Most Common Venue 4th Most Common Venue 5th Most Common Venue  \\\n",
       "5     French Restaurant           Coffee Shop                   Bar   \n",
       "\n",
       "  6th Most Common Venue 7th Most Common Venue 8th Most Common Venue  \\\n",
       "5             BBQ Joint    Chinese Restaurant      Sushi Restaurant   \n",
       "\n",
       "  9th Most Common Venue 10th Most Common Venue  \n",
       "5      Ramen Restaurant           Concert Hall  "
      ]
     },
     "execution_count": 41,
     "metadata": {},
     "output_type": "execute_result"
    }
   ],
   "source": [
    "Tokyo_Cluster3 = Tokyo_5_Dist_Coordinate_Cluster_merged.loc[Tokyo_5_Dist_Coordinate_Cluster_merged['Cluster Label'] == 2, \n",
    "                                    Tokyo_5_Dist_Coordinate_Cluster_merged.columns[[3] + list(range(4, Tokyo_5_Dist_Coordinate_Cluster_merged.shape[1]))]]\n",
    "print (\"No of Neighbourhood in Cluster Label 2: %d\" %(Tokyo_Cluster3.shape[0]))\n",
    "Tokyo_Cluster3"
   ]
  },
  {
   "cell_type": "code",
   "execution_count": 42,
   "metadata": {
    "ExecuteTime": {
     "end_time": "2020-08-03T20:36:16.358128Z",
     "start_time": "2020-08-03T20:36:15.152013Z"
    }
   },
   "outputs": [
    {
     "name": "stdout",
     "output_type": "stream",
     "text": [
      "\u001b[32mLogged in to https://datapane.com/ as saptashwa\u001b[0m\r\n",
      "\u001b[0m"
     ]
    }
   ],
   "source": [
    "!datapane login --server=https://datapane.com/ --token=41380204b1d334b34c568ea016474f71dc6ddc25"
   ]
  },
  {
   "cell_type": "code",
   "execution_count": 43,
   "metadata": {
    "ExecuteTime": {
     "end_time": "2020-08-03T20:36:16.363051Z",
     "start_time": "2020-08-03T20:36:16.359883Z"
    }
   },
   "outputs": [],
   "source": [
    "figs.insert(0, dp.Markdown(f'''\n",
    "[Original article](https://towardsdatascience.com/exploring-the-tokyo-neighborhoods-data-science-in-real-life-8b6c2454ca16)\n",
    "\n",
    "[Github repo](https://github.com/suvoooo/Coursera_Capstone/blob/master/Week5/Capstone_Week4_Part2.ipynb)\n",
    "'''))"
   ]
  },
  {
   "cell_type": "code",
   "execution_count": 44,
   "metadata": {
    "ExecuteTime": {
     "end_time": "2020-08-03T20:36:19.052924Z",
     "start_time": "2020-08-03T20:36:16.364859Z"
    }
   },
   "outputs": [
    {
     "name": "stdout",
     "output_type": "stream",
     "text": [
      "Publishing report and associated data - please wait..\n",
      "Report successfully published at https://datapane.com/saptashwa/reports/tokyo/\n"
     ]
    }
   ],
   "source": [
    "dp.Report(*figs).publish(name='tokyo',\n",
    "                        headline='Exploring the Tokyo Neighbourhoods')"
   ]
  },
  {
   "cell_type": "code",
   "execution_count": null,
   "metadata": {},
   "outputs": [],
   "source": []
  }
 ],
 "metadata": {
  "kernelspec": {
   "display_name": "Python 3",
   "language": "python",
   "name": "python3"
  },
  "language_info": {
   "codemirror_mode": {
    "name": "ipython",
    "version": 3
   },
   "file_extension": ".py",
   "mimetype": "text/x-python",
   "name": "python",
   "nbconvert_exporter": "python",
   "pygments_lexer": "ipython3",
   "version": "3.8.3"
  },
  "latex_envs": {
   "LaTeX_envs_menu_present": true,
   "autoclose": false,
   "autocomplete": true,
   "bibliofile": "biblio.bib",
   "cite_by": "apalike",
   "current_citInitial": 1,
   "eqLabelWithNumbers": true,
   "eqNumInitial": 1,
   "hotkeys": {
    "equation": "Ctrl-E",
    "itemize": "Ctrl-I"
   },
   "labels_anchors": false,
   "latex_user_defs": false,
   "report_style_numbering": false,
   "user_envs_cfg": false
  },
  "toc": {
   "base_numbering": 1,
   "nav_menu": {},
   "number_sections": true,
   "sideBar": true,
   "skip_h1_title": false,
   "title_cell": "Table of Contents",
   "title_sidebar": "Contents",
   "toc_cell": false,
   "toc_position": {},
   "toc_section_display": true,
   "toc_window_display": false
  }
 },
 "nbformat": 4,
 "nbformat_minor": 2
}
